{
 "cells": [
  {
   "cell_type": "code",
   "execution_count": null,
   "metadata": {},
   "outputs": [],
   "source": [
    "from dataclasses import dataclass"
   ]
  },
  {
   "cell_type": "code",
   "execution_count": null,
   "metadata": {},
   "outputs": [],
   "source": [
    "@dataclass\n",
    "class BadNames:  # type: ignore\n",
    "    the_list: list\n",
    "\n",
    "    def get_them(self):\n",
    "        list1 = []\n",
    "        for x in self.the_list:\n",
    "            if x[1] == 1:\n",
    "                list1.append(x)\n",
    "        return list1"
   ]
  },
  {
   "cell_type": "code",
   "execution_count": null,
   "metadata": {},
   "outputs": [],
   "source": [
    "thing = BadNames([(i, 0, 0) for i in range(64)])\n",
    "thing.the_list[2] = (2, 1, 0)\n",
    "thing.get_them()"
   ]
  },
  {
   "cell_type": "code",
   "execution_count": null,
   "metadata": {},
   "outputs": [],
   "source": [
    "assert thing.get_them() == [(2, 1, 0)]"
   ]
  }
 ],
 "metadata": {
  "kernelspec": {
   "display_name": "cam",
   "language": "python",
   "name": "python3"
  },
  "language_info": {
   "codemirror_mode": {
    "name": "ipython",
    "version": 3
   },
   "file_extension": ".py",
   "mimetype": "text/x-python",
   "name": "python",
   "nbconvert_exporter": "python",
   "pygments_lexer": "ipython3",
   "version": "3.10.8"
  },
  "orig_nbformat": 4
 },
 "nbformat": 4,
 "nbformat_minor": 2
}
