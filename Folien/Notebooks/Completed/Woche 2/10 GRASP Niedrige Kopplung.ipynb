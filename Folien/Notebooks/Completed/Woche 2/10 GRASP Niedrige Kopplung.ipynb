{
 "cells": [
  {
   "cell_type": "markdown",
   "id": "d5e59b22bddad64a",
   "metadata": {
    "lang": "de",
    "slideshow": {
     "slide_type": "slide"
    },
    "tags": [
     "slide"
    ]
   },
   "source": [
    "\n",
    "<img src=\"data:image/svg+xml;base64,PHN2ZyB4bWxucz0iaHR0cDovL3d3dy53My5vcmcvMjAwMC9zdmciIHhtbG5zOnhsaW5rPSJodHRw\n",
    "Oi8vd3d3LnczLm9yZy8xOTk5L3hsaW5rIiB3aWR0aD0iMTExLjE2MSIgaGVpZ2h0PSIxMzQuNjY4\n",
    "IiB2ZXJzaW9uPSIxLjAiPjxkZWZzPjxsaW5lYXJHcmFkaWVudCBpZD0iYyI+PHN0b3Agb2Zmc2V0\n",
    "PSIwIiBzdHlsZT0ic3RvcC1jb2xvcjojYjhiOGI4O3N0b3Atb3BhY2l0eTouNDk4MDM5MjIiLz48\n",
    "c3RvcCBvZmZzZXQ9IjEiIHN0eWxlPSJzdG9wLWNvbG9yOiM3ZjdmN2Y7c3RvcC1vcGFjaXR5OjAi\n",
    "Lz48L2xpbmVhckdyYWRpZW50PjxsaW5lYXJHcmFkaWVudCBpZD0iYSI+PHN0b3Agb2Zmc2V0PSIw\n",
    "IiBzdHlsZT0ic3RvcC1jb2xvcjojZmZkNDNiO3N0b3Atb3BhY2l0eToxIi8+PHN0b3Agb2Zmc2V0\n",
    "PSIxIiBzdHlsZT0ic3RvcC1jb2xvcjojZmZlODczO3N0b3Atb3BhY2l0eToxIi8+PC9saW5lYXJH\n",
    "cmFkaWVudD48bGluZWFyR3JhZGllbnQgaWQ9ImIiPjxzdG9wIG9mZnNldD0iMCIgc3R5bGU9InN0\n",
    "b3AtY29sb3I6IzVhOWZkNDtzdG9wLW9wYWNpdHk6MSIvPjxzdG9wIG9mZnNldD0iMSIgc3R5bGU9\n",
    "InN0b3AtY29sb3I6IzMwNjk5ODtzdG9wLW9wYWNpdHk6MSIvPjwvbGluZWFyR3JhZGllbnQ+PGxp\n",
    "bmVhckdyYWRpZW50IHhsaW5rOmhyZWY9IiNhIiBpZD0iZSIgeDE9IjE1MC45NjEiIHgyPSIxMTIu\n",
    "MDMxIiB5MT0iMTkyLjM1MiIgeTI9IjEzNy4yNzMiIGdyYWRpZW50VHJhbnNmb3JtPSJtYXRyaXgo\n",
    "LjU2MjU0IDAgMCAuNTY3OTcgLTE0Ljk5MSAtMTEuNzAyKSIgZ3JhZGllbnRVbml0cz0idXNlclNw\n",
    "YWNlT25Vc2UiLz48bGluZWFyR3JhZGllbnQgeGxpbms6aHJlZj0iI2IiIGlkPSJkIiB4MT0iMjYu\n",
    "NjQ5IiB4Mj0iMTM1LjY2NSIgeTE9IjIwLjYwNCIgeTI9IjExNC4zOTgiIGdyYWRpZW50VHJhbnNm\n",
    "b3JtPSJtYXRyaXgoLjU2MjU0IDAgMCAuNTY3OTcgLTE0Ljk5MSAtMTEuNzAyKSIgZ3JhZGllbnRV\n",
    "bml0cz0idXNlclNwYWNlT25Vc2UiLz48cmFkaWFsR3JhZGllbnQgeGxpbms6aHJlZj0iI2MiIGlk\n",
    "PSJmIiBjeD0iNjEuNTE5IiBjeT0iMTMyLjI4NiIgcj0iMjkuMDM3IiBmeD0iNjEuNTE5IiBmeT0i\n",
    "MTMyLjI4NiIgZ3JhZGllbnRUcmFuc2Zvcm09Im1hdHJpeCgwIC0uMjM5OTUgMS4wNTQ2NyAwIC04\n",
    "My43IDE0Mi40NjIpIiBncmFkaWVudFVuaXRzPSJ1c2VyU3BhY2VPblVzZSIvPjwvZGVmcz48cGF0\n",
    "aCBkPSJNNTQuOTE5IDBjLTQuNTg0LjAyMi04Ljk2MS40MTMtMTIuODEzIDEuMDk1QzMwLjc2IDMu\n",
    "MDk5IDI4LjcgNy4yOTUgMjguNyAxNS4wMzJ2MTAuMjE5aDI2LjgxM3YzLjQwNkgxOC42MzhjLTcu\n",
    "NzkzIDAtMTQuNjE2IDQuNjg0LTE2Ljc1IDEzLjU5NC0yLjQ2MiAxMC4yMTMtMi41NzEgMTYuNTg2\n",
    "IDAgMjcuMjUgMS45MDUgNy45MzggNi40NTcgMTMuNTk0IDE0LjI1IDEzLjU5NGg5LjIxOHYtMTIu\n",
    "MjVjMC04Ljg1IDcuNjU3LTE2LjY1NyAxNi43NS0xNi42NTdoMjYuNzgyYzcuNDU0IDAgMTMuNDA2\n",
    "LTYuMTM4IDEzLjQwNi0xMy42MjV2LTI1LjUzYzAtNy4yNjctNi4xMy0xMi43MjYtMTMuNDA2LTEz\n",
    "LjkzOEM2NC4yODIuMzI4IDU5LjUwMi0uMDIgNTQuOTE4IDBtLTE0LjUgOC4yMmMyLjc3IDAgNS4w\n",
    "MzEgMi4yOTggNS4wMzEgNS4xMjUgMCAyLjgxNi0yLjI2MiA1LjA5My01LjAzMSA1LjA5My0yLjc4\n",
    "IDAtNS4wMzEtMi4yNzctNS4wMzEtNS4wOTMgMC0yLjgyNyAyLjI1MS01LjEyNSA1LjAzLTUuMTI1\n",
    "IiBzdHlsZT0iZmlsbDp1cmwoI2QpO2ZpbGwtb3BhY2l0eToxIi8+PHBhdGggZD0iTTg1LjYzOCAy\n",
    "OC42NTd2MTEuOTA2YzAgOS4yMzEtNy44MjYgMTctMTYuNzUgMTdINDIuMTA2Yy03LjMzNiAwLTEz\n",
    "LjQwNiA2LjI3OS0xMy40MDYgMTMuNjI1Vjk2LjcyYzAgNy4yNjYgNi4zMTkgMTEuNTQgMTMuNDA2\n",
    "IDEzLjYyNSA4LjQ4OCAyLjQ5NSAxNi42MjcgMi45NDYgMjYuNzgyIDAgNi43NS0xLjk1NSAxMy40\n",
    "MDYtNS44ODggMTMuNDA2LTEzLjYyNVY4Ni41SDU1LjUxM3YtMy40MDVIOTUuN2M3Ljc5MyAwIDEw\n",
    "LjY5Ni01LjQzNiAxMy40MDYtMTMuNTk0IDIuOC04LjM5OSAyLjY4LTE2LjQ3NiAwLTI3LjI1LTEu\n",
    "OTI1LTcuNzU4LTUuNjA0LTEzLjU5NC0xMy40MDYtMTMuNTk0ek03MC41NzUgOTMuMzEzYzIuNzgg\n",
    "MCA1LjAzMSAyLjI3OCA1LjAzMSA1LjA5NCAwIDIuODI3LTIuMjUxIDUuMTI1LTUuMDMxIDUuMTI1\n",
    "LTIuNzcgMC01LjAzMS0yLjI5OC01LjAzMS01LjEyNSAwLTIuODE2IDIuMjYxLTUuMDk0IDUuMDMx\n",
    "LTUuMDk0IiBzdHlsZT0iZmlsbDp1cmwoI2UpO2ZpbGwtb3BhY2l0eToxIi8+PGVsbGlwc2UgY3g9\n",
    "IjU1LjgxNyIgY3k9IjEyNy43MDEiIHJ4PSIzNS45MzEiIHJ5PSI2Ljk2NyIgc3R5bGU9Im9wYWNp\n",
    "dHk6LjQ0MzgyO2ZpbGw6dXJsKCNmKTtmaWxsLW9wYWNpdHk6MTtmaWxsLXJ1bGU6bm9uemVybztz\n",
    "dHJva2U6bm9uZTtzdHJva2Utd2lkdGg6MTUuNDE3NDtzdHJva2UtbWl0ZXJsaW1pdDo0O3N0cm9r\n",
    "ZS1kYXNoYXJyYXk6bm9uZTtzdHJva2Utb3BhY2l0eToxIi8+PC9zdmc+\n",
    "\"\n",
    "     style=\"display:block;margin:auto;width:10%\" alt=\"Python Logo\"/>\n",
    "<br>\n",
    "\n",
    "<div style=\"text-align:center; font-size:200%;\">\n",
    " <b>GRASP: Niedrige Kopplung</b>\n",
    "</div>\n",
    "<br/>\n",
    "<div style=\"text-align:center;\">Dr. Matthias Hölzl</div>\n",
    "<br/>"
   ]
  },
  {
   "cell_type": "markdown",
   "id": "569e533ab7e251e5",
   "metadata": {
    "lang": "de",
    "slideshow": {
     "slide_type": "subslide"
    },
    "tags": [
     "subslide"
    ]
   },
   "source": [
    "\n",
    "### Aktueller Stand des Adventure-Spiels\n",
    "\n",
    "- `examples/GraspAdventure/src/grasp_adventure/v1`\n",
    "- Klassen `Location` und `World`\n",
    "- `World` erzeugt `Location`-Objekte (Creator)\n",
    "- `World` kann `Location`-Objekte finden (Information Expert)"
   ]
  },
  {
   "cell_type": "markdown",
   "id": "aaf7ba06df7a11da",
   "metadata": {
    "lang": "de",
    "slideshow": {
     "slide_type": "subslide"
    },
    "tags": [
     "subslide"
    ]
   },
   "source": [
    "\n",
    "### Nächster Schritt\n",
    "\n",
    "- Verbinden der `Location`-Objekte\n",
    "- Zwei neue Verantwortlichkeiten:\n",
    "  - Erstellen der Verbindungen (Doing)\n",
    "  - Speichern der Verbindungen (Knowing)"
   ]
  },
  {
   "cell_type": "markdown",
   "id": "f355cb01912bacde",
   "metadata": {
    "lang": "de",
    "slideshow": {
     "slide_type": "subslide"
    },
    "tags": [
     "subslide"
    ]
   },
   "source": [
    "\n",
    "### Wer soll die Verbindungen erzeugen?\n",
    "\n",
    "**Creator:** Wer hat die Initialisierungsdaten?\n",
    "\n",
    "<ul class=\"fragment\">\n",
    " <li> <code>World</code> </li>\n",
    " <li> (Wir brauchen die Daten aller Locations) </li>\n",
    "</ul>"
   ]
  },
  {
   "cell_type": "markdown",
   "id": "c6f42f2428b10028",
   "metadata": {
    "lang": "de",
    "slideshow": {
     "slide_type": "subslide"
    },
    "tags": [
     "subslide"
    ]
   },
   "source": [
    "\n",
    "### Wer soll die Verbindungen speichern?\n",
    "\n",
    "<p class=\"fragment\"><b>Information Expert:</b> Wer hat die Daten?</p>\n",
    "\n",
    "<ul class=\"fragment\">\n",
    "  <li>Die Klasse mit den meisten Informationen</li>\n",
    "  <li class=\"fragment\"><code>World</code> erzeugt alle Verbindungsdaten</li>\n",
    "  <li class=\"fragment\">Daher ist World der Information Expert</li>\n",
    "  <li class=\"fragment\">\n",
    "    Die Verbindungsdaten werden in <code>World</code> gespeichert\n",
    "  </li>\n",
    "</ul>"
   ]
  },
  {
   "cell_type": "markdown",
   "id": "62bcaa04359156ad",
   "metadata": {
    "lang": "de",
    "slideshow": {
     "slide_type": "subslide"
    },
    "tags": [
     "subslide"
    ]
   },
   "source": [
    "\n",
    "**Das ist keine Richtige Anwendung von Information Expert!**"
   ]
  },
  {
   "cell_type": "markdown",
   "id": "0fcd3fcba8757fa2",
   "metadata": {
    "lang": "de",
    "slideshow": {
     "slide_type": "subslide"
    },
    "tags": [
     "subslide"
    ]
   },
   "source": [
    "\n",
    "### Implementierung"
   ]
  },
  {
   "cell_type": "code",
   "execution_count": null,
   "id": "1370062e3b242e29",
   "metadata": {
    "tags": [
     "keep"
    ]
   },
   "outputs": [],
   "source": [
    "import json\n",
    "from dataclasses import dataclass, field\n",
    "from pathlib import Path\n",
    "from pprint import pprint\n",
    "from typing import Any, Mapping, Sequence, TypeAlias"
   ]
  },
  {
   "cell_type": "code",
   "execution_count": null,
   "id": "076997a98c4e9424",
   "metadata": {
    "tags": [
     "keep"
    ]
   },
   "outputs": [],
   "source": [
    "json_file = list(Path().glob(\"**/simple-locations.json\"))[0]\n",
    "with open(json_file) as file:\n",
    "    simple_locations = json.load(file)"
   ]
  },
  {
   "cell_type": "code",
   "execution_count": null,
   "id": "2ee2bce2e91b263a",
   "metadata": {
    "slideshow": {
     "slide_type": "subslide"
    },
    "tags": [
     "keep",
     "subslide"
    ]
   },
   "outputs": [],
   "source": [
    "LocationDescription: TypeAlias = Mapping[str, Any]\n",
    "LocationDescriptions: TypeAlias = Sequence[LocationDescription]"
   ]
  },
  {
   "cell_type": "code",
   "execution_count": null,
   "id": "32665939e5c94f92",
   "metadata": {
    "lines_to_next_cell": 2,
    "slideshow": {
     "slide_type": "subslide"
    },
    "tags": [
     "keep",
     "subslide"
    ]
   },
   "outputs": [],
   "source": [
    "@dataclass\n",
    "class Location:\n",
    "    name: str\n",
    "    description: str = \"\"\n",
    "\n",
    "    @classmethod\n",
    "    def from_description(cls, description: LocationDescription) -> \"Location\":\n",
    "        return cls(description[\"name\"], description.get(\"description\", \"\"))"
   ]
  },
  {
   "cell_type": "code",
   "execution_count": null,
   "id": "6d75c91bc2dee227",
   "metadata": {
    "lines_to_next_cell": 2,
    "slideshow": {
     "slide_type": "subslide"
    },
    "tags": [
     "subslide",
     "keep"
    ]
   },
   "outputs": [],
   "source": [
    "@dataclass\n",
    "class World:\n",
    "    locations: dict[str, Location]\n",
    "    initial_location_name: str\n",
    "    connections: dict[str, dict[str, Location]] = field(default_factory=dict)\n",
    "\n",
    "    def __getitem__(self, location_name: str):\n",
    "        \"\"\"Get a location by name.\"\"\"\n",
    "        return self.locations[location_name]\n",
    "\n",
    "    @classmethod\n",
    "    def from_location_descriptions(\n",
    "        cls, location_descriptions: LocationDescriptions\n",
    "    ) -> \"World\":\n",
    "        \"\"\"Create a World from a description of its locations.\"\"\"\n",
    "\n",
    "        return _world_from_location_descriptions(location_descriptions)\n",
    "\n",
    "    def connection(self, location: Location, direction: str) -> Location | None:\n",
    "        \"\"\"Return the connected location in a given direction, or `None`.\"\"\"\n",
    "        return self.connections[location.name].get(direction)"
   ]
  },
  {
   "cell_type": "code",
   "execution_count": null,
   "id": "3a931b780f750576",
   "metadata": {
    "lines_to_next_cell": 2,
    "slideshow": {
     "slide_type": "subslide"
    },
    "tags": [
     "keep",
     "subslide"
    ]
   },
   "outputs": [],
   "source": [
    "def _world_from_location_descriptions(location_descriptions):\n",
    "    locations = {\n",
    "        data[\"name\"]: Location.from_description(data) for data in location_descriptions\n",
    "    }\n",
    "    initial_location_name = location_descriptions[0][\"name\"]\n",
    "    result = World(locations, initial_location_name)\n",
    "    _build_connections_for_all_locations(result, location_descriptions)\n",
    "    return result"
   ]
  },
  {
   "cell_type": "code",
   "execution_count": null,
   "id": "d85c2b3208149d70",
   "metadata": {
    "slideshow": {
     "slide_type": "subslide"
    },
    "tags": [
     "keep",
     "subslide"
    ]
   },
   "outputs": [],
   "source": [
    "def _build_connections_for_all_locations(world, location_descriptions):\n",
    "    for ld in location_descriptions:\n",
    "        world.connections[ld[\"name\"]] = {\n",
    "            direction: world[loc_name]\n",
    "            for direction, loc_name in ld.get(\"connections\", {}).items()\n",
    "        }"
   ]
  },
  {
   "cell_type": "markdown",
   "id": "9ecfa49add2e198d",
   "metadata": {
    "lang": "de",
    "slideshow": {
     "slide_type": "subslide"
    },
    "tags": [
     "subslide"
    ]
   },
   "source": [
    "\n",
    "### Erzeugen von `World`-Instanzen"
   ]
  },
  {
   "cell_type": "code",
   "execution_count": null,
   "id": "69f4a3cd065fae5e",
   "metadata": {
    "tags": [
     "keep"
    ]
   },
   "outputs": [],
   "source": [
    "world = World.from_location_descriptions(simple_locations)"
   ]
  },
  {
   "cell_type": "code",
   "execution_count": null,
   "id": "cd7b2b8e2d55948e",
   "metadata": {},
   "outputs": [],
   "source": [
    "world"
   ]
  },
  {
   "cell_type": "code",
   "execution_count": null,
   "id": "29dada5d1d027476",
   "metadata": {},
   "outputs": [],
   "source": [
    "pprint(world.connections)"
   ]
  },
  {
   "cell_type": "code",
   "execution_count": null,
   "id": "e29b0e6d672db4cc",
   "metadata": {},
   "outputs": [],
   "source": [
    "room1 = world[\"Room 1\"]\n",
    "room1"
   ]
  },
  {
   "cell_type": "code",
   "execution_count": null,
   "id": "3eb4167ce0f955c1",
   "metadata": {},
   "outputs": [],
   "source": [
    "room2 = world[\"Room 2\"]\n",
    "room2"
   ]
  },
  {
   "cell_type": "markdown",
   "id": "cf35b06a4a5a4e43",
   "metadata": {
    "lang": "de",
    "slideshow": {
     "slide_type": "subslide"
    },
    "tags": [
     "subslide"
    ]
   },
   "source": [
    "\n",
    "### Was ist das Problem?\n",
    "\n",
    "- Was ist der häufigste Anwendungsfall, bei dem Verbindungen benötigt werden?\n",
    "  - Navigation von der Location, auf der ein Pawn steht zu einer anderen\n",
    "    Location\n",
    "- Wie geht das mit dieser Implementierung?"
   ]
  },
  {
   "cell_type": "code",
   "execution_count": null,
   "id": "6486e83ed6f78ecc",
   "metadata": {},
   "outputs": [],
   "source": [
    "world.connection(room1, \"north\")"
   ]
  },
  {
   "cell_type": "markdown",
   "id": "f703b9d62ef31f7c",
   "metadata": {
    "lang": "de",
    "slideshow": {
     "slide_type": "subslide"
    },
    "tags": [
     "subslide"
    ]
   },
   "source": [
    "\n",
    "### Wie können wir das vermeiden?\n",
    "\n",
    "- Verlagern der Verantwortlichkeit für die Navigation\n",
    "- Jede `Location` kennt ihre ausgehenden Verbindungen"
   ]
  },
  {
   "cell_type": "markdown",
   "id": "eff7dad757ecb78e",
   "metadata": {
    "lang": "de",
    "slideshow": {
     "slide_type": "subslide"
    },
    "tags": [
     "subslide"
    ]
   },
   "source": [
    "\n",
    "### Implementierung"
   ]
  },
  {
   "cell_type": "code",
   "execution_count": null,
   "id": "e31406e35e2f2ff9",
   "metadata": {
    "lines_to_next_cell": 2,
    "tags": [
     "keep"
    ]
   },
   "outputs": [],
   "source": [
    "@dataclass\n",
    "class World:\n",
    "    locations: dict[str, Location]\n",
    "    initial_location_name: str\n",
    "\n",
    "    def __getitem__(self, location_name: str):\n",
    "        \"\"\"Get a location by name.\"\"\"\n",
    "        return self.locations[location_name]\n",
    "\n",
    "    @classmethod\n",
    "    def from_location_descriptions(\n",
    "        cls, location_descriptions: LocationDescriptions\n",
    "    ) -> \"World\":\n",
    "        \"\"\"Create a World from a description of its locations.\"\"\"\n",
    "\n",
    "        return _world_from_location_descriptions(location_descriptions)"
   ]
  },
  {
   "cell_type": "code",
   "execution_count": null,
   "id": "54f413acaada7363",
   "metadata": {
    "slideshow": {
     "slide_type": "subslide"
    },
    "tags": [
     "keep",
     "subslide"
    ]
   },
   "outputs": [],
   "source": [
    "@dataclass\n",
    "class Location:\n",
    "    name: str\n",
    "    description: str = \"\"\n",
    "\n",
    "    @classmethod\n",
    "    def from_description(cls, data: LocationDescription) -> \"Location\":\n",
    "        return cls(data[\"name\"], data.get(\"description\", \"\"))"
   ]
  },
  {
   "cell_type": "code",
   "execution_count": null,
   "id": "2f7821fdc1fb9ed9",
   "metadata": {
    "lines_to_next_cell": 2,
    "tags": [
     "keep",
     "alt"
    ]
   },
   "outputs": [],
   "source": [
    "@dataclass\n",
    "class Location:\n",
    "    name: str\n",
    "    description: str = \"\"\n",
    "    connections: dict[str, \"Location\"] = field(default_factory=dict)\n",
    "\n",
    "    @classmethod\n",
    "    def from_description(cls, data: LocationDescription) -> \"Location\":\n",
    "        return cls(data[\"name\"], data.get(\"description\", \"\"))\n",
    "\n",
    "    def __getitem__(self, direction: str) -> \"Location | None\":\n",
    "        return self.connections.get(direction)"
   ]
  },
  {
   "cell_type": "code",
   "execution_count": null,
   "id": "e20b7b600fd4667f",
   "metadata": {
    "lines_to_next_cell": 2,
    "slideshow": {
     "slide_type": "subslide"
    },
    "tags": [
     "keep",
     "subslide"
    ]
   },
   "outputs": [],
   "source": [
    "def _world_from_location_descriptions(location_descriptions: LocationDescriptions):\n",
    "    locations = {\n",
    "        data[\"name\"]: Location.from_description(data) for data in location_descriptions\n",
    "    }\n",
    "    initial_location_name = location_descriptions[0][\"name\"]\n",
    "    _build_connections_for_all_locations(locations, location_descriptions)\n",
    "    return World(locations, initial_location_name)"
   ]
  },
  {
   "cell_type": "code",
   "execution_count": null,
   "id": "ff3c5384aef68965",
   "metadata": {
    "slideshow": {
     "slide_type": "subslide"
    },
    "tags": [
     "keep",
     "subslide"
    ]
   },
   "outputs": [],
   "source": [
    "def _build_connections_for_all_locations(\n",
    "    locations: dict[str, Location], location_descriptions: LocationDescriptions\n",
    "):\n",
    "    for location_description in location_descriptions:\n",
    "        connections = {\n",
    "            direction: locations[name]\n",
    "            for direction, name in location_description.get(\"connections\", {}).items()\n",
    "        }\n",
    "        locations[location_description[\"name\"]].connections = connections"
   ]
  },
  {
   "cell_type": "markdown",
   "id": "f1bd51cf70b1c815",
   "metadata": {
    "lang": "de",
    "slideshow": {
     "slide_type": "subslide"
    },
    "tags": [
     "subslide"
    ]
   },
   "source": [
    "\n",
    "### Wie können wir die Klasse jetzt verwenden?"
   ]
  },
  {
   "cell_type": "code",
   "execution_count": null,
   "id": "92f97ad89efaac35",
   "metadata": {
    "tags": [
     "keep"
    ]
   },
   "outputs": [],
   "source": [
    "world = World.from_location_descriptions(simple_locations)"
   ]
  },
  {
   "cell_type": "code",
   "execution_count": null,
   "id": "97a70615ac287d73",
   "metadata": {},
   "outputs": [],
   "source": [
    "pprint(world)"
   ]
  },
  {
   "cell_type": "code",
   "execution_count": null,
   "id": "4a9dfacd3eaf2236",
   "metadata": {
    "slideshow": {
     "slide_type": "subslide"
    },
    "tags": [
     "subslide",
     "keep"
    ]
   },
   "outputs": [],
   "source": [
    "room1 = world[\"Room 1\"]\n",
    "room1"
   ]
  },
  {
   "cell_type": "code",
   "execution_count": null,
   "id": "b989ede26e3cd458",
   "metadata": {
    "tags": [
     "keep"
    ]
   },
   "outputs": [],
   "source": [
    "room2 = world[\"Room 2\"]\n",
    "room2"
   ]
  },
  {
   "cell_type": "code",
   "execution_count": null,
   "id": "c895a9192207ebf6",
   "metadata": {},
   "outputs": [],
   "source": [
    "room1[\"north\"]"
   ]
  },
  {
   "cell_type": "markdown",
   "id": "5cd774b497ab41b2",
   "metadata": {
    "lang": "de",
    "slideshow": {
     "slide_type": "subslide"
    },
    "tags": [
     "subslide"
    ]
   },
   "source": [
    "\n",
    "### Hat uns Information Expert in die Irre geführt?\n",
    "\n",
    "<ul>\n",
    "  <li class=\"fragment\">\n",
    "    Nein. Er sagt in dieser Situation nichts aus.\n",
    "  </li>\n",
    "  <li class=\"fragment\" style=\"list-style: none;\">\n",
    "    <ul>\n",
    "      <li>\n",
    "        Die Verantwortung, die wir zuweisen wollen, ist das Speichern der\n",
    "        Verbindungen\n",
    "      </li>\n",
    "      <li>\n",
    "        Keine Klasse hat im Moment wirklich die Information,\n",
    "        die wir speichern wollen\n",
    "      </li>\n",
    "    </ul>\n",
    "  </li>\n",
    "  <li class=\"fragment\">\n",
    "    Niedrige Repräsentationslücke ist ein besserer Leitfaden\n",
    "  <li class=\"fragment\" style=\"list-style: none;\">\n",
    "    <ul>\n",
    "      <li>Jede Verbindung ist eine Beziehung zwischen zwei Locations</li>\n",
    "      <li>\n",
    "        Daher ist <code>Location</code> ein mindestens genauso gute\n",
    "        Wahl wie <code>World</code>\n",
    "      </li>\n",
    "    </ul>\n",
    "  </li>\n",
    "</ul>"
   ]
  },
  {
   "cell_type": "markdown",
   "id": "1d2d442165c352af",
   "metadata": {
    "lang": "de",
    "slideshow": {
     "slide_type": "subslide"
    },
    "tags": [
     "subslide"
    ]
   },
   "source": [
    "<div style=\"float:left;margin:auto;padding:80px 0;width:25%\">\n",
    "<p>\n",
    "  Im Domänenmodell ist die benötigte\n",
    "  Information als Assoziation der Klasse\n",
    "  <code>Location</code> mit sich selbst\n",
    "</p>\n",
    "</div>\n",
    "<img src=\"img/adv-domain-03-small.svg\"\n",
    "     style=\"float:right;margin:auto;width:70%\"/>"
   ]
  },
  {
   "cell_type": "markdown",
   "id": "14d258b1d0bf308d",
   "metadata": {
    "lang": "de",
    "slideshow": {
     "slide_type": "subslide"
    },
    "tags": [
     "subslide"
    ]
   },
   "source": [
    "\n",
    "### Merkregel: Lokale Informationen ist besser als globaler Zustand\n",
    "\n",
    "- Versuchen Sie, die Verantwortlichkeit für Informationen möglichst lokal zu\n",
    "  halten\n",
    "- Das verringert fast immer die Kopplung im System\n",
    "- Vermeiden Sie Strukturen wie das `connections` Dictionary in der ersten Lösung"
   ]
  },
  {
   "cell_type": "markdown",
   "id": "9c696828541c1718",
   "metadata": {
    "lang": "de",
    "slideshow": {
     "slide_type": "subslide"
    },
    "tags": [
     "subslide"
    ]
   },
   "source": [
    "\n",
    "## Niedrige Kopplung (Low Coupling, GRASP)\n",
    "\n",
    "### Frage\n",
    "\n",
    "Wie können wir den negativen Einfluss von Änderungen minimieren?\n",
    "\n",
    "### Antwort\n",
    "\n",
    "Weise Verantwortlichkeiten so zu, dass die (unnötige) Kopplung minimiert wird"
   ]
  },
  {
   "cell_type": "markdown",
   "id": "1ebac085ee850eaa",
   "metadata": {
    "lang": "de",
    "slideshow": {
     "slide_type": "subslide"
    },
    "tags": [
     "subslide"
    ]
   },
   "source": [
    "\n",
    "### Kommentare\n",
    "\n",
    "- Kopplung gibt an, wie stark die Abhängigkeiten zwischen zwei Artefakten\n",
    "  sind (Funktionen, Klassen, Module, ...)\n",
    "- Es gibt [viele verschiedene\n",
    "  Arten](https://en.wikipedia.org/wiki/Coupling_(computer_programming)#Types_of_coupling)\n",
    "  von Kopplung\n",
    "- Enge Kopplung\n",
    "  - Verhindert, dass wir Teile des Systems unabhängig voneinander verstehen\n",
    "    und ändern können\n",
    "  - Veranlasst, dass Änderungen sich durch das ganze System durchziehen\n",
    "- Lose Kopplung\n",
    "  - Ist besonders wichtig von *stabilen* zu *instabilen* Teilen des Systems"
   ]
  },
  {
   "cell_type": "markdown",
   "id": "edd833daa2fe91a0",
   "metadata": {
    "lang": "de",
    "slideshow": {
     "slide_type": "subslide"
    },
    "tags": [
     "subslide"
    ]
   },
   "source": [
    "\n",
    "### Vermeidung von Kopplung\n",
    "\n",
    "- Ein gewisses Maß an Kopplung ist **unvermeidlich**\n",
    "  - Wann immer zwei Komponenten zusammenarbeiten entsteht Kopplung\n",
    "- Enge Kopplung an **stabile** Komponenten ist typischerweise kein Problem\n",
    "  - Beispiel: Python Standardbibliothek\n",
    "- Enge Kopplung auf lokaler Ebene\n",
    "  - Ist nicht gut, aber oft kein großes Problem\n",
    "  - Kann typischerweise relativ leicht behoben werden\n",
    "- Enge Kopplung auf globaler Ebene\n",
    "  - Ist sehr schwer zu beseitigen\n",
    "  - Sollte während der Entwicklung immer im Fokus sein"
   ]
  },
  {
   "cell_type": "markdown",
   "id": "e8713bb8b6fbff0b",
   "metadata": {
    "lang": "de",
    "slideshow": {
     "slide_type": "subslide"
    },
    "tags": [
     "subslide"
    ]
   },
   "source": [
    "\n",
    "### Wie können wir Kopplung vermeiden?\n",
    "\n",
    "- GRASP: Creator, Information Expert\n",
    "- SOLID:\n",
    "  - Single Responsibility Principle\n",
    "  - Interface Segregation Principle\n",
    "  - Dependency Inversion Principle"
   ]
  },
  {
   "cell_type": "markdown",
   "id": "b4376e736c54822f",
   "metadata": {
    "lang": "de",
    "slideshow": {
     "slide_type": "subslide"
    },
    "tags": [
     "subslide"
    ]
   },
   "source": [
    "\n",
    "## Niedrige Kopplung zur Evaluierung von Design-Alternativen\n",
    "\n",
    "- Evaluatives Kriterium\n",
    "- Die Design-Alternative mit der niedrigsten Kopplung ist of eine gute Wahl"
   ]
  },
  {
   "cell_type": "markdown",
   "id": "d344c865dc0c9f68",
   "metadata": {
    "lang": "de",
    "slideshow": {
     "slide_type": "subslide"
    },
    "tags": [
     "subslide"
    ]
   },
   "source": [
    "\n",
    "### Beispiel\n",
    "\n",
    "<ul>\n",
    "  <li>\n",
    "    Evaluierung der Design-Alternativen für die Navigation in unserem Text-Adventure:\n",
    "    <ul>\n",
    "      <li><code>world.connection(room1, \"north\")</code></li>\n",
    "      <li><code>room1[\"north\"]</code></li>\n",
    "    </ul>\n",
    "  </li>\n",
    "  <li>Welches Design ist besser?\n",
    "    <ul>\n",
    "      <li>(Unabhängig von den vorherigen Überlegungen)</li>\n",
    "    </ul>\n",
    "  </li>\n",
    "  <li class=\"fragment\">\n",
    "    Das erste Design hat eine unnötige Kopplung an <code>World</code> an jeder\n",
    "    Stelle, wo wir benachbarte Orte finden müssen\n",
    "  </li>\n",
    "</ul>"
   ]
  }
 ],
 "metadata": {
  "jupytext": {
   "cell_metadata_filter": "lang,tags,-all",
   "main_language": "python",
   "notebook_metadata_filter": "-all"
  },
  "kernelspec": {
   "display_name": "Python 3 (ipykernel)",
   "language": "python",
   "name": "python3"
  },
  "language_info": {
   "codemirror_mode": {
    "name": "ipython",
    "version": 3
   },
   "file_extension": ".py",
   "mimetype": "text/x-python",
   "name": "python",
   "nbconvert_exporter": "python",
   "pygments_lexer": "ipython3"
  }
 },
 "nbformat": 4,
 "nbformat_minor": 5
}
