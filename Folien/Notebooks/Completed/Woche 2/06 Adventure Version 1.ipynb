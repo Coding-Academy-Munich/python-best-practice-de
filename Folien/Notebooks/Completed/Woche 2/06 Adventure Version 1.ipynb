{
 "cells": [
  {
   "cell_type": "markdown",
   "id": "8e9c59902cd406fe",
   "metadata": {
    "lang": "de",
    "slideshow": {
     "slide_type": "slide"
    },
    "tags": [
     "slide"
    ]
   },
   "source": [
    "\n",
    "<img src=\"data:image/svg+xml;base64,PHN2ZyB4bWxucz0iaHR0cDovL3d3dy53My5vcmcvMjAwMC9zdmciIHhtbG5zOnhsaW5rPSJodHRw\n",
    "Oi8vd3d3LnczLm9yZy8xOTk5L3hsaW5rIiB3aWR0aD0iMTExLjE2MSIgaGVpZ2h0PSIxMzQuNjY4\n",
    "IiB2ZXJzaW9uPSIxLjAiPjxkZWZzPjxsaW5lYXJHcmFkaWVudCBpZD0iYyI+PHN0b3Agb2Zmc2V0\n",
    "PSIwIiBzdHlsZT0ic3RvcC1jb2xvcjojYjhiOGI4O3N0b3Atb3BhY2l0eTouNDk4MDM5MjIiLz48\n",
    "c3RvcCBvZmZzZXQ9IjEiIHN0eWxlPSJzdG9wLWNvbG9yOiM3ZjdmN2Y7c3RvcC1vcGFjaXR5OjAi\n",
    "Lz48L2xpbmVhckdyYWRpZW50PjxsaW5lYXJHcmFkaWVudCBpZD0iYSI+PHN0b3Agb2Zmc2V0PSIw\n",
    "IiBzdHlsZT0ic3RvcC1jb2xvcjojZmZkNDNiO3N0b3Atb3BhY2l0eToxIi8+PHN0b3Agb2Zmc2V0\n",
    "PSIxIiBzdHlsZT0ic3RvcC1jb2xvcjojZmZlODczO3N0b3Atb3BhY2l0eToxIi8+PC9saW5lYXJH\n",
    "cmFkaWVudD48bGluZWFyR3JhZGllbnQgaWQ9ImIiPjxzdG9wIG9mZnNldD0iMCIgc3R5bGU9InN0\n",
    "b3AtY29sb3I6IzVhOWZkNDtzdG9wLW9wYWNpdHk6MSIvPjxzdG9wIG9mZnNldD0iMSIgc3R5bGU9\n",
    "InN0b3AtY29sb3I6IzMwNjk5ODtzdG9wLW9wYWNpdHk6MSIvPjwvbGluZWFyR3JhZGllbnQ+PGxp\n",
    "bmVhckdyYWRpZW50IHhsaW5rOmhyZWY9IiNhIiBpZD0iZSIgeDE9IjE1MC45NjEiIHgyPSIxMTIu\n",
    "MDMxIiB5MT0iMTkyLjM1MiIgeTI9IjEzNy4yNzMiIGdyYWRpZW50VHJhbnNmb3JtPSJtYXRyaXgo\n",
    "LjU2MjU0IDAgMCAuNTY3OTcgLTE0Ljk5MSAtMTEuNzAyKSIgZ3JhZGllbnRVbml0cz0idXNlclNw\n",
    "YWNlT25Vc2UiLz48bGluZWFyR3JhZGllbnQgeGxpbms6aHJlZj0iI2IiIGlkPSJkIiB4MT0iMjYu\n",
    "NjQ5IiB4Mj0iMTM1LjY2NSIgeTE9IjIwLjYwNCIgeTI9IjExNC4zOTgiIGdyYWRpZW50VHJhbnNm\n",
    "b3JtPSJtYXRyaXgoLjU2MjU0IDAgMCAuNTY3OTcgLTE0Ljk5MSAtMTEuNzAyKSIgZ3JhZGllbnRV\n",
    "bml0cz0idXNlclNwYWNlT25Vc2UiLz48cmFkaWFsR3JhZGllbnQgeGxpbms6aHJlZj0iI2MiIGlk\n",
    "PSJmIiBjeD0iNjEuNTE5IiBjeT0iMTMyLjI4NiIgcj0iMjkuMDM3IiBmeD0iNjEuNTE5IiBmeT0i\n",
    "MTMyLjI4NiIgZ3JhZGllbnRUcmFuc2Zvcm09Im1hdHJpeCgwIC0uMjM5OTUgMS4wNTQ2NyAwIC04\n",
    "My43IDE0Mi40NjIpIiBncmFkaWVudFVuaXRzPSJ1c2VyU3BhY2VPblVzZSIvPjwvZGVmcz48cGF0\n",
    "aCBkPSJNNTQuOTE5IDBjLTQuNTg0LjAyMi04Ljk2MS40MTMtMTIuODEzIDEuMDk1QzMwLjc2IDMu\n",
    "MDk5IDI4LjcgNy4yOTUgMjguNyAxNS4wMzJ2MTAuMjE5aDI2LjgxM3YzLjQwNkgxOC42MzhjLTcu\n",
    "NzkzIDAtMTQuNjE2IDQuNjg0LTE2Ljc1IDEzLjU5NC0yLjQ2MiAxMC4yMTMtMi41NzEgMTYuNTg2\n",
    "IDAgMjcuMjUgMS45MDUgNy45MzggNi40NTcgMTMuNTk0IDE0LjI1IDEzLjU5NGg5LjIxOHYtMTIu\n",
    "MjVjMC04Ljg1IDcuNjU3LTE2LjY1NyAxNi43NS0xNi42NTdoMjYuNzgyYzcuNDU0IDAgMTMuNDA2\n",
    "LTYuMTM4IDEzLjQwNi0xMy42MjV2LTI1LjUzYzAtNy4yNjctNi4xMy0xMi43MjYtMTMuNDA2LTEz\n",
    "LjkzOEM2NC4yODIuMzI4IDU5LjUwMi0uMDIgNTQuOTE4IDBtLTE0LjUgOC4yMmMyLjc3IDAgNS4w\n",
    "MzEgMi4yOTggNS4wMzEgNS4xMjUgMCAyLjgxNi0yLjI2MiA1LjA5My01LjAzMSA1LjA5My0yLjc4\n",
    "IDAtNS4wMzEtMi4yNzctNS4wMzEtNS4wOTMgMC0yLjgyNyAyLjI1MS01LjEyNSA1LjAzLTUuMTI1\n",
    "IiBzdHlsZT0iZmlsbDp1cmwoI2QpO2ZpbGwtb3BhY2l0eToxIi8+PHBhdGggZD0iTTg1LjYzOCAy\n",
    "OC42NTd2MTEuOTA2YzAgOS4yMzEtNy44MjYgMTctMTYuNzUgMTdINDIuMTA2Yy03LjMzNiAwLTEz\n",
    "LjQwNiA2LjI3OS0xMy40MDYgMTMuNjI1Vjk2LjcyYzAgNy4yNjYgNi4zMTkgMTEuNTQgMTMuNDA2\n",
    "IDEzLjYyNSA4LjQ4OCAyLjQ5NSAxNi42MjcgMi45NDYgMjYuNzgyIDAgNi43NS0xLjk1NSAxMy40\n",
    "MDYtNS44ODggMTMuNDA2LTEzLjYyNVY4Ni41SDU1LjUxM3YtMy40MDVIOTUuN2M3Ljc5MyAwIDEw\n",
    "LjY5Ni01LjQzNiAxMy40MDYtMTMuNTk0IDIuOC04LjM5OSAyLjY4LTE2LjQ3NiAwLTI3LjI1LTEu\n",
    "OTI1LTcuNzU4LTUuNjA0LTEzLjU5NC0xMy40MDYtMTMuNTk0ek03MC41NzUgOTMuMzEzYzIuNzgg\n",
    "MCA1LjAzMSAyLjI3OCA1LjAzMSA1LjA5NCAwIDIuODI3LTIuMjUxIDUuMTI1LTUuMDMxIDUuMTI1\n",
    "LTIuNzcgMC01LjAzMS0yLjI5OC01LjAzMS01LjEyNSAwLTIuODE2IDIuMjYxLTUuMDk0IDUuMDMx\n",
    "LTUuMDk0IiBzdHlsZT0iZmlsbDp1cmwoI2UpO2ZpbGwtb3BhY2l0eToxIi8+PGVsbGlwc2UgY3g9\n",
    "IjU1LjgxNyIgY3k9IjEyNy43MDEiIHJ4PSIzNS45MzEiIHJ5PSI2Ljk2NyIgc3R5bGU9Im9wYWNp\n",
    "dHk6LjQ0MzgyO2ZpbGw6dXJsKCNmKTtmaWxsLW9wYWNpdHk6MTtmaWxsLXJ1bGU6bm9uemVybztz\n",
    "dHJva2U6bm9uZTtzdHJva2Utd2lkdGg6MTUuNDE3NDtzdHJva2UtbWl0ZXJsaW1pdDo0O3N0cm9r\n",
    "ZS1kYXNoYXJyYXk6bm9uZTtzdHJva2Utb3BhY2l0eToxIi8+PC9zdmc+\n",
    "\"\n",
    "     style=\"display:block;margin:auto;width:10%\" alt=\"Python Logo\"/>\n",
    "<br>\n",
    "\n",
    "<div style=\"text-align:center; font-size:200%;\">\n",
    " <b>Adventure: Version 1</b>\n",
    "</div>\n",
    "<br/>\n",
    "<div style=\"text-align:center;\">Dr. Matthias Hölzl</div>\n",
    "<br/>"
   ]
  },
  {
   "cell_type": "markdown",
   "id": "599e56d0d6c7d4d0",
   "metadata": {
    "lang": "de",
    "slideshow": {
     "slide_type": "subslide"
    },
    "tags": [
     "subslide"
    ]
   },
   "source": [
    "\n",
    "Wie fangen wir an?"
   ]
  },
  {
   "cell_type": "markdown",
   "id": "68b37b0673eb41c5",
   "metadata": {
    "lang": "de",
    "slideshow": {
     "slide_type": "slide"
    },
    "tags": [
     "slide"
    ]
   },
   "source": [
    "\n",
    "## Niedrige Repräsentationslücke (Low Representational Gap)\n",
    "\n",
    "- Idee: Konzepte aus der Domäne in Code übertragen\n",
    "- Implementieren Sie ein Szenario aus einem Use Case\n",
    "- Nehmen Sie die Domänen-Konzepte als Kandidaten für die ersten Klassen her"
   ]
  },
  {
   "cell_type": "markdown",
   "id": "2b6f82d46219e1b0",
   "metadata": {
    "lang": "de",
    "slideshow": {
     "slide_type": "subslide"
    },
    "tags": [
     "subslide"
    ]
   },
   "source": [
    "\n",
    "- Use Case: \"Spiel initialisieren\"\n",
    "- Haupterfolgsszenario ohne Laden eines Spiels"
   ]
  },
  {
   "cell_type": "markdown",
   "id": "338a90aee4a3c616",
   "metadata": {
    "lang": "de",
    "slideshow": {
     "slide_type": "subslide"
    },
    "tags": [
     "subslide"
    ]
   },
   "source": [
    "\n",
    "## Domänenmodell\n",
    "\n",
    "Hier ist noch einmal der relevante Teil des Domänenmodells:"
   ]
  },
  {
   "cell_type": "markdown",
   "id": "f307108459582ea9",
   "metadata": {},
   "source": [
    "<img src=\"img/adv-domain-03-small.svg\"\n",
    "     style=\"display:block;margin:auto;width:80%\"/>"
   ]
  },
  {
   "cell_type": "markdown",
   "id": "52e2d24c9bb88a03",
   "metadata": {
    "lang": "de",
    "slideshow": {
     "slide_type": "subslide"
    },
    "tags": [
     "subslide"
    ]
   },
   "source": [
    "\n",
    "## Statisches Designmodell"
   ]
  },
  {
   "cell_type": "markdown",
   "id": "a6c8062c109c0d33",
   "metadata": {},
   "source": [
    "<img src=\"img/adv-world-cd-01.svg\"\n",
    "     style=\"display:block;margin:auto;width:50%\"/>"
   ]
  },
  {
   "cell_type": "markdown",
   "id": "56a40b9b53f220b2",
   "metadata": {
    "lang": "de",
    "slideshow": {
     "slide_type": "subslide"
    },
    "tags": [
     "subslide"
    ]
   },
   "source": [
    "\n",
    "## Implementierung\n",
    "\n",
    "- Ordner: `examples/GraspAdventure/src/grasp_adventure/v1`"
   ]
  },
  {
   "cell_type": "code",
   "execution_count": null,
   "id": "3f5203df18900b5a",
   "metadata": {
    "tags": [
     "keep"
    ]
   },
   "outputs": [],
   "source": [
    "from dataclasses import dataclass"
   ]
  },
  {
   "cell_type": "code",
   "execution_count": null,
   "id": "0bad539093cd0dea",
   "metadata": {
    "lines_to_next_cell": 2
   },
   "outputs": [],
   "source": [
    "@dataclass\n",
    "class Location:\n",
    "    name: str\n",
    "    description: str"
   ]
  },
  {
   "cell_type": "markdown",
   "id": "1952fcbe16a8f565",
   "metadata": {
    "lang": "de",
    "slideshow": {
     "slide_type": "subslide"
    },
    "tags": [
     "subslide"
    ]
   },
   "source": [
    "\n",
    "### Kurzer Exkurs zu Properties"
   ]
  },
  {
   "cell_type": "code",
   "execution_count": null,
   "id": "9ad13f5f00fe3d85",
   "metadata": {},
   "outputs": [],
   "source": [
    "class LocationWithProperties:\n",
    "    def __init__(self, name: str, description: str):\n",
    "        self._name = name\n",
    "\n",
    "    @property\n",
    "    def name(self) -> str:\n",
    "        return self._name"
   ]
  },
  {
   "cell_type": "code",
   "execution_count": null,
   "id": "9f8b68a98963d26e",
   "metadata": {
    "slideshow": {
     "slide_type": "subslide"
    },
    "tags": [
     "subslide"
    ]
   },
   "outputs": [],
   "source": [
    "my_location = LocationWithProperties(\"My Location\", \"A place to be\")"
   ]
  },
  {
   "cell_type": "code",
   "execution_count": null,
   "id": "6f4b14b367a8bb07",
   "metadata": {},
   "outputs": [],
   "source": [
    "my_location.name"
   ]
  },
  {
   "cell_type": "code",
   "execution_count": null,
   "id": "170bb13cacc060f5",
   "metadata": {
    "lines_to_next_cell": 2
   },
   "outputs": [],
   "source": [
    "# my_location.name = \"Your Location\""
   ]
  },
  {
   "cell_type": "markdown",
   "id": "51b9395478551476",
   "metadata": {
    "lang": "de",
    "slideshow": {
     "slide_type": "subslide"
    },
    "tags": [
     "subslide"
    ]
   },
   "source": [
    "\n",
    "## Konstruktion von Location Instanzen\n",
    "\n",
    "- [Einfache Orte](./simple-locations.json)\n",
    "- [Dungeon](./dungeon-locations.json)"
   ]
  },
  {
   "cell_type": "markdown",
   "id": "2f823aa43aeb4c56",
   "metadata": {
    "lang": "de",
    "slideshow": {
     "slide_type": "subslide"
    },
    "tags": [
     "subslide"
    ]
   },
   "source": [
    "\n",
    "- Es kann sein, dass der Pfad unseres Python Interpreters\n",
    "  auf ein Elternverzeichnis des gesuchten Verzeichnisses zeigt\n",
    "- Deshalb suchen wir in allen Unterverzeichnissen nach der JSON-Datei:"
   ]
  },
  {
   "cell_type": "code",
   "execution_count": null,
   "id": "0cca44b70e433d02",
   "metadata": {
    "tags": [
     "keep"
    ]
   },
   "outputs": [],
   "source": [
    "from pathlib import Path\n",
    "\n",
    "json_files = Path().glob(\"**/simple-locations.json\")\n",
    "json_file = list(json_files)[0]"
   ]
  },
  {
   "cell_type": "code",
   "execution_count": null,
   "id": "3111d8e4c05fe34a",
   "metadata": {
    "tags": [
     "keep"
    ]
   },
   "outputs": [],
   "source": [
    "print(json_file.absolute())"
   ]
  },
  {
   "cell_type": "code",
   "execution_count": null,
   "id": "9024ad0defa86f1e",
   "metadata": {
    "slideshow": {
     "slide_type": "subslide"
    },
    "tags": [
     "subslide"
    ]
   },
   "outputs": [],
   "source": [
    "import json\n",
    "from pprint import pprint"
   ]
  },
  {
   "cell_type": "code",
   "execution_count": null,
   "id": "020780bec6e46320",
   "metadata": {},
   "outputs": [],
   "source": [
    "with open(json_file) as file:\n",
    "    simple_locations = json.load(file)"
   ]
  },
  {
   "cell_type": "code",
   "execution_count": null,
   "id": "68a288f8d118e969",
   "metadata": {},
   "outputs": [],
   "source": [
    "print(type(simple_locations))"
   ]
  },
  {
   "cell_type": "code",
   "execution_count": null,
   "id": "19835f0dcb25ba0f",
   "metadata": {},
   "outputs": [],
   "source": [
    "pprint(simple_locations)"
   ]
  },
  {
   "cell_type": "markdown",
   "id": "19f9a32b1c2f4b92",
   "metadata": {
    "lang": "de",
    "slideshow": {
     "slide_type": "subslide"
    },
    "tags": [
     "subslide"
    ]
   },
   "source": [
    "\n",
    "### Erzeugen von Location Instanzen aus JSON Daten\n",
    "\n",
    "- Wir können eine statische Methode in der `Location` Klasse implementieren,\n",
    "  die eine `Location` Instanz aus einem Dictionary erzeugt\n",
    "- Eine solche Methode nennt man eine Factory-Methode\n",
    "- In Python verwenden einige wichtige Bibliotheken dafür die Namenskonvention\n",
    "  `from_...`\n",
    "- Falls es Unterklassen von `Location` geben kann, ist es besser statt einer\n",
    "  statischen Methode eine Klassenmethode zu verwenden\n",
    "- Damit können wir auch Instanzen von Unterklassen erzeugen"
   ]
  },
  {
   "cell_type": "code",
   "execution_count": null,
   "id": "ef2727e697fa92bc",
   "metadata": {
    "lines_to_next_cell": 2,
    "slideshow": {
     "slide_type": "subslide"
    },
    "tags": [
     "alt",
     "subslide"
    ]
   },
   "outputs": [],
   "source": [
    "@dataclass\n",
    "class Location:\n",
    "    name: str\n",
    "    description: str\n",
    "\n",
    "    @classmethod\n",
    "    def from_description(cls, description: dict) -> \"Location\":\n",
    "        return cls(description[\"name\"], description.get(\"description\", \"\"))"
   ]
  },
  {
   "cell_type": "code",
   "execution_count": null,
   "id": "b7008979e5221b8e",
   "metadata": {},
   "outputs": [],
   "source": [
    "Location.from_description(simple_locations[0])"
   ]
  },
  {
   "cell_type": "code",
   "execution_count": null,
   "id": "467dfa413641a51a",
   "metadata": {},
   "outputs": [],
   "source": [
    "[Location.from_description(description) for description in simple_locations]"
   ]
  },
  {
   "cell_type": "markdown",
   "id": "6c718c1c89ffe320",
   "metadata": {
    "lang": "de",
    "slideshow": {
     "slide_type": "subslide"
    },
    "tags": [
     "subslide"
    ]
   },
   "source": [
    "\n",
    "### Factories und Unterklassen\n",
    "\n",
    "- Klassenmethoden bekommen die Klasse, auf der sie aufgerufen werden als\n",
    "  ersten Parameter\n",
    "- Da wir in Python die Klasse verwenden, um Instanzen zu erzeugen, können wir\n",
    "  damit auch Instanzen von Unterklassen erzeugen"
   ]
  },
  {
   "cell_type": "code",
   "execution_count": null,
   "id": "dea3db8b802247d3",
   "metadata": {},
   "outputs": [],
   "source": [
    "@dataclass\n",
    "class MySpecialLocation(Location):\n",
    "    pass"
   ]
  },
  {
   "cell_type": "code",
   "execution_count": null,
   "id": "1930259335f569b3",
   "metadata": {},
   "outputs": [],
   "source": [
    "MySpecialLocation.from_description(simple_locations[0])"
   ]
  },
  {
   "cell_type": "markdown",
   "id": "ef0a545a693667be",
   "metadata": {
    "lang": "de",
    "slideshow": {
     "slide_type": "subslide"
    },
    "tags": [
     "subslide"
    ]
   },
   "source": [
    "\n",
    "## Implementierung der World Klasse\n",
    "\n",
    "- Beliebige Anzahl von `Location`-Instanzen\n",
    "- Zugriff auf `Location`-Instanzen über Namen\n",
    "- Speicherung des initialen Ortsnamens"
   ]
  },
  {
   "cell_type": "code",
   "execution_count": null,
   "id": "6dd8ba1b15b62ed7",
   "metadata": {
    "lines_to_next_cell": 2
   },
   "outputs": [],
   "source": [
    "@dataclass\n",
    "class World:\n",
    "    locations: dict[str, Location]\n",
    "    initial_location_name: str"
   ]
  }
 ],
 "metadata": {
  "jupytext": {
   "cell_metadata_filter": "lang,tags,-all",
   "main_language": "python",
   "notebook_metadata_filter": "-all"
  },
  "kernelspec": {
   "display_name": "Python 3 (ipykernel)",
   "language": "python",
   "name": "python3"
  },
  "language_info": {
   "codemirror_mode": {
    "name": "ipython",
    "version": 3
   },
   "file_extension": ".py",
   "mimetype": "text/x-python",
   "name": "python",
   "nbconvert_exporter": "python",
   "pygments_lexer": "ipython3"
  }
 },
 "nbformat": 4,
 "nbformat_minor": 5
}
