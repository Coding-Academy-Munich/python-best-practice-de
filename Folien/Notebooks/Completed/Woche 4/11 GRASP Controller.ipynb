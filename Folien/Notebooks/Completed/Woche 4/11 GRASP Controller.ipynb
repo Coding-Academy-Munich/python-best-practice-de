{
 "cells": [
  {
   "cell_type": "markdown",
   "id": "a91de28e89f33062",
   "metadata": {
    "lang": "de",
    "slideshow": {
     "slide_type": "slide"
    },
    "tags": [
     "slide"
    ]
   },
   "source": [
    "\n",
    "<img src=\"data:image/svg+xml;base64,PHN2ZyB4bWxucz0iaHR0cDovL3d3dy53My5vcmcvMjAwMC9zdmciIHhtbG5zOnhsaW5rPSJodHRw\n",
    "Oi8vd3d3LnczLm9yZy8xOTk5L3hsaW5rIiB3aWR0aD0iMTExLjE2MSIgaGVpZ2h0PSIxMzQuNjY4\n",
    "IiB2ZXJzaW9uPSIxLjAiPjxkZWZzPjxsaW5lYXJHcmFkaWVudCBpZD0iYyI+PHN0b3Agb2Zmc2V0\n",
    "PSIwIiBzdHlsZT0ic3RvcC1jb2xvcjojYjhiOGI4O3N0b3Atb3BhY2l0eTouNDk4MDM5MjIiLz48\n",
    "c3RvcCBvZmZzZXQ9IjEiIHN0eWxlPSJzdG9wLWNvbG9yOiM3ZjdmN2Y7c3RvcC1vcGFjaXR5OjAi\n",
    "Lz48L2xpbmVhckdyYWRpZW50PjxsaW5lYXJHcmFkaWVudCBpZD0iYSI+PHN0b3Agb2Zmc2V0PSIw\n",
    "IiBzdHlsZT0ic3RvcC1jb2xvcjojZmZkNDNiO3N0b3Atb3BhY2l0eToxIi8+PHN0b3Agb2Zmc2V0\n",
    "PSIxIiBzdHlsZT0ic3RvcC1jb2xvcjojZmZlODczO3N0b3Atb3BhY2l0eToxIi8+PC9saW5lYXJH\n",
    "cmFkaWVudD48bGluZWFyR3JhZGllbnQgaWQ9ImIiPjxzdG9wIG9mZnNldD0iMCIgc3R5bGU9InN0\n",
    "b3AtY29sb3I6IzVhOWZkNDtzdG9wLW9wYWNpdHk6MSIvPjxzdG9wIG9mZnNldD0iMSIgc3R5bGU9\n",
    "InN0b3AtY29sb3I6IzMwNjk5ODtzdG9wLW9wYWNpdHk6MSIvPjwvbGluZWFyR3JhZGllbnQ+PGxp\n",
    "bmVhckdyYWRpZW50IHhsaW5rOmhyZWY9IiNhIiBpZD0iZSIgeDE9IjE1MC45NjEiIHgyPSIxMTIu\n",
    "MDMxIiB5MT0iMTkyLjM1MiIgeTI9IjEzNy4yNzMiIGdyYWRpZW50VHJhbnNmb3JtPSJtYXRyaXgo\n",
    "LjU2MjU0IDAgMCAuNTY3OTcgLTE0Ljk5MSAtMTEuNzAyKSIgZ3JhZGllbnRVbml0cz0idXNlclNw\n",
    "YWNlT25Vc2UiLz48bGluZWFyR3JhZGllbnQgeGxpbms6aHJlZj0iI2IiIGlkPSJkIiB4MT0iMjYu\n",
    "NjQ5IiB4Mj0iMTM1LjY2NSIgeTE9IjIwLjYwNCIgeTI9IjExNC4zOTgiIGdyYWRpZW50VHJhbnNm\n",
    "b3JtPSJtYXRyaXgoLjU2MjU0IDAgMCAuNTY3OTcgLTE0Ljk5MSAtMTEuNzAyKSIgZ3JhZGllbnRV\n",
    "bml0cz0idXNlclNwYWNlT25Vc2UiLz48cmFkaWFsR3JhZGllbnQgeGxpbms6aHJlZj0iI2MiIGlk\n",
    "PSJmIiBjeD0iNjEuNTE5IiBjeT0iMTMyLjI4NiIgcj0iMjkuMDM3IiBmeD0iNjEuNTE5IiBmeT0i\n",
    "MTMyLjI4NiIgZ3JhZGllbnRUcmFuc2Zvcm09Im1hdHJpeCgwIC0uMjM5OTUgMS4wNTQ2NyAwIC04\n",
    "My43IDE0Mi40NjIpIiBncmFkaWVudFVuaXRzPSJ1c2VyU3BhY2VPblVzZSIvPjwvZGVmcz48cGF0\n",
    "aCBkPSJNNTQuOTE5IDBjLTQuNTg0LjAyMi04Ljk2MS40MTMtMTIuODEzIDEuMDk1QzMwLjc2IDMu\n",
    "MDk5IDI4LjcgNy4yOTUgMjguNyAxNS4wMzJ2MTAuMjE5aDI2LjgxM3YzLjQwNkgxOC42MzhjLTcu\n",
    "NzkzIDAtMTQuNjE2IDQuNjg0LTE2Ljc1IDEzLjU5NC0yLjQ2MiAxMC4yMTMtMi41NzEgMTYuNTg2\n",
    "IDAgMjcuMjUgMS45MDUgNy45MzggNi40NTcgMTMuNTk0IDE0LjI1IDEzLjU5NGg5LjIxOHYtMTIu\n",
    "MjVjMC04Ljg1IDcuNjU3LTE2LjY1NyAxNi43NS0xNi42NTdoMjYuNzgyYzcuNDU0IDAgMTMuNDA2\n",
    "LTYuMTM4IDEzLjQwNi0xMy42MjV2LTI1LjUzYzAtNy4yNjctNi4xMy0xMi43MjYtMTMuNDA2LTEz\n",
    "LjkzOEM2NC4yODIuMzI4IDU5LjUwMi0uMDIgNTQuOTE4IDBtLTE0LjUgOC4yMmMyLjc3IDAgNS4w\n",
    "MzEgMi4yOTggNS4wMzEgNS4xMjUgMCAyLjgxNi0yLjI2MiA1LjA5My01LjAzMSA1LjA5My0yLjc4\n",
    "IDAtNS4wMzEtMi4yNzctNS4wMzEtNS4wOTMgMC0yLjgyNyAyLjI1MS01LjEyNSA1LjAzLTUuMTI1\n",
    "IiBzdHlsZT0iZmlsbDp1cmwoI2QpO2ZpbGwtb3BhY2l0eToxIi8+PHBhdGggZD0iTTg1LjYzOCAy\n",
    "OC42NTd2MTEuOTA2YzAgOS4yMzEtNy44MjYgMTctMTYuNzUgMTdINDIuMTA2Yy03LjMzNiAwLTEz\n",
    "LjQwNiA2LjI3OS0xMy40MDYgMTMuNjI1Vjk2LjcyYzAgNy4yNjYgNi4zMTkgMTEuNTQgMTMuNDA2\n",
    "IDEzLjYyNSA4LjQ4OCAyLjQ5NSAxNi42MjcgMi45NDYgMjYuNzgyIDAgNi43NS0xLjk1NSAxMy40\n",
    "MDYtNS44ODggMTMuNDA2LTEzLjYyNVY4Ni41SDU1LjUxM3YtMy40MDVIOTUuN2M3Ljc5MyAwIDEw\n",
    "LjY5Ni01LjQzNiAxMy40MDYtMTMuNTk0IDIuOC04LjM5OSAyLjY4LTE2LjQ3NiAwLTI3LjI1LTEu\n",
    "OTI1LTcuNzU4LTUuNjA0LTEzLjU5NC0xMy40MDYtMTMuNTk0ek03MC41NzUgOTMuMzEzYzIuNzgg\n",
    "MCA1LjAzMSAyLjI3OCA1LjAzMSA1LjA5NCAwIDIuODI3LTIuMjUxIDUuMTI1LTUuMDMxIDUuMTI1\n",
    "LTIuNzcgMC01LjAzMS0yLjI5OC01LjAzMS01LjEyNSAwLTIuODE2IDIuMjYxLTUuMDk0IDUuMDMx\n",
    "LTUuMDk0IiBzdHlsZT0iZmlsbDp1cmwoI2UpO2ZpbGwtb3BhY2l0eToxIi8+PGVsbGlwc2UgY3g9\n",
    "IjU1LjgxNyIgY3k9IjEyNy43MDEiIHJ4PSIzNS45MzEiIHJ5PSI2Ljk2NyIgc3R5bGU9Im9wYWNp\n",
    "dHk6LjQ0MzgyO2ZpbGw6dXJsKCNmKTtmaWxsLW9wYWNpdHk6MTtmaWxsLXJ1bGU6bm9uemVybztz\n",
    "dHJva2U6bm9uZTtzdHJva2Utd2lkdGg6MTUuNDE3NDtzdHJva2UtbWl0ZXJsaW1pdDo0O3N0cm9r\n",
    "ZS1kYXNoYXJyYXk6bm9uZTtzdHJva2Utb3BhY2l0eToxIi8+PC9zdmc+\n",
    "\"\n",
    "     style=\"display:block;margin:auto;width:10%\" alt=\"Python Logo\"/>\n",
    "<br>\n",
    "\n",
    "<div style=\"text-align:center; font-size:200%;\">\n",
    " <b>GRASP: Controller</b>\n",
    "</div>\n",
    "<br/>\n",
    "<div style=\"text-align:center;\">Dr. Matthias Hölzl</div>\n",
    "<br/>"
   ]
  },
  {
   "cell_type": "markdown",
   "id": "eedcbcdc83dda044",
   "metadata": {
    "lang": "de",
    "slideshow": {
     "slide_type": "subslide"
    },
    "tags": [
     "subslide"
    ]
   },
   "source": [
    "\n",
    "## Starten eines Spiels\n",
    "\n",
    "- Laden der Welt\n",
    "- Erzeugen der Pawn-Objekte für die Spieler\n",
    "- Erzeugen der Spieler\n",
    "- Ausführen der Spielrunde:\n",
    "  - Jeder Spieler wählt eine Aktion\n",
    "  - Die Aktion wird ausgeführt"
   ]
  },
  {
   "cell_type": "code",
   "execution_count": null,
   "id": "7749676b24cb4a5d",
   "metadata": {
    "lines_to_next_cell": 2,
    "slideshow": {
     "slide_type": "subslide"
    },
    "tags": [
     "keep",
     "subslide"
    ]
   },
   "outputs": [],
   "source": [
    "from dataclasses import dataclass, field\n",
    "from typing import Callable"
   ]
  },
  {
   "cell_type": "code",
   "execution_count": null,
   "id": "5a1c2946ffa9f9e3",
   "metadata": {
    "tags": [
     "keep"
    ]
   },
   "outputs": [],
   "source": [
    "from action_v4 import Action\n",
    "from location_v4 import Location, LocationDescriptions\n",
    "from pawn_v4 import Pawn\n",
    "from player_v4 import Player, interactive_action_strategy, random_action_strategy\n",
    "from simple_locations import simple_locations\n",
    "from world_factory_v4 import WorldFactory\n",
    "from world_v4 import World"
   ]
  },
  {
   "cell_type": "code",
   "execution_count": null,
   "id": "4f762d09540c2936",
   "metadata": {
    "slideshow": {
     "slide_type": "subslide"
    },
    "tags": [
     "keep",
     "subslide"
    ]
   },
   "outputs": [],
   "source": [
    "world_factory = WorldFactory()\n",
    "world = world_factory.create(simple_locations)"
   ]
  },
  {
   "cell_type": "code",
   "execution_count": null,
   "id": "bd25278ffb869f30",
   "metadata": {
    "tags": [
     "keep"
    ]
   },
   "outputs": [],
   "source": [
    "alice_pawn = Pawn(\"Alice\", world.locations[\"Room 1\"])\n",
    "bob_pawn = Pawn(\"Bob\", world.locations[\"Room 2\"])"
   ]
  },
  {
   "cell_type": "code",
   "execution_count": null,
   "id": "ec1724fc1b383dde",
   "metadata": {
    "tags": [
     "keep"
    ]
   },
   "outputs": [],
   "source": [
    "players = [\n",
    "    Player(\"Alice\", alice_pawn, interactive_action_strategy),\n",
    "    Player(\"Bob\", bob_pawn),\n",
    "]"
   ]
  },
  {
   "cell_type": "code",
   "execution_count": null,
   "id": "23001d2a6956b102",
   "metadata": {
    "lines_to_next_cell": 2,
    "slideshow": {
     "slide_type": "subslide"
    },
    "tags": [
     "keep",
     "subslide"
    ]
   },
   "outputs": [],
   "source": [
    "def run_game():\n",
    "    for _ in range(5):\n",
    "        for player in players:\n",
    "            player.take_turn()"
   ]
  },
  {
   "cell_type": "code",
   "execution_count": null,
   "id": "f2991fe41ae9deef",
   "metadata": {
    "tags": [
     "keep"
    ]
   },
   "outputs": [],
   "source": [
    "# run_game()"
   ]
  },
  {
   "cell_type": "markdown",
   "id": "c4b1d600ac200255",
   "metadata": {
    "lang": "de",
    "slideshow": {
     "slide_type": "subslide"
    },
    "tags": [
     "subslide"
    ]
   },
   "source": [
    "\n",
    "## Zwei gegenläufige Anforderungen\n",
    "\n",
    "- Viele kleine, kohäsive Klassen und Funktionen für gute Struktur\n",
    "- Einfaches Interface für den Benutzer"
   ]
  },
  {
   "cell_type": "markdown",
   "id": "aff1daf261c06cea",
   "metadata": {
    "lang": "de",
    "slideshow": {
     "slide_type": "slide"
    },
    "tags": [
     "slide"
    ]
   },
   "source": [
    "\n",
    "# GRASP: Controller\n",
    "\n",
    "- Für jedes Modul/Subsystem: Externe Meldungen werden von Controller-Objekten\n",
    "  bearbeitet, die\n",
    "  - nicht Teil der Benutzeroberfläche sind,\n",
    "  - jeweils ein Subsystem oder einen Anwendungsfall abdecken\n",
    "- Der Controller ist das erste Objekt nach der Benutzeroberfläche, das\n",
    "  Ereignisse/Meldungen bearbeitet.\n",
    "- Der Controller ist oft eine Fassade, d.h. er delegiert seine Arbeit an andere\n",
    "  Objekte.\n",
    "- Möglicherweise koordiniert er das System aber auch.\n",
    "- Ein Use-Case-Controller bearbeitet immer einen kompletten Use-Case (Controller\n",
    "  können aber auch mehr als einen Use-Case bearbeiten)."
   ]
  },
  {
   "cell_type": "markdown",
   "id": "ddb45d59ae76ad7b",
   "metadata": {
    "lang": "de",
    "slideshow": {
     "slide_type": "subslide"
    },
    "tags": [
     "subslide"
    ]
   },
   "source": [
    "\n",
    "## Controller\n",
    "\n",
    "- Verwandt: Fassaden-Pattern (Domänen-Fassade), Domänencontroller\n",
    "- Siehe hexagonale Architektur: Controller sind die Ports in der hexagonalen\n",
    "  Architektur\n",
    "- Tests: Controller bieten eine zentrale Schnittstelle für einzelne\n",
    "  Subsysteme oder Anwendungsfälle"
   ]
  },
  {
   "cell_type": "markdown",
   "id": "4078a44e77c479a0",
   "metadata": {
    "lang": "de",
    "slideshow": {
     "slide_type": "subslide"
    },
    "tags": [
     "subslide"
    ]
   },
   "source": [
    "\n",
    "## Controller in unserem Adventure-Game\n",
    "\n",
    "- Wo kommt die Controller-Klasse her?\n",
    "  - Anwendungsfälle (Use Cases)\n",
    "  - Domänenmodell"
   ]
  },
  {
   "cell_type": "markdown",
   "id": "ab22285715717ab8",
   "metadata": {
    "lang": "de",
    "slideshow": {
     "slide_type": "subslide"
    },
    "tags": [
     "subslide"
    ]
   },
   "source": [
    "\n",
    "### Domänenmodell"
   ]
  },
  {
   "cell_type": "markdown",
   "id": "4ad6721614ebe9b8",
   "metadata": {},
   "source": [
    "<img src=\"img/adv-domain-03.svg\"\n",
    "     style=\"display:block;margin:auto;width:50%\"/>"
   ]
  },
  {
   "cell_type": "code",
   "execution_count": null,
   "id": "2b19563a3fc46c6c",
   "metadata": {
    "slideshow": {
     "slide_type": "subslide"
    },
    "tags": [
     "subslide"
    ]
   },
   "outputs": [],
   "source": [
    "@dataclass\n",
    "class Game:\n",
    "    location_descriptions: LocationDescriptions\n",
    "    players: list[Player] = field(default_factory=list)\n",
    "    world: World = field(init=False)\n",
    "\n",
    "    def __post_init__(self):\n",
    "        self.world = world_factory.create(self.location_descriptions)\n",
    "\n",
    "    def add_player(\n",
    "        self,\n",
    "        name: str,\n",
    "        location: str | Location | None,\n",
    "        action_strategy: str | Callable[[Player], Action] | None = None,\n",
    "    ) -> None:\n",
    "        player = create_player(self.world, name, location, action_strategy)\n",
    "        self.players.append(player)\n",
    "\n",
    "    def play_round(self):\n",
    "        for player in self.players:\n",
    "            player.take_turn()"
   ]
  },
  {
   "cell_type": "code",
   "execution_count": null,
   "id": "49c19719050f858b",
   "metadata": {
    "slideshow": {
     "slide_type": "subslide"
    },
    "tags": [
     "keep",
     "subslide"
    ]
   },
   "outputs": [],
   "source": [
    "action_strategies = {\n",
    "    \"interactive\": interactive_action_strategy,\n",
    "    \"random\": random_action_strategy,\n",
    "}"
   ]
  },
  {
   "cell_type": "code",
   "execution_count": null,
   "id": "1348c433015a2dfb",
   "metadata": {
    "slideshow": {
     "slide_type": "subslide"
    },
    "tags": [
     "keep",
     "subslide"
    ]
   },
   "outputs": [],
   "source": [
    "def create_player(\n",
    "    world: World,\n",
    "    name: str,\n",
    "    location: str | Location | None,\n",
    "    action_strategy: str | Callable[[Player], Action] | None,\n",
    "):\n",
    "    if location is None:\n",
    "        location = world.initial_location\n",
    "    elif isinstance(location, str):\n",
    "        location = world.locations[location]\n",
    "    if action_strategy is None:\n",
    "        action_strategy = random_action_strategy\n",
    "    elif isinstance(action_strategy, str):\n",
    "        action_strategy = action_strategies[action_strategy]\n",
    "    pawn = Pawn(name, location)\n",
    "    player = Player(name, pawn, action_strategy)\n",
    "    return player"
   ]
  },
  {
   "cell_type": "code",
   "execution_count": null,
   "id": "b4976a87fed7c45c",
   "metadata": {
    "slideshow": {
     "slide_type": "subslide"
    },
    "tags": [
     "subslide"
    ]
   },
   "outputs": [],
   "source": [
    "game = Game(simple_locations)"
   ]
  },
  {
   "cell_type": "code",
   "execution_count": null,
   "id": "c2c608a6b3210383",
   "metadata": {},
   "outputs": [],
   "source": [
    "game.add_player(\"Alice\", \"Room 1\")\n",
    "game.add_player(\"Bob\", \"Room 2\", \"interactive\")"
   ]
  },
  {
   "cell_type": "code",
   "execution_count": null,
   "id": "74abf77fc155142b",
   "metadata": {
    "slideshow": {
     "slide_type": "subslide"
    },
    "tags": [
     "subslide"
    ]
   },
   "outputs": [],
   "source": [
    "# for _ in range(5):\n",
    "#     game.play_round()"
   ]
  },
  {
   "cell_type": "markdown",
   "id": "e9ec7015f1a854a8",
   "metadata": {
    "lang": "de",
    "slideshow": {
     "slide_type": "subslide"
    },
    "tags": [
     "subslide"
    ]
   },
   "source": [
    "\n",
    "## Workshop: Controller für Bibliotheksverwaltung\n",
    "\n",
    "- Im Anschluss ist eine mögliche Implementierung für die Bibliotheksverwaltung\n",
    "  angegeben.\n",
    "- Implementieren Sie einen Controller für die Bibliotheksverwaltung\n",
    "- Modifizieren Sie das Anwendungsbeispiel so, dass der Controller verwendet wird\n",
    "- Wie hat sich die Benutzung des Systems verändert?"
   ]
  },
  {
   "cell_type": "code",
   "execution_count": null,
   "id": "f626f4922516a132",
   "metadata": {
    "slideshow": {
     "slide_type": "subslide"
    },
    "tags": [
     "keep",
     "subslide"
    ]
   },
   "outputs": [],
   "source": [
    "from dataclasses import dataclass, field  # noqa"
   ]
  },
  {
   "cell_type": "code",
   "execution_count": null,
   "id": "ce8602b4a10e101a",
   "metadata": {
    "tags": [
     "keep"
    ]
   },
   "outputs": [],
   "source": [
    "@dataclass\n",
    "class BookInfo:\n",
    "    title: str\n",
    "    authors: list[str]\n",
    "    isbn: str\n",
    "    num_copies: int = 1"
   ]
  },
  {
   "cell_type": "code",
   "execution_count": null,
   "id": "90a41e69e1569431",
   "metadata": {
    "slideshow": {
     "slide_type": "subslide"
    },
    "tags": [
     "keep",
     "subslide"
    ]
   },
   "outputs": [],
   "source": [
    "@dataclass\n",
    "class MemberInfo:\n",
    "    name: str\n",
    "    address: str\n",
    "    member_id: str"
   ]
  },
  {
   "cell_type": "code",
   "execution_count": null,
   "id": "dc6e62071c864484",
   "metadata": {
    "slideshow": {
     "slide_type": "subslide"
    },
    "tags": [
     "keep",
     "subslide"
    ]
   },
   "outputs": [],
   "source": [
    "@dataclass\n",
    "class BookInventory:\n",
    "    books: dict[str, BookInfo] = field(default_factory=dict)\n",
    "\n",
    "    def add_book(self, book: BookInfo):\n",
    "        if book.isbn in self.books:\n",
    "            self.books[book.isbn].num_copies += book.num_copies\n",
    "        else:\n",
    "            self.books[book.isbn] = book\n",
    "\n",
    "    def is_available(self, isbn: str) -> bool:\n",
    "        return isbn in self.books and self.books[isbn].num_copies > 0"
   ]
  },
  {
   "cell_type": "code",
   "execution_count": null,
   "id": "92b9045d458a4b17",
   "metadata": {
    "slideshow": {
     "slide_type": "subslide"
    },
    "tags": [
     "keep",
     "subslide"
    ]
   },
   "outputs": [],
   "source": [
    "@dataclass\n",
    "class MemberRegistry:\n",
    "    members: dict[str, MemberInfo] = field(default_factory=dict)\n",
    "\n",
    "    def add_member(self, member: MemberInfo):\n",
    "        self.members[member.member_id] = member"
   ]
  },
  {
   "cell_type": "code",
   "execution_count": null,
   "id": "007aa706ad40b6ea",
   "metadata": {
    "slideshow": {
     "slide_type": "subslide"
    },
    "tags": [
     "keep",
     "subslide"
    ]
   },
   "outputs": [],
   "source": [
    "@dataclass\n",
    "class RentalRegistry:\n",
    "    rentals: dict[str, list[str]] = field(default_factory=dict)\n",
    "\n",
    "    def borrow_book(self, member_id: str, isbn: str, book_inventory: BookInventory):\n",
    "        if book_inventory.is_available(isbn):\n",
    "            if member_id not in self.rentals:\n",
    "                self.rentals[member_id] = []\n",
    "            if isbn not in self.rentals[member_id]:\n",
    "                self.rentals[member_id].append(isbn)\n",
    "                book_inventory.books[isbn].num_copies -= 1\n",
    "\n",
    "    def return_book(self, member_id: str, isbn: str, book_inventory: BookInventory):\n",
    "        if member_id in self.rentals and isbn in self.rentals[member_id]:\n",
    "            self.rentals[member_id].remove(isbn)\n",
    "            book_inventory.books[isbn].num_copies += 1\n",
    "\n",
    "    def get_member_rentals(self, member_id: str) -> list[str]:\n",
    "        return self.rentals.get(member_id, [])\n",
    "\n",
    "    def get_all_rentals(self) -> dict[str, list[str]]:\n",
    "        return self.rentals"
   ]
  },
  {
   "cell_type": "code",
   "execution_count": null,
   "id": "3f0089f8adb8a517",
   "metadata": {
    "slideshow": {
     "slide_type": "subslide"
    },
    "tags": [
     "keep",
     "subslide"
    ]
   },
   "outputs": [],
   "source": [
    "book_inventory = BookInventory()\n",
    "member_registry = MemberRegistry()\n",
    "rental_registry = RentalRegistry()"
   ]
  },
  {
   "cell_type": "code",
   "execution_count": null,
   "id": "9e8c1d1063e03a36",
   "metadata": {
    "tags": [
     "keep"
    ]
   },
   "outputs": [],
   "source": [
    "# Add books to the inventory\n",
    "book1 = BookInfo(\"Book 1\", [\"Author 1\"], \"ISBN1\", 2)\n",
    "book2 = BookInfo(\"Book 2\", [\"Author 2\"], \"ISBN2\", 1)\n",
    "book_inventory.add_book(book1)\n",
    "book_inventory.add_book(book2)"
   ]
  },
  {
   "cell_type": "code",
   "execution_count": null,
   "id": "0df8d41d25ffa31f",
   "metadata": {
    "tags": [
     "keep"
    ]
   },
   "outputs": [],
   "source": [
    "# Add members to the registry\n",
    "member1 = MemberInfo(\"John Doe\", \"123 Main St\", \"M001\")\n",
    "member2 = MemberInfo(\"Jane Smith\", \"456 Elm St\", \"M002\")\n",
    "member_registry.add_member(member1)\n",
    "member_registry.add_member(member2)"
   ]
  },
  {
   "cell_type": "code",
   "execution_count": null,
   "id": "f930885c7864eb60",
   "metadata": {
    "slideshow": {
     "slide_type": "subslide"
    },
    "tags": [
     "keep",
     "subslide"
    ]
   },
   "outputs": [],
   "source": [
    "# Check availability\n",
    "print(book_inventory.is_available(\"ISBN1\"))  # True\n",
    "print(book_inventory.is_available(\"ISBN2\"))  # True"
   ]
  },
  {
   "cell_type": "code",
   "execution_count": null,
   "id": "85fb1960d0f40749",
   "metadata": {
    "tags": [
     "keep"
    ]
   },
   "outputs": [],
   "source": [
    "# Borrow books\n",
    "rental_registry.borrow_book(\"M001\", \"ISBN1\", book_inventory)\n",
    "rental_registry.borrow_book(\"M001\", \"ISBN2\", book_inventory)"
   ]
  },
  {
   "cell_type": "code",
   "execution_count": null,
   "id": "4a1d3114441ff9f8",
   "metadata": {
    "tags": [
     "keep"
    ]
   },
   "outputs": [],
   "source": [
    "# Check availability\n",
    "print(book_inventory.is_available(\"ISBN1\"))  # True\n",
    "print(book_inventory.is_available(\"ISBN2\"))  # False"
   ]
  },
  {
   "cell_type": "code",
   "execution_count": null,
   "id": "1a40c2c49598d80f",
   "metadata": {
    "tags": [
     "keep"
    ]
   },
   "outputs": [],
   "source": [
    "# Borrow books\n",
    "rental_registry.borrow_book(\"M002\", \"ISBN1\", book_inventory)\n",
    "rental_registry.borrow_book(\"M002\", \"ISBN2\", book_inventory)"
   ]
  },
  {
   "cell_type": "code",
   "execution_count": null,
   "id": "69ef335747dee2ad",
   "metadata": {
    "lines_to_next_cell": 2,
    "tags": [
     "keep"
    ]
   },
   "outputs": [],
   "source": [
    "# Check availability\n",
    "print(book_inventory.is_available(\"ISBN1\"))  # False\n",
    "print(book_inventory.is_available(\"ISBN2\"))  # False"
   ]
  },
  {
   "cell_type": "code",
   "execution_count": null,
   "id": "cddb73687a5c8ab8",
   "metadata": {
    "slideshow": {
     "slide_type": "subslide"
    },
    "tags": [
     "keep",
     "subslide"
    ]
   },
   "outputs": [],
   "source": [
    "# Check member rentals\n",
    "print(rental_registry.get_member_rentals(\"M001\"))  # [\"ISBN1\", \"ISBN2\"]\n",
    "print(rental_registry.get_member_rentals(\"M002\"))  # [\"ISBN1\"]"
   ]
  },
  {
   "cell_type": "code",
   "execution_count": null,
   "id": "b932b485addc67f9",
   "metadata": {
    "tags": [
     "keep"
    ]
   },
   "outputs": [],
   "source": [
    "# Check all rentals\n",
    "print(\n",
    "    rental_registry.get_all_rentals()\n",
    ")  # {\"M001\": [\"ISBN1\", \"ISBN2\"], \"M002\": [\"ISBN1\"]}"
   ]
  },
  {
   "cell_type": "code",
   "execution_count": null,
   "id": "55d8185ee87cfb8f",
   "metadata": {
    "slideshow": {
     "slide_type": "subslide"
    },
    "tags": [
     "keep",
     "subslide"
    ]
   },
   "outputs": [],
   "source": [
    "# Return a book\n",
    "rental_registry.return_book(\"M001\", \"ISBN1\", book_inventory)\n",
    "print(book_inventory.is_available(\"ISBN1\"))  # True"
   ]
  },
  {
   "cell_type": "code",
   "execution_count": null,
   "id": "614882e3801f740d",
   "metadata": {
    "slideshow": {
     "slide_type": "subslide"
    },
    "tags": [
     "alt",
     "subslide"
    ]
   },
   "outputs": [],
   "source": [
    "@dataclass\n",
    "class Library:\n",
    "    book_inventory: BookInventory = field(default_factory=BookInventory)\n",
    "    member_registry: MemberRegistry = field(default_factory=MemberRegistry)\n",
    "    rental_registry: RentalRegistry = field(default_factory=RentalRegistry)\n",
    "\n",
    "    def add_book(self, title: str, authors: list[str], isbn: str, num_copies: int = 1):\n",
    "        self.book_inventory.add_book(BookInfo(title, authors, isbn, num_copies))\n",
    "\n",
    "    def add_member(self, name: str, address: str, member_id: str):\n",
    "        self.member_registry.add_member(MemberInfo(name, address, member_id))\n",
    "\n",
    "    def borrow_book(self, member_id: str, isbn: str):\n",
    "        self.rental_registry.borrow_book(member_id, isbn, self.book_inventory)\n",
    "\n",
    "    def return_book(self, member_id: str, isbn: str):\n",
    "        self.rental_registry.return_book(member_id, isbn, self.book_inventory)\n",
    "\n",
    "    def is_book_available(self, isbn: str) -> bool:\n",
    "        return self.book_inventory.is_available(isbn)\n",
    "\n",
    "    def get_member_rentals(self, member_id: str) -> list[str]:\n",
    "        return self.rental_registry.get_member_rentals(member_id)\n",
    "\n",
    "    def get_all_rentals(self) -> dict[str, list[str]]:\n",
    "        return self.rental_registry.get_all_rentals()"
   ]
  },
  {
   "cell_type": "code",
   "execution_count": null,
   "id": "6a18f23d6089fcd9",
   "metadata": {
    "tags": [
     "alt"
    ]
   },
   "outputs": [],
   "source": [
    "library = Library()"
   ]
  },
  {
   "cell_type": "code",
   "execution_count": null,
   "id": "ac4d9fd437b86707",
   "metadata": {
    "tags": [
     "alt"
    ]
   },
   "outputs": [],
   "source": [
    "library.add_book(\"Book 1\", [\"Author 1\"], \"ISBN1\", 2)\n",
    "library.add_book(\"Book 2\", [\"Author 2\"], \"ISBN2\", 1)"
   ]
  },
  {
   "cell_type": "code",
   "execution_count": null,
   "id": "61695ca4217ba319",
   "metadata": {
    "tags": [
     "alt"
    ]
   },
   "outputs": [],
   "source": [
    "library.add_member(\"John Doe\", \"123 Main St\", \"M001\")\n",
    "library.add_member(\"Jane Smith\", \"456 Elm St\", \"M002\")"
   ]
  },
  {
   "cell_type": "code",
   "execution_count": null,
   "id": "b49c470ad565e26d",
   "metadata": {
    "tags": [
     "alt"
    ]
   },
   "outputs": [],
   "source": [
    "print(library.is_book_available(\"ISBN1\"))  # True\n",
    "print(library.is_book_available(\"ISBN2\"))  # True"
   ]
  },
  {
   "cell_type": "code",
   "execution_count": null,
   "id": "a6fb82576c76f5ae",
   "metadata": {
    "tags": [
     "alt"
    ]
   },
   "outputs": [],
   "source": [
    "library.borrow_book(\"M001\", \"ISBN1\")\n",
    "library.borrow_book(\"M001\", \"ISBN2\")"
   ]
  },
  {
   "cell_type": "code",
   "execution_count": null,
   "id": "0e3ca0fffdff9b02",
   "metadata": {
    "tags": [
     "alt"
    ]
   },
   "outputs": [],
   "source": [
    "print(library.is_book_available(\"ISBN1\"))  # True\n",
    "print(library.is_book_available(\"ISBN2\"))  # False"
   ]
  },
  {
   "cell_type": "code",
   "execution_count": null,
   "id": "87c7a7fecb06add7",
   "metadata": {
    "tags": [
     "alt"
    ]
   },
   "outputs": [],
   "source": [
    "library.borrow_book(\"M002\", \"ISBN1\")\n",
    "library.borrow_book(\"M002\", \"ISBN2\")"
   ]
  },
  {
   "cell_type": "code",
   "execution_count": null,
   "id": "3da9b25397bf7393",
   "metadata": {
    "tags": [
     "alt"
    ]
   },
   "outputs": [],
   "source": [
    "print(library.is_book_available(\"ISBN1\"))  # False\n",
    "print(library.is_book_available(\"ISBN2\"))  # False"
   ]
  },
  {
   "cell_type": "code",
   "execution_count": null,
   "id": "8a3bfbdcc39a5c04",
   "metadata": {
    "tags": [
     "alt"
    ]
   },
   "outputs": [],
   "source": [
    "library.get_member_rentals(\"M001\")"
   ]
  },
  {
   "cell_type": "code",
   "execution_count": null,
   "id": "4360b4eed1e4a19c",
   "metadata": {
    "tags": [
     "alt"
    ]
   },
   "outputs": [],
   "source": [
    "library.get_all_rentals()"
   ]
  }
 ],
 "metadata": {
  "jupytext": {
   "cell_metadata_filter": "lang,tags,-all",
   "main_language": "python",
   "notebook_metadata_filter": "-all"
  },
  "kernelspec": {
   "display_name": "Python 3 (ipykernel)",
   "language": "python",
   "name": "python3"
  },
  "language_info": {
   "codemirror_mode": {
    "name": "ipython",
    "version": 3
   },
   "file_extension": ".py",
   "mimetype": "text/x-python",
   "name": "python",
   "nbconvert_exporter": "python",
   "pygments_lexer": "ipython3"
  }
 },
 "nbformat": 4,
 "nbformat_minor": 5
}
