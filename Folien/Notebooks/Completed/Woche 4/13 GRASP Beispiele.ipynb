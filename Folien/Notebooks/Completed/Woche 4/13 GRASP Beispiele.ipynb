{
 "cells": [
  {
   "cell_type": "markdown",
   "id": "8a59cc76179a925d",
   "metadata": {
    "lang": "de",
    "slideshow": {
     "slide_type": "slide"
    },
    "tags": [
     "slide"
    ]
   },
   "source": [
    "\n",
    "<img src=\"data:image/svg+xml;base64,PHN2ZyB4bWxucz0iaHR0cDovL3d3dy53My5vcmcvMjAwMC9zdmciIHhtbG5zOnhsaW5rPSJodHRw\n",
    "Oi8vd3d3LnczLm9yZy8xOTk5L3hsaW5rIiB3aWR0aD0iMTExLjE2MSIgaGVpZ2h0PSIxMzQuNjY4\n",
    "IiB2ZXJzaW9uPSIxLjAiPjxkZWZzPjxsaW5lYXJHcmFkaWVudCBpZD0iYyI+PHN0b3Agb2Zmc2V0\n",
    "PSIwIiBzdHlsZT0ic3RvcC1jb2xvcjojYjhiOGI4O3N0b3Atb3BhY2l0eTouNDk4MDM5MjIiLz48\n",
    "c3RvcCBvZmZzZXQ9IjEiIHN0eWxlPSJzdG9wLWNvbG9yOiM3ZjdmN2Y7c3RvcC1vcGFjaXR5OjAi\n",
    "Lz48L2xpbmVhckdyYWRpZW50PjxsaW5lYXJHcmFkaWVudCBpZD0iYSI+PHN0b3Agb2Zmc2V0PSIw\n",
    "IiBzdHlsZT0ic3RvcC1jb2xvcjojZmZkNDNiO3N0b3Atb3BhY2l0eToxIi8+PHN0b3Agb2Zmc2V0\n",
    "PSIxIiBzdHlsZT0ic3RvcC1jb2xvcjojZmZlODczO3N0b3Atb3BhY2l0eToxIi8+PC9saW5lYXJH\n",
    "cmFkaWVudD48bGluZWFyR3JhZGllbnQgaWQ9ImIiPjxzdG9wIG9mZnNldD0iMCIgc3R5bGU9InN0\n",
    "b3AtY29sb3I6IzVhOWZkNDtzdG9wLW9wYWNpdHk6MSIvPjxzdG9wIG9mZnNldD0iMSIgc3R5bGU9\n",
    "InN0b3AtY29sb3I6IzMwNjk5ODtzdG9wLW9wYWNpdHk6MSIvPjwvbGluZWFyR3JhZGllbnQ+PGxp\n",
    "bmVhckdyYWRpZW50IHhsaW5rOmhyZWY9IiNhIiBpZD0iZSIgeDE9IjE1MC45NjEiIHgyPSIxMTIu\n",
    "MDMxIiB5MT0iMTkyLjM1MiIgeTI9IjEzNy4yNzMiIGdyYWRpZW50VHJhbnNmb3JtPSJtYXRyaXgo\n",
    "LjU2MjU0IDAgMCAuNTY3OTcgLTE0Ljk5MSAtMTEuNzAyKSIgZ3JhZGllbnRVbml0cz0idXNlclNw\n",
    "YWNlT25Vc2UiLz48bGluZWFyR3JhZGllbnQgeGxpbms6aHJlZj0iI2IiIGlkPSJkIiB4MT0iMjYu\n",
    "NjQ5IiB4Mj0iMTM1LjY2NSIgeTE9IjIwLjYwNCIgeTI9IjExNC4zOTgiIGdyYWRpZW50VHJhbnNm\n",
    "b3JtPSJtYXRyaXgoLjU2MjU0IDAgMCAuNTY3OTcgLTE0Ljk5MSAtMTEuNzAyKSIgZ3JhZGllbnRV\n",
    "bml0cz0idXNlclNwYWNlT25Vc2UiLz48cmFkaWFsR3JhZGllbnQgeGxpbms6aHJlZj0iI2MiIGlk\n",
    "PSJmIiBjeD0iNjEuNTE5IiBjeT0iMTMyLjI4NiIgcj0iMjkuMDM3IiBmeD0iNjEuNTE5IiBmeT0i\n",
    "MTMyLjI4NiIgZ3JhZGllbnRUcmFuc2Zvcm09Im1hdHJpeCgwIC0uMjM5OTUgMS4wNTQ2NyAwIC04\n",
    "My43IDE0Mi40NjIpIiBncmFkaWVudFVuaXRzPSJ1c2VyU3BhY2VPblVzZSIvPjwvZGVmcz48cGF0\n",
    "aCBkPSJNNTQuOTE5IDBjLTQuNTg0LjAyMi04Ljk2MS40MTMtMTIuODEzIDEuMDk1QzMwLjc2IDMu\n",
    "MDk5IDI4LjcgNy4yOTUgMjguNyAxNS4wMzJ2MTAuMjE5aDI2LjgxM3YzLjQwNkgxOC42MzhjLTcu\n",
    "NzkzIDAtMTQuNjE2IDQuNjg0LTE2Ljc1IDEzLjU5NC0yLjQ2MiAxMC4yMTMtMi41NzEgMTYuNTg2\n",
    "IDAgMjcuMjUgMS45MDUgNy45MzggNi40NTcgMTMuNTk0IDE0LjI1IDEzLjU5NGg5LjIxOHYtMTIu\n",
    "MjVjMC04Ljg1IDcuNjU3LTE2LjY1NyAxNi43NS0xNi42NTdoMjYuNzgyYzcuNDU0IDAgMTMuNDA2\n",
    "LTYuMTM4IDEzLjQwNi0xMy42MjV2LTI1LjUzYzAtNy4yNjctNi4xMy0xMi43MjYtMTMuNDA2LTEz\n",
    "LjkzOEM2NC4yODIuMzI4IDU5LjUwMi0uMDIgNTQuOTE4IDBtLTE0LjUgOC4yMmMyLjc3IDAgNS4w\n",
    "MzEgMi4yOTggNS4wMzEgNS4xMjUgMCAyLjgxNi0yLjI2MiA1LjA5My01LjAzMSA1LjA5My0yLjc4\n",
    "IDAtNS4wMzEtMi4yNzctNS4wMzEtNS4wOTMgMC0yLjgyNyAyLjI1MS01LjEyNSA1LjAzLTUuMTI1\n",
    "IiBzdHlsZT0iZmlsbDp1cmwoI2QpO2ZpbGwtb3BhY2l0eToxIi8+PHBhdGggZD0iTTg1LjYzOCAy\n",
    "OC42NTd2MTEuOTA2YzAgOS4yMzEtNy44MjYgMTctMTYuNzUgMTdINDIuMTA2Yy03LjMzNiAwLTEz\n",
    "LjQwNiA2LjI3OS0xMy40MDYgMTMuNjI1Vjk2LjcyYzAgNy4yNjYgNi4zMTkgMTEuNTQgMTMuNDA2\n",
    "IDEzLjYyNSA4LjQ4OCAyLjQ5NSAxNi42MjcgMi45NDYgMjYuNzgyIDAgNi43NS0xLjk1NSAxMy40\n",
    "MDYtNS44ODggMTMuNDA2LTEzLjYyNVY4Ni41SDU1LjUxM3YtMy40MDVIOTUuN2M3Ljc5MyAwIDEw\n",
    "LjY5Ni01LjQzNiAxMy40MDYtMTMuNTk0IDIuOC04LjM5OSAyLjY4LTE2LjQ3NiAwLTI3LjI1LTEu\n",
    "OTI1LTcuNzU4LTUuNjA0LTEzLjU5NC0xMy40MDYtMTMuNTk0ek03MC41NzUgOTMuMzEzYzIuNzgg\n",
    "MCA1LjAzMSAyLjI3OCA1LjAzMSA1LjA5NCAwIDIuODI3LTIuMjUxIDUuMTI1LTUuMDMxIDUuMTI1\n",
    "LTIuNzcgMC01LjAzMS0yLjI5OC01LjAzMS01LjEyNSAwLTIuODE2IDIuMjYxLTUuMDk0IDUuMDMx\n",
    "LTUuMDk0IiBzdHlsZT0iZmlsbDp1cmwoI2UpO2ZpbGwtb3BhY2l0eToxIi8+PGVsbGlwc2UgY3g9\n",
    "IjU1LjgxNyIgY3k9IjEyNy43MDEiIHJ4PSIzNS45MzEiIHJ5PSI2Ljk2NyIgc3R5bGU9Im9wYWNp\n",
    "dHk6LjQ0MzgyO2ZpbGw6dXJsKCNmKTtmaWxsLW9wYWNpdHk6MTtmaWxsLXJ1bGU6bm9uemVybztz\n",
    "dHJva2U6bm9uZTtzdHJva2Utd2lkdGg6MTUuNDE3NDtzdHJva2UtbWl0ZXJsaW1pdDo0O3N0cm9r\n",
    "ZS1kYXNoYXJyYXk6bm9uZTtzdHJva2Utb3BhY2l0eToxIi8+PC9zdmc+\n",
    "\"\n",
    "     style=\"display:block;margin:auto;width:10%\" alt=\"Python Logo\"/>\n",
    "<br>\n",
    "\n",
    "<div style=\"text-align:center; font-size:200%;\">\n",
    " <b>GRASP: Beispiele</b>\n",
    "</div>\n",
    "<br/>\n",
    "<div style=\"text-align:center;\">Dr. Matthias Hölzl</div>\n",
    "<br/>"
   ]
  },
  {
   "cell_type": "markdown",
   "id": "517509665000c91f",
   "metadata": {
    "lang": "de",
    "slideshow": {
     "slide_type": "subslide"
    },
    "tags": [
     "subslide"
    ]
   },
   "source": [
    "\n",
    "## Problem: Anbindung an externe Bibliotheken\n",
    "\n",
    "- Wir haben externe Bibliotheken, die wir in unserem Programm verwenden wollen.\n",
    "- Leider sind diese plattformspezifisch.\n",
    "- Wie wollen unsere Anwendung so schreiben, dass wir die Bibliothek austauschen\n",
    "  können, ohne die Anwendung ändern zu müssen."
   ]
  },
  {
   "cell_type": "code",
   "execution_count": null,
   "id": "1cf34e382c4b1f23",
   "metadata": {
    "tags": [
     "keep"
    ]
   },
   "outputs": [],
   "source": [
    "class ExternalLibraryPC:\n",
    "    @staticmethod\n",
    "    def specific_request(n: int, text: str) -> str:\n",
    "        return f\"ExternalLibraryPC: {text * n}\""
   ]
  },
  {
   "cell_type": "code",
   "execution_count": null,
   "id": "e0d83cefe2818837",
   "metadata": {
    "lines_to_next_cell": 2,
    "tags": [
     "keep"
    ]
   },
   "outputs": [],
   "source": [
    "class ExternalLibraryMac:\n",
    "    @staticmethod\n",
    "    def specific_request(text: str, n: int, sep: str = \"\") -> str:\n",
    "        return f\"ExternalLibraryMac: {(text + sep) * n}\""
   ]
  },
  {
   "cell_type": "markdown",
   "id": "79d30de5f31696cb",
   "metadata": {
    "lang": "de"
   },
   "source": [
    "\n",
    "Wie können wir das Problem mit den GRASP-Patterns lösen?"
   ]
  },
  {
   "cell_type": "markdown",
   "id": "84f3ae9c0a0ea412",
   "metadata": {
    "lang": "de",
    "slideshow": {
     "slide_type": "subslide"
    },
    "tags": [
     "subslide"
    ]
   },
   "source": [
    "\n",
    "### Protected Variations\n",
    "\n",
    "- Wir können die Anbindung an die externe Bibliothek als eine geschützte\n",
    "  Variation betrachten.\n",
    "- Der Variationspunkt ist der Aufruf der Funktion, die den String erzeugt.\n",
    "- Alle anderen Teile unserer Anwendung sollen vor Änderungen geschützt sein."
   ]
  },
  {
   "cell_type": "markdown",
   "id": "7bdbedcff965c192",
   "metadata": {
    "lang": "de",
    "lines_to_next_cell": 2,
    "slideshow": {
     "slide_type": "subslide"
    },
    "tags": [
     "subslide"
    ]
   },
   "source": [
    "\n",
    "### Indirection/Polymorphie\n",
    "\n",
    "- Welchen Mechanismus können wir dafür verwenden?\n",
    "- Wir führen eine Indirektion ein, und zwar konkret ein Interface, das die\n",
    "  gewünschte Funktionalität abstrahiert.\n",
    "- Dieses Interface ist eine Pure Fabrication"
   ]
  },
  {
   "cell_type": "code",
   "execution_count": null,
   "id": "358d3acdd9f86a51",
   "metadata": {
    "slideshow": {
     "slide_type": "subslide"
    },
    "tags": [
     "keep",
     "subslide"
    ]
   },
   "outputs": [],
   "source": [
    "from abc import ABC, abstractmethod"
   ]
  },
  {
   "cell_type": "code",
   "execution_count": null,
   "id": "672b975238459c0f",
   "metadata": {
    "lines_to_next_cell": 2,
    "tags": [
     "keep"
    ]
   },
   "outputs": [],
   "source": [
    "class LibraryAdapter(ABC):\n",
    "    @abstractmethod\n",
    "    def process_string(self, text: str, sep: str, n: int) -> str: ..."
   ]
  },
  {
   "cell_type": "markdown",
   "id": "22531adcd571a687",
   "metadata": {
    "lang": "de",
    "slideshow": {
     "slide_type": "subslide"
    },
    "tags": [
     "subslide"
    ]
   },
   "source": [
    "\n",
    "Wir verwenden das Interface in unserer Anwendung:"
   ]
  },
  {
   "cell_type": "code",
   "execution_count": null,
   "id": "abceaabcaa5b8e4d",
   "metadata": {
    "lines_to_next_cell": 2,
    "tags": [
     "keep"
    ]
   },
   "outputs": [],
   "source": [
    "class Application:\n",
    "    def __init__(self, adapter: LibraryAdapter):\n",
    "        self.adapter = adapter\n",
    "\n",
    "    def process(self, text: str) -> str:\n",
    "        return self.adapter.process_string(text, \"! \", 3)"
   ]
  },
  {
   "cell_type": "markdown",
   "id": "c67795edd9905369",
   "metadata": {
    "lang": "de",
    "slideshow": {
     "slide_type": "subslide"
    },
    "tags": [
     "subslide"
    ]
   },
   "source": [
    "\n",
    "Wir implementieren das Interface für jede Variation, die wir unterstützen wollen:"
   ]
  },
  {
   "cell_type": "code",
   "execution_count": null,
   "id": "fb1711ae9826c38a",
   "metadata": {
    "tags": [
     "keep"
    ]
   },
   "outputs": [],
   "source": [
    "class PcAdapter(LibraryAdapter):\n",
    "    def process_string(self, text: str, sep: str, n: int) -> str:\n",
    "        return ExternalLibraryPC.specific_request(n, text + sep)"
   ]
  },
  {
   "cell_type": "code",
   "execution_count": null,
   "id": "786233c3e9a409f1",
   "metadata": {
    "tags": [
     "keep"
    ]
   },
   "outputs": [],
   "source": [
    "class MacAdapter(LibraryAdapter):\n",
    "    def process_string(self, text: str, sep: str, n: int) -> str:\n",
    "        return ExternalLibraryMac.specific_request(text, n, sep)"
   ]
  },
  {
   "cell_type": "markdown",
   "id": "3dae94f1b13c0f8b",
   "metadata": {
    "lang": "de",
    "slideshow": {
     "slide_type": "subslide"
    },
    "tags": [
     "subslide"
    ]
   },
   "source": [
    "\n",
    "Jetzt können wir den Variationspunkt in unserer Anwendung austauschen:"
   ]
  },
  {
   "cell_type": "code",
   "execution_count": null,
   "id": "1de75fbe078ad154",
   "metadata": {
    "tags": [
     "keep"
    ]
   },
   "outputs": [],
   "source": [
    "app = Application(PcAdapter())\n",
    "print(app.process(\"Go\"))"
   ]
  },
  {
   "cell_type": "code",
   "execution_count": null,
   "id": "53dc1e3319d8fe83",
   "metadata": {
    "lines_to_next_cell": 2,
    "tags": [
     "keep"
    ]
   },
   "outputs": [],
   "source": [
    "app = Application(MacAdapter())\n",
    "print(app.process(\"Stop\"))"
   ]
  },
  {
   "cell_type": "markdown",
   "id": "91950e207511ce19",
   "metadata": {
    "lang": "de",
    "slideshow": {
     "slide_type": "subslide"
    },
    "tags": [
     "subslide"
    ]
   },
   "source": [
    "\n",
    "## Beispiel: Adapter-Pattern\n",
    "\n",
    "<img src=\"img/pat_adapter.svg\"\n",
    "     style=\"display: block; margin: auto; width: 80%;\"/>"
   ]
  },
  {
   "cell_type": "markdown",
   "id": "8350dfd35ab55e6b",
   "metadata": {
    "lang": "de",
    "slideshow": {
     "slide_type": "subslide"
    },
    "tags": [
     "subslide"
    ]
   },
   "source": [
    "\n",
    "## Beispiel: Strategie-Pattern\n",
    "\n",
    "Bei der Auswahl der nächsten Aktion durch den Spieler in unserem Adventure-Spiel\n",
    "hatten wir das Strategie-Pattern angewendet:\n",
    "\n",
    "<img src=\"img/pat_strategy.svg\"\n",
    "     style=\"display:block;margin:auto;width:80%\"/>\n",
    "\n",
    "Wie können wir diese Anwendung des Strategie-Patterns mit den abstrakten\n",
    "GRASP-Patterns analysieren?"
   ]
  },
  {
   "cell_type": "markdown",
   "id": "359afeb12fd6ba97",
   "metadata": {
    "lang": "de",
    "slideshow": {
     "slide_type": "subslide"
    },
    "tags": [
     "subslide"
    ]
   },
   "source": [
    "\n",
    "## Beispiel: Template-Methoden-Pattern\n",
    "\n",
    "Analysieren Sie, wie sich die Anwendung der abstrakten GRASP-Patterns\n",
    "auf das Template-Methoden-Pattern von der Anwendung auf das Strategie-Pattern\n",
    "unterscheidet.\n",
    "\n",
    "<img src=\"img/pat_template_method.svg\"\n",
    "     style=\"display:block;margin:auto;width:40%\"/>"
   ]
  },
  {
   "cell_type": "markdown",
   "id": "d393b76db8572fe3",
   "metadata": {
    "lang": "de",
    "slideshow": {
     "slide_type": "subslide"
    },
    "tags": [
     "subslide"
    ]
   },
   "source": [
    "\n",
    "## Workshop: GRASP-Abstraktionen\n",
    "\n",
    "Analysieren Sie die folgenden Beispiele auf ähnliche Art und Weise:"
   ]
  },
  {
   "cell_type": "markdown",
   "id": "d6b3cef34ce5ce0d",
   "metadata": {
    "lang": "de",
    "slideshow": {
     "slide_type": "subslide"
    },
    "tags": [
     "subslide"
    ]
   },
   "source": [
    "\n",
    "### Beispiel: Command-Pattern\n",
    "\n",
    "Wir haben das Command-Pattern verwendet, um die Aktionen des Spielers\n",
    "zu realisieren. Wie können wir das mit den abstrakten GRASP-Patterns\n",
    "analysieren?\n",
    "\n",
    "<img src=\"img/pat_command.svg\"\n",
    "     style=\"display:block;margin:auto;width:70%\"/>"
   ]
  },
  {
   "cell_type": "markdown",
   "id": "20b1203b6bf190c8",
   "metadata": {
    "lang": "de",
    "slideshow": {
     "slide_type": "subslide"
    },
    "tags": [
     "subslide"
    ]
   },
   "source": [
    "\n",
    "### Beispiel: Push Observer\n",
    "\n",
    "Um Benachrichtigungen über Änderungen im Spielzustand zu erhalten, haben\n",
    "wir eine Variante des Observer-Patterns verwendet, bei der der Observer\n",
    "mehrere `notify...()`-Methoden hat, die von den Subjects aufgerufen werden.\n",
    "\n",
    "Analysieren Sie diese Anwendung des Observer-Patterns mit den abstrakten\n",
    "GRASP-Patterns.\n",
    "\n",
    "<img src=\"img/pat_observer_push.svg\"\n",
    "     style=\"display:block;margin:auto;width:100%\"/>"
   ]
  }
 ],
 "metadata": {
  "jupytext": {
   "cell_metadata_filter": "lang,tags,-all",
   "main_language": "python",
   "notebook_metadata_filter": "-all"
  },
  "kernelspec": {
   "display_name": "Python 3 (ipykernel)",
   "language": "python",
   "name": "python3"
  },
  "language_info": {
   "codemirror_mode": {
    "name": "ipython",
    "version": 3
   },
   "file_extension": ".py",
   "mimetype": "text/x-python",
   "name": "python",
   "nbconvert_exporter": "python",
   "pygments_lexer": "ipython3"
  }
 },
 "nbformat": 4,
 "nbformat_minor": 5
}
