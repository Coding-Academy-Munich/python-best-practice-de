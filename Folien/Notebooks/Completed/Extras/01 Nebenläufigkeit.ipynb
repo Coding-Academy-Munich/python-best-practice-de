{
 "cells": [
  {
   "cell_type": "markdown",
   "id": "49fb06564acb2dfb",
   "metadata": {
    "lang": "de",
    "slideshow": {
     "slide_type": "slide"
    },
    "tags": [
     "slide"
    ]
   },
   "source": [
    "\n",
    "<img src=\"data:image/svg+xml;base64,PHN2ZyB4bWxucz0iaHR0cDovL3d3dy53My5vcmcvMjAwMC9zdmciIHhtbG5zOnhsaW5rPSJodHRw\n",
    "Oi8vd3d3LnczLm9yZy8xOTk5L3hsaW5rIiB3aWR0aD0iMTExLjE2MSIgaGVpZ2h0PSIxMzQuNjY4\n",
    "IiB2ZXJzaW9uPSIxLjAiPjxkZWZzPjxsaW5lYXJHcmFkaWVudCBpZD0iYyI+PHN0b3Agb2Zmc2V0\n",
    "PSIwIiBzdHlsZT0ic3RvcC1jb2xvcjojYjhiOGI4O3N0b3Atb3BhY2l0eTouNDk4MDM5MjIiLz48\n",
    "c3RvcCBvZmZzZXQ9IjEiIHN0eWxlPSJzdG9wLWNvbG9yOiM3ZjdmN2Y7c3RvcC1vcGFjaXR5OjAi\n",
    "Lz48L2xpbmVhckdyYWRpZW50PjxsaW5lYXJHcmFkaWVudCBpZD0iYSI+PHN0b3Agb2Zmc2V0PSIw\n",
    "IiBzdHlsZT0ic3RvcC1jb2xvcjojZmZkNDNiO3N0b3Atb3BhY2l0eToxIi8+PHN0b3Agb2Zmc2V0\n",
    "PSIxIiBzdHlsZT0ic3RvcC1jb2xvcjojZmZlODczO3N0b3Atb3BhY2l0eToxIi8+PC9saW5lYXJH\n",
    "cmFkaWVudD48bGluZWFyR3JhZGllbnQgaWQ9ImIiPjxzdG9wIG9mZnNldD0iMCIgc3R5bGU9InN0\n",
    "b3AtY29sb3I6IzVhOWZkNDtzdG9wLW9wYWNpdHk6MSIvPjxzdG9wIG9mZnNldD0iMSIgc3R5bGU9\n",
    "InN0b3AtY29sb3I6IzMwNjk5ODtzdG9wLW9wYWNpdHk6MSIvPjwvbGluZWFyR3JhZGllbnQ+PGxp\n",
    "bmVhckdyYWRpZW50IHhsaW5rOmhyZWY9IiNhIiBpZD0iZSIgeDE9IjE1MC45NjEiIHgyPSIxMTIu\n",
    "MDMxIiB5MT0iMTkyLjM1MiIgeTI9IjEzNy4yNzMiIGdyYWRpZW50VHJhbnNmb3JtPSJtYXRyaXgo\n",
    "LjU2MjU0IDAgMCAuNTY3OTcgLTE0Ljk5MSAtMTEuNzAyKSIgZ3JhZGllbnRVbml0cz0idXNlclNw\n",
    "YWNlT25Vc2UiLz48bGluZWFyR3JhZGllbnQgeGxpbms6aHJlZj0iI2IiIGlkPSJkIiB4MT0iMjYu\n",
    "NjQ5IiB4Mj0iMTM1LjY2NSIgeTE9IjIwLjYwNCIgeTI9IjExNC4zOTgiIGdyYWRpZW50VHJhbnNm\n",
    "b3JtPSJtYXRyaXgoLjU2MjU0IDAgMCAuNTY3OTcgLTE0Ljk5MSAtMTEuNzAyKSIgZ3JhZGllbnRV\n",
    "bml0cz0idXNlclNwYWNlT25Vc2UiLz48cmFkaWFsR3JhZGllbnQgeGxpbms6aHJlZj0iI2MiIGlk\n",
    "PSJmIiBjeD0iNjEuNTE5IiBjeT0iMTMyLjI4NiIgcj0iMjkuMDM3IiBmeD0iNjEuNTE5IiBmeT0i\n",
    "MTMyLjI4NiIgZ3JhZGllbnRUcmFuc2Zvcm09Im1hdHJpeCgwIC0uMjM5OTUgMS4wNTQ2NyAwIC04\n",
    "My43IDE0Mi40NjIpIiBncmFkaWVudFVuaXRzPSJ1c2VyU3BhY2VPblVzZSIvPjwvZGVmcz48cGF0\n",
    "aCBkPSJNNTQuOTE5IDBjLTQuNTg0LjAyMi04Ljk2MS40MTMtMTIuODEzIDEuMDk1QzMwLjc2IDMu\n",
    "MDk5IDI4LjcgNy4yOTUgMjguNyAxNS4wMzJ2MTAuMjE5aDI2LjgxM3YzLjQwNkgxOC42MzhjLTcu\n",
    "NzkzIDAtMTQuNjE2IDQuNjg0LTE2Ljc1IDEzLjU5NC0yLjQ2MiAxMC4yMTMtMi41NzEgMTYuNTg2\n",
    "IDAgMjcuMjUgMS45MDUgNy45MzggNi40NTcgMTMuNTk0IDE0LjI1IDEzLjU5NGg5LjIxOHYtMTIu\n",
    "MjVjMC04Ljg1IDcuNjU3LTE2LjY1NyAxNi43NS0xNi42NTdoMjYuNzgyYzcuNDU0IDAgMTMuNDA2\n",
    "LTYuMTM4IDEzLjQwNi0xMy42MjV2LTI1LjUzYzAtNy4yNjctNi4xMy0xMi43MjYtMTMuNDA2LTEz\n",
    "LjkzOEM2NC4yODIuMzI4IDU5LjUwMi0uMDIgNTQuOTE4IDBtLTE0LjUgOC4yMmMyLjc3IDAgNS4w\n",
    "MzEgMi4yOTggNS4wMzEgNS4xMjUgMCAyLjgxNi0yLjI2MiA1LjA5My01LjAzMSA1LjA5My0yLjc4\n",
    "IDAtNS4wMzEtMi4yNzctNS4wMzEtNS4wOTMgMC0yLjgyNyAyLjI1MS01LjEyNSA1LjAzLTUuMTI1\n",
    "IiBzdHlsZT0iZmlsbDp1cmwoI2QpO2ZpbGwtb3BhY2l0eToxIi8+PHBhdGggZD0iTTg1LjYzOCAy\n",
    "OC42NTd2MTEuOTA2YzAgOS4yMzEtNy44MjYgMTctMTYuNzUgMTdINDIuMTA2Yy03LjMzNiAwLTEz\n",
    "LjQwNiA2LjI3OS0xMy40MDYgMTMuNjI1Vjk2LjcyYzAgNy4yNjYgNi4zMTkgMTEuNTQgMTMuNDA2\n",
    "IDEzLjYyNSA4LjQ4OCAyLjQ5NSAxNi42MjcgMi45NDYgMjYuNzgyIDAgNi43NS0xLjk1NSAxMy40\n",
    "MDYtNS44ODggMTMuNDA2LTEzLjYyNVY4Ni41SDU1LjUxM3YtMy40MDVIOTUuN2M3Ljc5MyAwIDEw\n",
    "LjY5Ni01LjQzNiAxMy40MDYtMTMuNTk0IDIuOC04LjM5OSAyLjY4LTE2LjQ3NiAwLTI3LjI1LTEu\n",
    "OTI1LTcuNzU4LTUuNjA0LTEzLjU5NC0xMy40MDYtMTMuNTk0ek03MC41NzUgOTMuMzEzYzIuNzgg\n",
    "MCA1LjAzMSAyLjI3OCA1LjAzMSA1LjA5NCAwIDIuODI3LTIuMjUxIDUuMTI1LTUuMDMxIDUuMTI1\n",
    "LTIuNzcgMC01LjAzMS0yLjI5OC01LjAzMS01LjEyNSAwLTIuODE2IDIuMjYxLTUuMDk0IDUuMDMx\n",
    "LTUuMDk0IiBzdHlsZT0iZmlsbDp1cmwoI2UpO2ZpbGwtb3BhY2l0eToxIi8+PGVsbGlwc2UgY3g9\n",
    "IjU1LjgxNyIgY3k9IjEyNy43MDEiIHJ4PSIzNS45MzEiIHJ5PSI2Ljk2NyIgc3R5bGU9Im9wYWNp\n",
    "dHk6LjQ0MzgyO2ZpbGw6dXJsKCNmKTtmaWxsLW9wYWNpdHk6MTtmaWxsLXJ1bGU6bm9uemVybztz\n",
    "dHJva2U6bm9uZTtzdHJva2Utd2lkdGg6MTUuNDE3NDtzdHJva2UtbWl0ZXJsaW1pdDo0O3N0cm9r\n",
    "ZS1kYXNoYXJyYXk6bm9uZTtzdHJva2Utb3BhY2l0eToxIi8+PC9zdmc+\n",
    "\"\n",
    "     style=\"display:block;margin:auto;width:10%\" alt=\"Python Logo\"/>\n",
    "<br>\n",
    "\n",
    "<div style=\"text-align:center; font-size:200%;\">\n",
    " <b>Nebenläufigkeit</b>\n",
    "</div>\n",
    "<br/>\n",
    "<div style=\"text-align:center;\">Dr. Matthias Hölzl</div>\n",
    "<br/>"
   ]
  },
  {
   "cell_type": "markdown",
   "id": "c2b156ce5f867ae3",
   "metadata": {
    "lang": "de",
    "slideshow": {
     "slide_type": "slide"
    },
    "tags": [
     "slide"
    ]
   },
   "source": [
    "\n",
    "# Nebenläufigkeit\n",
    "\n",
    "Definition von Leslie Lamport (in *Time, Clocks, and the Ordering of Events*, 1976):\n",
    "\n",
    "<blockquote>\n",
    "Zwei Ereignisse sind *nebenläufig*, wenn keines das andere kausal beeinflussen kann.\n",
    "</blockquote>\n",
    "\n",
    "D.h., nebenläufige Ereignisse können in beliebiger Reihenfolge ausgeführt werden."
   ]
  },
  {
   "cell_type": "markdown",
   "id": "b25ce3cab7317feb",
   "metadata": {
    "lang": "de",
    "slideshow": {
     "slide_type": "subslide"
    },
    "tags": [
     "subslide"
    ]
   },
   "source": [
    "\n",
    "## Wann ist Nebenläufigkeit sinnvoll?\n",
    "\n",
    "- Zum Verringern von Latenz und Erhöhen von Durchsatz\n",
    "- Zum Ausnutzen mehrerer Prozessoren/Rechenkerne\n",
    "- Zur Durchführung von Hintergrundaktivitäten"
   ]
  },
  {
   "cell_type": "markdown",
   "id": "cac8c09206e9cd01",
   "metadata": {
    "lang": "de",
    "slideshow": {
     "slide_type": "subslide"
    },
    "tags": [
     "subslide"
    ]
   },
   "source": [
    "\n",
    "Wie kann Nebenläufigkeit realisiert werden?\n",
    "\n",
    "- Interleaving (Zeitscheiben)\n",
    "- Asynchrone Verarbeitung (Sonderfall von Interleaving)\n",
    "- Parallele Verarbeitung"
   ]
  },
  {
   "cell_type": "markdown",
   "id": "85a2cf8b0de705e8",
   "metadata": {
    "lang": "de",
    "slideshow": {
     "slide_type": "subslide"
    },
    "tags": [
     "subslide"
    ]
   },
   "source": [
    "\n",
    "Wie kann Nebenläufigkeit realisiert werden?\n",
    "\n",
    "- Interleaving (Zeitscheiben): Coroutines, ...\n",
    "- Asynchrone Verarbeitung: Event-Loop, Async, ...\n",
    "- Parallele Verarbeitung: Threads, Processes, Futures, ...\n",
    "\n",
    "Aber: In Python bewirken Threads in der Regel eher ein Interleaving als echte\n",
    "parallele Verarbeitung!"
   ]
  },
  {
   "cell_type": "markdown",
   "id": "3f201e75857b1c0f",
   "metadata": {
    "lang": "de",
    "slideshow": {
     "slide_type": "subslide"
    },
    "tags": [
     "subslide"
    ]
   },
   "source": [
    "\n",
    "## Threads\n",
    "\n",
    "Threads werden durch die Klasse `threading.Thread` gekapselt:\n",
    "\n",
    "- `target` Initarg bestimmt die Funktion, die ausgeführt wird\n",
    "- `Thread.start()` startet den Thread\n",
    "- `Thread."
   ]
  },
  {
   "cell_type": "markdown",
   "id": "4ebd1ab87a7124a9",
   "metadata": {
    "lang": "de",
    "slideshow": {
     "slide_type": "subslide"
    },
    "tags": [
     "subslide"
    ]
   },
   "source": [
    "\n",
    "### Hintergrundverarbeitung"
   ]
  },
  {
   "cell_type": "code",
   "execution_count": 1,
   "id": "a4d8610b7a25219e",
   "metadata": {},
   "outputs": [],
   "source": [
    "def wait_and_print():\n",
    "    from time import sleep\n",
    "\n",
    "    print(\"Starting...\")\n",
    "    sleep(10)\n",
    "    print(\"Stopping...\")"
   ]
  },
  {
   "cell_type": "code",
   "execution_count": 2,
   "id": "02d46ae7d8a026d2",
   "metadata": {},
   "outputs": [],
   "source": [
    "from threading import Thread\n",
    "\n",
    "my_thread = Thread(target=wait_and_print)"
   ]
  },
  {
   "cell_type": "code",
   "execution_count": 3,
   "id": "2cad4418b83d1744",
   "metadata": {},
   "outputs": [
    {
     "name": "stdout",
     "output_type": "stream",
     "text": [
      "Starting...\n",
      "Stopping...\n"
     ]
    }
   ],
   "source": [
    "my_thread.start()"
   ]
  },
  {
   "cell_type": "code",
   "execution_count": 4,
   "id": "f779b836c60996b8",
   "metadata": {},
   "outputs": [
    {
     "name": "stdout",
     "output_type": "stream",
     "text": [
      "Hello, from main Thread!\n",
      "My thread is alive: True\n"
     ]
    }
   ],
   "source": [
    "print(\"Hello, from main Thread!\")\n",
    "print(\"My thread is alive:\", my_thread.is_alive())"
   ]
  },
  {
   "cell_type": "code",
   "execution_count": 5,
   "id": "5dc4c6eec7b44d89",
   "metadata": {},
   "outputs": [
    {
     "name": "stdout",
     "output_type": "stream",
     "text": [
      "This should run only after my_thread is done.\n",
      "My thread is alive: False\n"
     ]
    }
   ],
   "source": [
    "my_thread.join()\n",
    "print(\"This should run only after my_thread is done.\")\n",
    "print(\"My thread is alive:\", my_thread.is_alive())"
   ]
  },
  {
   "cell_type": "markdown",
   "id": "a8e4567319ea9001",
   "metadata": {
    "lang": "de",
    "slideshow": {
     "slide_type": "subslide"
    },
    "tags": [
     "subslide"
    ]
   },
   "source": [
    "\n",
    "### Verringern von Latenz und Erhöhen von Durchsatz"
   ]
  },
  {
   "cell_type": "code",
   "execution_count": 6,
   "id": "2b40662f0423e189",
   "metadata": {},
   "outputs": [],
   "source": [
    "from time import sleep\n",
    "from random import random\n",
    "import timeit\n",
    "\n",
    "\n",
    "def simulate_processing_time(delta_time=0.1):\n",
    "    sleep(random() * delta_time + delta_time)"
   ]
  },
  {
   "cell_type": "code",
   "execution_count": 7,
   "id": "a681e84310d97e6a",
   "metadata": {},
   "outputs": [],
   "source": [
    "def process_request(data, results, delta_time=0.1):\n",
    "    simulate_processing_time(delta_time)\n",
    "    # Is this correct?\n",
    "    results.append(f\"->{data}\")"
   ]
  },
  {
   "cell_type": "code",
   "execution_count": 8,
   "id": "5934a81ed5120281",
   "metadata": {},
   "outputs": [],
   "source": [
    "def process_requests_sequentially(num_requests):\n",
    "    results = []\n",
    "    for i in range(num_requests):\n",
    "        process_request(i, results)\n",
    "    return results"
   ]
  },
  {
   "cell_type": "code",
   "execution_count": 9,
   "id": "0cd959dcfd24ae4b",
   "metadata": {},
   "outputs": [
    {
     "data": {
      "text/plain": [
       "['->0', '->1', '->2', '->3', '->4']"
      ]
     },
     "execution_count": 9,
     "metadata": {},
     "output_type": "execute_result"
    }
   ],
   "source": [
    "process_requests_sequentially(5)"
   ]
  },
  {
   "cell_type": "code",
   "execution_count": 10,
   "id": "4b5144e66e3aa36e",
   "metadata": {},
   "outputs": [
    {
     "data": {
      "text/plain": [
       "7.552227699998184"
      ]
     },
     "execution_count": 10,
     "metadata": {},
     "output_type": "execute_result"
    }
   ],
   "source": [
    "timeit.timeit(lambda: process_requests_sequentially(5), globals=globals(), number=10)"
   ]
  },
  {
   "cell_type": "code",
   "execution_count": 11,
   "id": "ca161e08fc60f12f",
   "metadata": {},
   "outputs": [
    {
     "data": {
      "text/plain": [
       "15.287743799999589"
      ]
     },
     "execution_count": 11,
     "metadata": {},
     "output_type": "execute_result"
    }
   ],
   "source": [
    "timeit.timeit(lambda: process_requests_sequentially(10), globals=globals(), number=10)"
   ]
  },
  {
   "cell_type": "code",
   "execution_count": 12,
   "id": "fd020068b0b3e26e",
   "metadata": {},
   "outputs": [],
   "source": [
    "from threading import Thread\n",
    "\n",
    "\n",
    "def process_requests_concurrently(num_requests):\n",
    "    results = []\n",
    "    threads = []\n",
    "    for i in range(num_requests):\n",
    "        thread = Thread(target=lambda: process_request(i, results))\n",
    "        threads.append(thread)\n",
    "        thread.start()\n",
    "    for thread in threads:\n",
    "        thread.join()\n",
    "    return results"
   ]
  },
  {
   "cell_type": "code",
   "execution_count": 13,
   "id": "2347569a405670d2",
   "metadata": {},
   "outputs": [
    {
     "data": {
      "text/plain": [
       "['->1', '->3', '->0', '->2', '->4']"
      ]
     },
     "execution_count": 13,
     "metadata": {},
     "output_type": "execute_result"
    }
   ],
   "source": [
    "process_requests_concurrently(5)"
   ]
  },
  {
   "cell_type": "code",
   "execution_count": 14,
   "id": "3a356d90ca3d90e1",
   "metadata": {},
   "outputs": [
    {
     "data": {
      "text/plain": [
       "1.8209219000127632"
      ]
     },
     "execution_count": 14,
     "metadata": {},
     "output_type": "execute_result"
    }
   ],
   "source": [
    "timeit.timeit(lambda: process_requests_concurrently(5), globals=globals(), number=10)"
   ]
  },
  {
   "cell_type": "code",
   "execution_count": 15,
   "id": "38845219d9b914e2",
   "metadata": {},
   "outputs": [
    {
     "data": {
      "text/plain": [
       "1.9450223999883747"
      ]
     },
     "execution_count": 15,
     "metadata": {},
     "output_type": "execute_result"
    }
   ],
   "source": [
    "timeit.timeit(lambda: process_requests_concurrently(10), globals=globals(), number=10)"
   ]
  },
  {
   "cell_type": "code",
   "execution_count": 16,
   "id": "71e7304f4d0c3e4e",
   "metadata": {},
   "outputs": [
    {
     "data": {
      "text/plain": [
       "2.182668099994771"
      ]
     },
     "execution_count": 16,
     "metadata": {},
     "output_type": "execute_result"
    }
   ],
   "source": [
    "timeit.timeit(lambda: process_requests_concurrently(100), globals=globals(), number=10)"
   ]
  },
  {
   "cell_type": "code",
   "execution_count": 17,
   "id": "0a8f78ef0d2d9ffb",
   "metadata": {},
   "outputs": [],
   "source": [
    "class MyThread(Thread):\n",
    "    # Note `run()`is overridden, not `start()`!\n",
    "    def run(self) -> None:\n",
    "        # noinspection PyUnresolvedReferences\n",
    "        process_request(*self._args, **self._kwargs)"
   ]
  },
  {
   "cell_type": "code",
   "execution_count": 18,
   "id": "0c652f508842ec29",
   "metadata": {},
   "outputs": [],
   "source": [
    "def process_requests_concurrently_2(num_requests):\n",
    "    results = []\n",
    "    threads = [MyThread(args=(i, results)) for i in range(num_requests)]\n",
    "    for thread in threads:\n",
    "        thread.start()\n",
    "    for thread in threads:\n",
    "        thread.join()\n",
    "    return results"
   ]
  },
  {
   "cell_type": "code",
   "execution_count": 19,
   "id": "40e20eb6b4eb7541",
   "metadata": {},
   "outputs": [
    {
     "data": {
      "text/plain": [
       "['->4', '->3', '->1', '->2', '->0']"
      ]
     },
     "execution_count": 19,
     "metadata": {},
     "output_type": "execute_result"
    }
   ],
   "source": [
    "process_requests_concurrently_2(5)"
   ]
  },
  {
   "cell_type": "code",
   "execution_count": 20,
   "id": "45eafd9cf8e3588e",
   "metadata": {},
   "outputs": [
    {
     "data": {
      "text/plain": [
       "1.833821899999748"
      ]
     },
     "execution_count": 20,
     "metadata": {},
     "output_type": "execute_result"
    }
   ],
   "source": [
    "timeit.timeit(lambda: process_requests_concurrently_2(5), globals=globals(), number=10)"
   ]
  },
  {
   "cell_type": "code",
   "execution_count": 21,
   "id": "1a5042ee117b9b44",
   "metadata": {},
   "outputs": [
    {
     "data": {
      "text/plain": [
       "1.9395266999927117"
      ]
     },
     "execution_count": 21,
     "metadata": {},
     "output_type": "execute_result"
    }
   ],
   "source": [
    "timeit.timeit(lambda: process_requests_concurrently_2(10), globals=globals(), number=10)"
   ]
  },
  {
   "cell_type": "code",
   "execution_count": 22,
   "id": "b29da697e9954605",
   "metadata": {},
   "outputs": [
    {
     "data": {
      "text/plain": [
       "2.1464315000048373"
      ]
     },
     "execution_count": 22,
     "metadata": {},
     "output_type": "execute_result"
    }
   ],
   "source": [
    "timeit.timeit(\n",
    "    lambda: process_requests_concurrently_2(100), globals=globals(), number=10\n",
    ")"
   ]
  },
  {
   "cell_type": "markdown",
   "id": "d1a640af23ff23c6",
   "metadata": {
    "lang": "de",
    "slideshow": {
     "slide_type": "subslide"
    },
    "tags": [
     "subslide"
    ]
   },
   "source": [
    "\n",
    "### Mehrere Threads und das GIL"
   ]
  },
  {
   "cell_type": "code",
   "execution_count": 23,
   "id": "ecf4b632fca7284f",
   "metadata": {},
   "outputs": [],
   "source": [
    "def perform_computation(data, results, num_iterations=1_000_000):\n",
    "    result = 0\n",
    "    for i in range(num_iterations):\n",
    "        result += 1\n",
    "    results.append(f\"->{data}: {result}\")"
   ]
  },
  {
   "cell_type": "code",
   "execution_count": 24,
   "id": "bbd0938f11bb17b6",
   "metadata": {},
   "outputs": [],
   "source": [
    "def perform_computations_sequentially(num_requests):\n",
    "    results = []\n",
    "    for i in range(num_requests):\n",
    "        perform_computation(i, results)\n",
    "    return results"
   ]
  },
  {
   "cell_type": "code",
   "execution_count": 25,
   "id": "27227f7d863a77bd",
   "metadata": {},
   "outputs": [
    {
     "data": {
      "text/plain": [
       "['->0: 1000000',\n",
       " '->1: 1000000',\n",
       " '->2: 1000000',\n",
       " '->3: 1000000',\n",
       " '->4: 1000000']"
      ]
     },
     "execution_count": 25,
     "metadata": {},
     "output_type": "execute_result"
    }
   ],
   "source": [
    "perform_computations_sequentially(5)"
   ]
  },
  {
   "cell_type": "code",
   "execution_count": 26,
   "id": "38f17b874432699a",
   "metadata": {},
   "outputs": [
    {
     "data": {
      "text/plain": [
       "2.905526100003044"
      ]
     },
     "execution_count": 26,
     "metadata": {},
     "output_type": "execute_result"
    }
   ],
   "source": [
    "timeit.timeit(\n",
    "    lambda: perform_computations_sequentially(5), globals=globals(), number=10\n",
    ")"
   ]
  },
  {
   "cell_type": "code",
   "execution_count": 27,
   "id": "d45a9af419518fa9",
   "metadata": {},
   "outputs": [
    {
     "data": {
      "text/plain": [
       "5.999844699996174"
      ]
     },
     "execution_count": 27,
     "metadata": {},
     "output_type": "execute_result"
    }
   ],
   "source": [
    "timeit.timeit(\n",
    "    lambda: perform_computations_sequentially(10), globals=globals(), number=10\n",
    ")"
   ]
  },
  {
   "cell_type": "code",
   "execution_count": 28,
   "id": "a29f7ccac97b3d33",
   "metadata": {},
   "outputs": [],
   "source": [
    "def perform_computations_concurrently(num_requests):\n",
    "    results = []\n",
    "    threads = []\n",
    "    for i in range(num_requests):\n",
    "        thread = Thread(target=lambda: perform_computation(i, results))\n",
    "        threads.append(thread)\n",
    "        thread.start()\n",
    "    for thread in threads:\n",
    "        thread.join()\n",
    "    return results"
   ]
  },
  {
   "cell_type": "code",
   "execution_count": 29,
   "id": "7178eb27a42cb9e0",
   "metadata": {},
   "outputs": [
    {
     "data": {
      "text/plain": [
       "['->0: 1000000',\n",
       " '->1: 1000000',\n",
       " '->3: 1000000',\n",
       " '->2: 1000000',\n",
       " '->4: 1000000']"
      ]
     },
     "execution_count": 29,
     "metadata": {},
     "output_type": "execute_result"
    }
   ],
   "source": [
    "perform_computations_concurrently(5)"
   ]
  },
  {
   "cell_type": "code",
   "execution_count": 30,
   "id": "342ff65a3a56f438",
   "metadata": {},
   "outputs": [
    {
     "data": {
      "text/plain": [
       "2.9671210999949835"
      ]
     },
     "execution_count": 30,
     "metadata": {},
     "output_type": "execute_result"
    }
   ],
   "source": [
    "timeit.timeit(\n",
    "    lambda: perform_computations_concurrently(5), globals=globals(), number=10\n",
    ")"
   ]
  },
  {
   "cell_type": "code",
   "execution_count": 31,
   "id": "e8ad59f98cd2af78",
   "metadata": {
    "lines_to_next_cell": 2
   },
   "outputs": [
    {
     "data": {
      "text/plain": [
       "5.966942099999869"
      ]
     },
     "execution_count": 31,
     "metadata": {},
     "output_type": "execute_result"
    }
   ],
   "source": [
    "timeit.timeit(\n",
    "    lambda: perform_computations_concurrently(10), globals=globals(), number=10\n",
    ")"
   ]
  },
  {
   "cell_type": "markdown",
   "id": "eb8c52e2c2a7a65e",
   "metadata": {
    "lang": "de",
    "slideshow": {
     "slide_type": "subslide"
    },
    "tags": [
     "subslide"
    ]
   },
   "source": [
    "\n",
    "In Python wird immer nur *ein* Python Thread ausgeführt, alle anderen Threads\n",
    "existieren zwar, warten aber \"bis sie an der Reihe sind\". Daher bringt Multithreading\n",
    "nur dann Vorteile, wenn z.B. auf Ein/Ausgabe-Operationen gewartet wird, nicht wenn\n",
    "mehrere Berechnungen beschleunigt werden sollen!"
   ]
  },
  {
   "cell_type": "markdown",
   "id": "dccabcd4ebc13c1b",
   "metadata": {
    "lang": "de",
    "slideshow": {
     "slide_type": "subslide"
    },
    "tags": [
     "subslide"
    ]
   },
   "source": [
    "## Workshop\n",
    "\n",
    "- Notebook `workshop_410_concurrency`\n",
    "- Abschnitt \"Parallele Requests\""
   ]
  },
  {
   "cell_type": "markdown",
   "id": "eaa83b6bb94fa1a4",
   "metadata": {
    "lang": "de",
    "slideshow": {
     "slide_type": "subslide"
    },
    "tags": [
     "subslide"
    ]
   },
   "source": [
    "\n",
    "### Synchronisieren von Threads\n",
    "\n",
    "Die nebenläufige Programmierung führt zu Problemen, die es in sequentiellen Programmen\n",
    "nicht gibt:"
   ]
  },
  {
   "cell_type": "code",
   "execution_count": 32,
   "id": "c1f1b7cd6fd8f519",
   "metadata": {},
   "outputs": [],
   "source": [
    "def add_ones():\n",
    "    global _result\n",
    "    for i in range(10_000):\n",
    "        tmp = _result + 1\n",
    "        # if random() > 0.99:\n",
    "        #     simulate_processing_time(0)\n",
    "        _result = tmp"
   ]
  },
  {
   "cell_type": "code",
   "execution_count": 33,
   "id": "bb28ac453344bb97",
   "metadata": {},
   "outputs": [
    {
     "name": "stdout",
     "output_type": "stream",
     "text": [
      "\n",
      "_result = 1000000\n"
     ]
    }
   ],
   "source": [
    "from threading import Thread\n",
    "\n",
    "_result = 0\n",
    "_threads = [Thread(target=add_ones) for _ in range(100)]\n",
    "for _thread in _threads:\n",
    "    _thread.start()\n",
    "for _thread in _threads:\n",
    "    _thread.join()\n",
    "print(f\"\\n_result = {_result}\")"
   ]
  },
  {
   "cell_type": "code",
   "execution_count": 34,
   "id": "4f067c0d94581d0a",
   "metadata": {},
   "outputs": [],
   "source": [
    "def append_one():\n",
    "    global _result_list\n",
    "    for i in range(100_000):\n",
    "        _result_list.append(1)"
   ]
  },
  {
   "cell_type": "code",
   "execution_count": 35,
   "id": "e178d2c7d7d6f3df",
   "metadata": {},
   "outputs": [
    {
     "name": "stdout",
     "output_type": "stream",
     "text": [
      "\n",
      "Length of _result_list: 10000000\n"
     ]
    }
   ],
   "source": [
    "from threading import Thread\n",
    "\n",
    "_result_list = []\n",
    "_threads = [Thread(target=append_one) for _ in range(100)]\n",
    "for _thread in _threads:\n",
    "    _thread.start()\n",
    "for _thread in _threads:\n",
    "    _thread.join()\n",
    "print(f\"\\nLength of _result_list: {len(_result_list)}\")"
   ]
  },
  {
   "cell_type": "markdown",
   "id": "18b9c626a3eea774",
   "metadata": {
    "lang": "de",
    "slideshow": {
     "slide_type": "subslide"
    },
    "tags": [
     "subslide"
    ]
   },
   "source": [
    "\n",
    "#### Barrieren (Barriers)\n",
    "\n",
    "Mit Barrieren (Barriers) kann eine fixe Anzahl an Threads synchronisiert werden:"
   ]
  },
  {
   "cell_type": "code",
   "execution_count": 36,
   "id": "c52aa45263e3bb4c",
   "metadata": {},
   "outputs": [],
   "source": [
    "from threading import Barrier, Thread\n",
    "\n",
    "_barrier = Barrier(2, timeout=5)"
   ]
  },
  {
   "cell_type": "code",
   "execution_count": 37,
   "id": "d1ac789c1fc3f6a0",
   "metadata": {},
   "outputs": [],
   "source": [
    "def server1():\n",
    "    print(\"Server is starting!\")\n",
    "    simulate_processing_time(1.0)\n",
    "    print(\"Server started up!\")\n",
    "    _barrier.wait()\n",
    "    print(\"Server is serving!\")"
   ]
  },
  {
   "cell_type": "code",
   "execution_count": 38,
   "id": "18beb53a4abe0d55",
   "metadata": {},
   "outputs": [],
   "source": [
    "def client1():\n",
    "    print(\"Client is starting!\")\n",
    "    _barrier.wait()\n",
    "    print(\"Client is accessing server!\")"
   ]
  },
  {
   "cell_type": "code",
   "execution_count": 39,
   "id": "7048e6dc24b210d5",
   "metadata": {},
   "outputs": [
    {
     "name": "stdout",
     "output_type": "stream",
     "text": [
      "Client is starting!\n",
      "Client is accessing server!\n"
     ]
    }
   ],
   "source": [
    "_c = Thread(target=client1)\n",
    "_c.start()"
   ]
  },
  {
   "cell_type": "code",
   "execution_count": 40,
   "id": "f882bdd67dff762d",
   "metadata": {},
   "outputs": [
    {
     "name": "stdout",
     "output_type": "stream",
     "text": [
      "Server is starting!\n",
      "Server started up!\n",
      "Server is serving!\n"
     ]
    }
   ],
   "source": [
    "_s = Thread(target=server1)\n",
    "_s.start()"
   ]
  },
  {
   "cell_type": "code",
   "execution_count": 41,
   "id": "edb4de973b5849e3",
   "metadata": {},
   "outputs": [],
   "source": [
    "_c.join()\n",
    "_s.join()"
   ]
  },
  {
   "cell_type": "code",
   "execution_count": 42,
   "id": "5aa26bc0fa0e7baf",
   "metadata": {},
   "outputs": [
    {
     "name": "stdout",
     "output_type": "stream",
     "text": [
      "Server is starting!\n",
      "Server started up!\n",
      "Server is serving!\n"
     ]
    }
   ],
   "source": [
    "_s = Thread(target=server1)\n",
    "_s.start()"
   ]
  },
  {
   "cell_type": "code",
   "execution_count": 43,
   "id": "9de4fbd5c6e0db7f",
   "metadata": {},
   "outputs": [
    {
     "name": "stdout",
     "output_type": "stream",
     "text": [
      "Client is starting!\n",
      "Client is accessing server!\n"
     ]
    }
   ],
   "source": [
    "_c = Thread(target=client1)\n",
    "_c.start()"
   ]
  },
  {
   "cell_type": "code",
   "execution_count": 44,
   "id": "09a293eeebf436b2",
   "metadata": {},
   "outputs": [],
   "source": [
    "_s.join()\n",
    "_c.join()"
   ]
  },
  {
   "cell_type": "markdown",
   "id": "2d3463095b55c7d6",
   "metadata": {
    "lang": "de",
    "slideshow": {
     "slide_type": "subslide"
    },
    "tags": [
     "subslide"
    ]
   },
   "source": [
    "\n",
    "#### Locks\n",
    "\n",
    "Locks sind ein low-level Synchronisierungsmechanismus, mit dem man erzwingen kann,\n",
    "dass nur ein Thread eine Resource nutzt:"
   ]
  },
  {
   "cell_type": "code",
   "execution_count": 45,
   "id": "a73b5979e1b213a1",
   "metadata": {},
   "outputs": [],
   "source": [
    "from threading import Lock, Thread\n",
    "\n",
    "_result_lock = Lock()"
   ]
  },
  {
   "cell_type": "code",
   "execution_count": 46,
   "id": "c7a0ee6f435f4702",
   "metadata": {},
   "outputs": [],
   "source": [
    "def add_ones_locked():\n",
    "    global _result\n",
    "    for i in range(10_000):\n",
    "        with _result_lock:\n",
    "            tmp = _result + 1\n",
    "            if random() > 0.99:\n",
    "                simulate_processing_time(0)\n",
    "            _result = tmp"
   ]
  },
  {
   "cell_type": "code",
   "execution_count": 47,
   "id": "de2549fece645bc9",
   "metadata": {},
   "outputs": [
    {
     "name": "stdout",
     "output_type": "stream",
     "text": [
      "\n",
      "_result = 1000000\n"
     ]
    }
   ],
   "source": [
    "_result = 0\n",
    "_threads = [Thread(target=add_ones_locked) for _ in range(100)]\n",
    "for _thread in _threads:\n",
    "    _thread.start()\n",
    "for _thread in _threads:\n",
    "    _thread.join()\n",
    "print(f\"\\n_result = {_result}\")"
   ]
  },
  {
   "cell_type": "code",
   "execution_count": 48,
   "id": "a30d394f04eaa9fd",
   "metadata": {},
   "outputs": [],
   "source": [
    "def server2():\n",
    "    _barrier.wait()\n",
    "    print(\"Server is serving\")\n",
    "    print(\"Server is still serving\")\n",
    "    print(\"Server is serving even more data\")"
   ]
  },
  {
   "cell_type": "code",
   "execution_count": 49,
   "id": "f9ec30a27e732a3c",
   "metadata": {},
   "outputs": [],
   "source": [
    "def client2():\n",
    "    _barrier.wait()\n",
    "    print(\"Client is accessing server\")\n",
    "    print(\"Client is still accessing server\")\n",
    "    print(\"Client is taking really long to access the server\")"
   ]
  },
  {
   "cell_type": "code",
   "execution_count": 50,
   "id": "46580f0216d3f286",
   "metadata": {},
   "outputs": [],
   "source": [
    "def run_tasks(task1, task2):\n",
    "    thread1 = Thread(target=task2)\n",
    "    thread1.start()\n",
    "\n",
    "    thread2 = Thread(target=task1)\n",
    "    thread2.start()\n",
    "\n",
    "    thread1.join()\n",
    "    thread2.join()"
   ]
  },
  {
   "cell_type": "code",
   "execution_count": 51,
   "id": "dd62b8ff424f4187",
   "metadata": {},
   "outputs": [
    {
     "name": "stdout",
     "output_type": "stream",
     "text": [
      "Server is serving\n",
      "Server is still serving\n",
      "Server is serving even more data\n",
      "Client is accessing server\n",
      "Client is still accessing server\n",
      "Client is taking really long to access the server\n"
     ]
    }
   ],
   "source": [
    "run_tasks(server2, client2)"
   ]
  },
  {
   "cell_type": "code",
   "execution_count": 52,
   "id": "998655bfe2630ae2",
   "metadata": {},
   "outputs": [],
   "source": [
    "from threading import Lock\n",
    "\n",
    "_print_lock = Lock()"
   ]
  },
  {
   "cell_type": "code",
   "execution_count": 53,
   "id": "2ca0ba305a5f43ed",
   "metadata": {},
   "outputs": [],
   "source": [
    "def server3():\n",
    "    _barrier.wait()\n",
    "    try:\n",
    "        _print_lock.acquire()\n",
    "        simulate_processing_time()\n",
    "        print(\"Server is serving\")\n",
    "        print(\"Server is still serving\")\n",
    "        print(\"Server is serving even more data\")\n",
    "    finally:\n",
    "        _print_lock.release()"
   ]
  },
  {
   "cell_type": "code",
   "execution_count": 54,
   "id": "4d9631772c21bd26",
   "metadata": {},
   "outputs": [],
   "source": [
    "def client3():\n",
    "    _barrier.wait()\n",
    "    if _print_lock.acquire(blocking=False):\n",
    "        print(\"Client is accessing server\")\n",
    "        print(\"Client is still accessing server\")\n",
    "        print(\"Client is taking really long to access the server\")\n",
    "        _print_lock.release()\n",
    "    else:\n",
    "        print(\"WARNING: Could not acquire lock!!!\")"
   ]
  },
  {
   "cell_type": "code",
   "execution_count": 55,
   "id": "835f669b852ed791",
   "metadata": {},
   "outputs": [
    {
     "name": "stdout",
     "output_type": "stream",
     "text": [
      "WARNING: Could not acquire lock!!!\n",
      "Server is serving\n",
      "Server is still serving\n",
      "Server is serving even more data\n"
     ]
    }
   ],
   "source": [
    "run_tasks(server3, client3)"
   ]
  },
  {
   "cell_type": "code",
   "execution_count": 56,
   "id": "01488d2469dca35b",
   "metadata": {},
   "outputs": [
    {
     "name": "stdout",
     "output_type": "stream",
     "text": [
      "Client is accessing server\n",
      "Client is still accessing server\n",
      "Client is taking really long to access the server\n",
      "Server is serving\n",
      "Server is still serving\n",
      "Server is serving even more data\n"
     ]
    }
   ],
   "source": [
    "run_tasks(client3, server3)"
   ]
  },
  {
   "cell_type": "code",
   "execution_count": 57,
   "id": "81316693900a97c7",
   "metadata": {},
   "outputs": [],
   "source": [
    "def server4():\n",
    "    _barrier.wait()\n",
    "    with _print_lock:\n",
    "        print(\"Server is serving\")\n",
    "        print(\"Server is still serving\")\n",
    "        print(\"Server is serving even more data\")"
   ]
  },
  {
   "cell_type": "code",
   "execution_count": 58,
   "id": "81ca21415216300f",
   "metadata": {},
   "outputs": [],
   "source": [
    "def client4():\n",
    "    _barrier.wait()\n",
    "    with _print_lock:\n",
    "        print(\"Client is accessing server\")\n",
    "        print(\"Client is still accessing server\")\n",
    "        print(\"Client is taking really long to access the server\")"
   ]
  },
  {
   "cell_type": "code",
   "execution_count": 59,
   "id": "6822a6be5e509d57",
   "metadata": {},
   "outputs": [
    {
     "name": "stdout",
     "output_type": "stream",
     "text": [
      "Server is serving\n",
      "Server is still serving\n",
      "Server is serving even more data\n",
      "Client is accessing server\n",
      "Client is still accessing server\n",
      "Client is taking really long to access the server\n"
     ]
    }
   ],
   "source": [
    "run_tasks(server4, client4)"
   ]
  },
  {
   "cell_type": "code",
   "execution_count": 60,
   "id": "3baec283e4ea574f",
   "metadata": {},
   "outputs": [
    {
     "name": "stdout",
     "output_type": "stream",
     "text": [
      "Client is accessing server\n",
      "Client is still accessing server\n",
      "Client is taking really long to access the server\n",
      "Server is serving\n",
      "Server is still serving\n",
      "Server is serving even more data\n"
     ]
    }
   ],
   "source": [
    "run_tasks(client4, server4)"
   ]
  },
  {
   "cell_type": "markdown",
   "id": "1206182d2796e458",
   "metadata": {
    "lang": "de",
    "slideshow": {
     "slide_type": "subslide"
    },
    "tags": [
     "subslide"
    ]
   },
   "source": [
    "\n",
    "#### Condition Variables\n",
    "\n",
    "Condition Variables sind ein Synchronisierungsmechanismus, der auf Locks basiert, aber\n",
    "einen zusätzlichen Mechanismus zur Koordination von Threads bietet: `notify()` (und\n",
    "`notify_all()`):\n",
    "\n",
    "Typischerweise verwendet man Condition Variables, wenn sich mehrere Threads einen\n",
    "gemeinsamen Zustand teilen und sowohl lesend als auch schreibend darauf zugreifen\n",
    "müssen:\n",
    "\n",
    "- Threads, die den Zustand lesen wollen, verwenden `wait()` und warten damit bis der\n",
    "  gewünschte Zustand erreicht ist\n",
    "- Threads, die den Zustand schreiben, verwenden `notify()` oder `notify_all()` um\n",
    "  eventuell wartende Threads über die Änderung zu benachrichtigen"
   ]
  },
  {
   "cell_type": "code",
   "execution_count": 61,
   "id": "8e7dc711ecb35f69",
   "metadata": {},
   "outputs": [],
   "source": [
    "from threading import Condition, Thread"
   ]
  },
  {
   "cell_type": "code",
   "execution_count": 62,
   "id": "4a46e93e1a2744d5",
   "metadata": {},
   "outputs": [],
   "source": [
    "def consumer(consumer_id, cv, items):\n",
    "    print(f\"Consumer {consumer_id} started...\", flush=True)\n",
    "    with cv:\n",
    "        print(f\"Consumer {consumer_id} waiting...\", flush=True)\n",
    "        wait_succeeded = True\n",
    "        while True:\n",
    "            while not items and wait_succeeded:\n",
    "                wait_succeeded = cv.wait(timeout=1.0)\n",
    "            if not wait_succeeded:\n",
    "                print(f\"Consumer {consumer_id} timed out...\", flush=True)\n",
    "                break\n",
    "            print(f\"Consumer {consumer_id} starts consuming...\", flush=True)\n",
    "            item = items.pop()\n",
    "            simulate_processing_time(0.1)\n",
    "            print(f\"Consumer {consumer_id} ends consuming item {item}...\", flush=True)"
   ]
  },
  {
   "cell_type": "code",
   "execution_count": 63,
   "id": "ae0b96ecad3e49ef",
   "metadata": {},
   "outputs": [],
   "source": [
    "def producer(producer_id, cv, num_items, items):\n",
    "    from random import randint\n",
    "\n",
    "    print(f\"Producer {producer_id} started...\", flush=True)\n",
    "    for _ in range(num_items):\n",
    "        with cv:\n",
    "            item = randint(100, 999)\n",
    "            print(f\"Producer {producer_id} is producing item {item}\", flush=True)\n",
    "            items.append(item)\n",
    "            cv.notify()\n",
    "            simulate_processing_time(0.05)"
   ]
  },
  {
   "cell_type": "code",
   "execution_count": 64,
   "id": "add0c98cc90b195a",
   "metadata": {},
   "outputs": [],
   "source": [
    "def run_producer_consumer(num_items, num_producers=1, num_consumers=1):\n",
    "    threads = []\n",
    "    items = []\n",
    "    cv = Condition()\n",
    "    for i in range(num_consumers):\n",
    "        threads.append(Thread(target=consumer, args=(i + 1, cv, items)))\n",
    "    for i in range(num_producers):\n",
    "        threads.append(Thread(target=producer, args=(i + 1, cv, num_items, items)))\n",
    "    for thread in threads:\n",
    "        thread.start()\n",
    "    for thread in threads:\n",
    "        thread.join()"
   ]
  },
  {
   "cell_type": "code",
   "execution_count": 65,
   "id": "8affb6d05e701909",
   "metadata": {},
   "outputs": [
    {
     "name": "stdout",
     "output_type": "stream",
     "text": [
      "Consumer 1 started...\n",
      "Producer 1 started...\n",
      "Consumer 1 waiting...\n",
      "Producer 1 is producing item 961\n",
      "Producer 1 is producing item 605\n",
      "Consumer 1 starts consuming...\n",
      "Consumer 1 ends consuming item 605...\n",
      "Consumer 1 starts consuming...\n",
      "Consumer 1 ends consuming item 961...\n",
      "Consumer 1 timed out...\n"
     ]
    }
   ],
   "source": [
    "run_producer_consumer(2)"
   ]
  },
  {
   "cell_type": "code",
   "execution_count": 66,
   "id": "4d0e5733d9643665",
   "metadata": {},
   "outputs": [
    {
     "name": "stdout",
     "output_type": "stream",
     "text": [
      "Consumer 1 started...\n",
      "Consumer 2 started...\n",
      "Consumer 1 waiting...\n",
      "Consumer 2 waiting...Consumer 3 started...\n",
      "\n",
      "Producer 1 started...\n",
      "Consumer 3 waiting...\n",
      "Producer 1 is producing item 393\n",
      "Producer 1 is producing item 411\n",
      "Producer 1 is producing item 312\n",
      "Producer 1 is producing item 712\n",
      "Producer 1 is producing item 548\n",
      "Producer 1 is producing item 644\n",
      "Consumer 2 starts consuming...\n",
      "Consumer 2 ends consuming item 644...\n",
      "Consumer 2 starts consuming...\n",
      "Consumer 2 ends consuming item 548...\n",
      "Consumer 2 starts consuming...\n",
      "Consumer 2 ends consuming item 712...\n",
      "Consumer 2 starts consuming...\n",
      "Consumer 2 ends consuming item 312...\n",
      "Consumer 2 starts consuming...\n",
      "Consumer 2 ends consuming item 411...\n",
      "Consumer 2 starts consuming...\n",
      "Consumer 2 ends consuming item 393...\n",
      "Consumer 2 timed out...\n",
      "Consumer 1 timed out...\n",
      "Consumer 3 timed out...\n"
     ]
    }
   ],
   "source": [
    "run_producer_consumer(6, num_producers=1, num_consumers=3)"
   ]
  },
  {
   "cell_type": "code",
   "execution_count": 67,
   "id": "5ebc18d34f4eae06",
   "metadata": {
    "lines_to_next_cell": 2
   },
   "outputs": [
    {
     "name": "stdout",
     "output_type": "stream",
     "text": [
      "Consumer 1 started...\n",
      "Consumer 2 started...\n",
      "Consumer 1 waiting...\n",
      "Consumer 3 started...\n",
      "Consumer 2 waiting...\n",
      "Consumer 4 started...\n",
      "Consumer 3 waiting...\n",
      "Producer 1 started...\n",
      "Consumer 4 waiting...\n",
      "Producer 2 started...\n",
      "Producer 3 started...\n",
      "Producer 1 is producing item 384\n",
      "Producer 1 is producing item 170\n",
      "Producer 1 is producing item 963\n",
      "Producer 1 is producing item 117\n",
      "Producer 2 is producing item 163\n",
      "Producer 2 is producing item 318\n",
      "Producer 2 is producing item 757\n",
      "Producer 2 is producing item 487\n",
      "Consumer 1 starts consuming...\n",
      "Consumer 1 ends consuming item 487...\n",
      "Consumer 1 starts consuming...\n",
      "Consumer 1 ends consuming item 757...\n",
      "Consumer 1 starts consuming...\n",
      "Consumer 1 ends consuming item 318...\n",
      "Consumer 1 starts consuming...\n",
      "Consumer 1 ends consuming item 163...\n",
      "Consumer 1 starts consuming...\n",
      "Consumer 1 ends consuming item 117...\n",
      "Consumer 1 starts consuming...\n",
      "Consumer 1 ends consuming item 963...\n",
      "Consumer 1 starts consuming...\n",
      "Consumer 1 ends consuming item 170...\n",
      "Consumer 1 starts consuming...\n",
      "Consumer 1 ends consuming item 384...\n",
      "Producer 3 is producing item 531\n",
      "Consumer 3 starts consuming...\n",
      "Consumer 3 ends consuming item 531...\n",
      "Producer 3 is producing item 484\n",
      "Producer 3 is producing item 234\n",
      "Producer 3 is producing item 788\n",
      "Consumer 2 starts consuming...\n",
      "Consumer 2 ends consuming item 788...\n",
      "Consumer 2 starts consuming...\n",
      "Consumer 2 ends consuming item 234...\n",
      "Consumer 2 starts consuming...\n",
      "Consumer 2 ends consuming item 484...\n",
      "Consumer 1 timed out...\n",
      "Consumer 2 timed out...\n",
      "Consumer 4 timed out...\n",
      "Consumer 3 timed out...\n"
     ]
    }
   ],
   "source": [
    "run_producer_consumer(4, num_producers=3, num_consumers=4)"
   ]
  },
  {
   "cell_type": "code",
   "execution_count": 68,
   "id": "2b80856a429a489e",
   "metadata": {},
   "outputs": [],
   "source": [
    "from queue import Queue, Empty"
   ]
  },
  {
   "cell_type": "code",
   "execution_count": 69,
   "id": "15ce7c15e648cbd7",
   "metadata": {},
   "outputs": [],
   "source": [
    "def producer(producer_id, q, num_items):\n",
    "    print(f\"Producer {producer_id} started...\")\n",
    "    for i in range(num_items):\n",
    "        print(f\"Producer {producer_id} produced item {producer_id}/{i}...\")\n",
    "        q.put(f\"Item {producer_id}/{i}\")\n",
    "        simulate_processing_time(0.1)"
   ]
  },
  {
   "cell_type": "code",
   "execution_count": 70,
   "id": "dfcdbed260c554ea",
   "metadata": {},
   "outputs": [],
   "source": [
    "def consumer(consumer_id, q, timeout=1.0):\n",
    "    print(f\"Consumer {consumer_id} started...\")\n",
    "    try:\n",
    "        while True:\n",
    "            item = q.get(block=True, timeout=timeout)\n",
    "            print(f\"Consumer {consumer_id} starting processing of item {item}...\")\n",
    "            simulate_processing_time(0.2)\n",
    "            print(f\"Consumer {consumer_id} done processing item {item}...\")\n",
    "    except Empty:\n",
    "        print(f\"Consumer {consumer_id} timed out...\")"
   ]
  },
  {
   "cell_type": "code",
   "execution_count": 71,
   "id": "3f55019b12ad81a2",
   "metadata": {},
   "outputs": [],
   "source": [
    "from threading import Thread\n",
    "\n",
    "\n",
    "def run_producer_consumer_queue(num_items, num_producers=1, num_consumers=1):\n",
    "    processes = []\n",
    "    q = Queue()\n",
    "    for i in range(num_consumers):\n",
    "        processes.append(Thread(target=consumer, args=(i + 1, q)))\n",
    "    for i in range(num_producers):\n",
    "        processes.append(Thread(target=producer, args=(i + 1, q, num_items)))\n",
    "    for process in processes:\n",
    "        process.start()\n",
    "    for process in processes:\n",
    "        process.join()"
   ]
  },
  {
   "cell_type": "code",
   "execution_count": 72,
   "id": "849fc54643582fca",
   "metadata": {},
   "outputs": [
    {
     "name": "stdout",
     "output_type": "stream",
     "text": [
      "Consumer 1 started...\n",
      "Producer 1 started...\n",
      "Producer 1 produced item 1/0...\n",
      "Consumer 1 starting processing of item Item 1/0...\n",
      "Producer 1 produced item 1/1...\n",
      "Consumer 1 done processing item Item 1/0...\n",
      "Consumer 1 starting processing of item Item 1/1...\n",
      "Producer 1 produced item 1/2...\n",
      "Producer 1 produced item 1/3...\n",
      "Consumer 1 done processing item Item 1/1...\n",
      "Consumer 1 starting processing of item Item 1/2...\n",
      "Consumer 1 done processing item Item 1/2...\n",
      "Consumer 1 starting processing of item Item 1/3...\n",
      "Consumer 1 done processing item Item 1/3...\n",
      "Consumer 1 timed out...\n"
     ]
    }
   ],
   "source": [
    "run_producer_consumer_queue(4)"
   ]
  },
  {
   "cell_type": "code",
   "execution_count": 73,
   "id": "c41442fb75c740ed",
   "metadata": {},
   "outputs": [
    {
     "name": "stdout",
     "output_type": "stream",
     "text": [
      "Consumer 1 started...\n",
      "Consumer 2 started...\n",
      "Consumer 3 started...\n",
      "Producer 1 started...\n",
      "Producer 1 produced item 1/0...\n",
      "Consumer 1 starting processing of item Item 1/0...\n",
      "Producer 1 produced item 1/1...\n",
      "Consumer 2 starting processing of item Item 1/1...\n",
      "Consumer 1 done processing item Item 1/0...\n",
      "Producer 1 produced item 1/2...\n",
      "Consumer 3 starting processing of item Item 1/2...\n",
      "Producer 1 produced item 1/3...\n",
      "Consumer 1 starting processing of item Item 1/3...\n",
      "Consumer 2 done processing item Item 1/1...\n",
      "Consumer 3 done processing item Item 1/2...\n",
      "Producer 1 produced item 1/4...\n",
      "Consumer 2 starting processing of item Item 1/4...\n",
      "Consumer 1 done processing item Item 1/3...\n",
      "Producer 1 produced item 1/5...\n",
      "Consumer 3 starting processing of item Item 1/5...\n",
      "Consumer 3 done processing item Item 1/5...\n",
      "Consumer 2 done processing item Item 1/4...\n",
      "Consumer 1 timed out...\n",
      "Consumer 3 timed out...\n",
      "Consumer 2 timed out...\n"
     ]
    }
   ],
   "source": [
    "run_producer_consumer_queue(6, num_producers=1, num_consumers=3)"
   ]
  },
  {
   "cell_type": "code",
   "execution_count": 74,
   "id": "9b59f4eab56e5a0a",
   "metadata": {},
   "outputs": [
    {
     "name": "stdout",
     "output_type": "stream",
     "text": [
      "Consumer 1 started...\n",
      "Consumer 2 started...\n",
      "Consumer 3 started...\n",
      "Producer 1 started...\n",
      "Producer 1 produced item 1/0...\n",
      "Consumer 1 starting processing of item Item 1/0...\n",
      "Producer 2 started...\n",
      "Producer 2 produced item 2/0...\n",
      "Consumer 2 starting processing of item Item 2/0...\n",
      "Producer 3 started...\n",
      "Producer 3 produced item 3/0...\n",
      "Consumer 3 starting processing of item Item 3/0...\n",
      "Producer 4 started...\n",
      "Producer 4 produced item 4/0...\n",
      "Producer 3 produced item 3/1...\n",
      "Producer 2 produced item 2/1...\n",
      "Producer 1 produced item 1/1...\n",
      "Producer 4 produced item 4/1...\n",
      "Consumer 1 done processing item Item 1/0...\n",
      "Consumer 1 starting processing of item Item 4/0...\n",
      "Consumer 2 done processing item Item 2/0...\n",
      "Consumer 2 starting processing of item Item 3/1...\n",
      "Consumer 3 done processing item Item 3/0...\n",
      "Consumer 3 starting processing of item Item 2/1...\n",
      "Consumer 1 done processing item Item 4/0...\n",
      "Consumer 1 starting processing of item Item 1/1...\n",
      "Consumer 2 done processing item Item 3/1...\n",
      "Consumer 2 starting processing of item Item 4/1...\n",
      "Consumer 3 done processing item Item 2/1...\n",
      "Consumer 1 done processing item Item 1/1...\n",
      "Consumer 2 done processing item Item 4/1...\n",
      "Consumer 3 timed out...\n",
      "Consumer 1 timed out...\n",
      "Consumer 2 timed out...\n"
     ]
    }
   ],
   "source": [
    "run_producer_consumer_queue(2, num_producers=4, num_consumers=3)"
   ]
  }
 ],
 "metadata": {
  "jupytext": {
   "cell_metadata_filter": "lang,tags,-all",
   "main_language": "python",
   "notebook_metadata_filter": "-all"
  },
  "kernelspec": {
   "display_name": "Python 3 (ipykernel)",
   "language": "python",
   "name": "python3"
  },
  "language_info": {
   "codemirror_mode": {
    "name": "ipython",
    "version": 3
   },
   "file_extension": ".py",
   "mimetype": "text/x-python",
   "name": "python",
   "nbconvert_exporter": "python",
   "pygments_lexer": "ipython3",
   "version": "3.12.5"
  }
 },
 "nbformat": 4,
 "nbformat_minor": 5
}
