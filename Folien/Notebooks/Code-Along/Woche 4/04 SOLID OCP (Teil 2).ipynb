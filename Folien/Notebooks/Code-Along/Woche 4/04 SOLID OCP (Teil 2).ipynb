{
 "cells": [
  {
   "cell_type": "markdown",
   "id": "a3e81882e3c4ac63",
   "metadata": {
    "lang": "de",
    "slideshow": {
     "slide_type": "slide"
    },
    "tags": [
     "slide"
    ]
   },
   "source": [
    "\n",
    "<img src=\"data:image/svg+xml;base64,PHN2ZyB4bWxucz0iaHR0cDovL3d3dy53My5vcmcvMjAwMC9zdmciIHhtbG5zOnhsaW5rPSJodHRw\n",
    "Oi8vd3d3LnczLm9yZy8xOTk5L3hsaW5rIiB3aWR0aD0iMTExLjE2MSIgaGVpZ2h0PSIxMzQuNjY4\n",
    "IiB2ZXJzaW9uPSIxLjAiPjxkZWZzPjxsaW5lYXJHcmFkaWVudCBpZD0iYyI+PHN0b3Agb2Zmc2V0\n",
    "PSIwIiBzdHlsZT0ic3RvcC1jb2xvcjojYjhiOGI4O3N0b3Atb3BhY2l0eTouNDk4MDM5MjIiLz48\n",
    "c3RvcCBvZmZzZXQ9IjEiIHN0eWxlPSJzdG9wLWNvbG9yOiM3ZjdmN2Y7c3RvcC1vcGFjaXR5OjAi\n",
    "Lz48L2xpbmVhckdyYWRpZW50PjxsaW5lYXJHcmFkaWVudCBpZD0iYSI+PHN0b3Agb2Zmc2V0PSIw\n",
    "IiBzdHlsZT0ic3RvcC1jb2xvcjojZmZkNDNiO3N0b3Atb3BhY2l0eToxIi8+PHN0b3Agb2Zmc2V0\n",
    "PSIxIiBzdHlsZT0ic3RvcC1jb2xvcjojZmZlODczO3N0b3Atb3BhY2l0eToxIi8+PC9saW5lYXJH\n",
    "cmFkaWVudD48bGluZWFyR3JhZGllbnQgaWQ9ImIiPjxzdG9wIG9mZnNldD0iMCIgc3R5bGU9InN0\n",
    "b3AtY29sb3I6IzVhOWZkNDtzdG9wLW9wYWNpdHk6MSIvPjxzdG9wIG9mZnNldD0iMSIgc3R5bGU9\n",
    "InN0b3AtY29sb3I6IzMwNjk5ODtzdG9wLW9wYWNpdHk6MSIvPjwvbGluZWFyR3JhZGllbnQ+PGxp\n",
    "bmVhckdyYWRpZW50IHhsaW5rOmhyZWY9IiNhIiBpZD0iZSIgeDE9IjE1MC45NjEiIHgyPSIxMTIu\n",
    "MDMxIiB5MT0iMTkyLjM1MiIgeTI9IjEzNy4yNzMiIGdyYWRpZW50VHJhbnNmb3JtPSJtYXRyaXgo\n",
    "LjU2MjU0IDAgMCAuNTY3OTcgLTE0Ljk5MSAtMTEuNzAyKSIgZ3JhZGllbnRVbml0cz0idXNlclNw\n",
    "YWNlT25Vc2UiLz48bGluZWFyR3JhZGllbnQgeGxpbms6aHJlZj0iI2IiIGlkPSJkIiB4MT0iMjYu\n",
    "NjQ5IiB4Mj0iMTM1LjY2NSIgeTE9IjIwLjYwNCIgeTI9IjExNC4zOTgiIGdyYWRpZW50VHJhbnNm\n",
    "b3JtPSJtYXRyaXgoLjU2MjU0IDAgMCAuNTY3OTcgLTE0Ljk5MSAtMTEuNzAyKSIgZ3JhZGllbnRV\n",
    "bml0cz0idXNlclNwYWNlT25Vc2UiLz48cmFkaWFsR3JhZGllbnQgeGxpbms6aHJlZj0iI2MiIGlk\n",
    "PSJmIiBjeD0iNjEuNTE5IiBjeT0iMTMyLjI4NiIgcj0iMjkuMDM3IiBmeD0iNjEuNTE5IiBmeT0i\n",
    "MTMyLjI4NiIgZ3JhZGllbnRUcmFuc2Zvcm09Im1hdHJpeCgwIC0uMjM5OTUgMS4wNTQ2NyAwIC04\n",
    "My43IDE0Mi40NjIpIiBncmFkaWVudFVuaXRzPSJ1c2VyU3BhY2VPblVzZSIvPjwvZGVmcz48cGF0\n",
    "aCBkPSJNNTQuOTE5IDBjLTQuNTg0LjAyMi04Ljk2MS40MTMtMTIuODEzIDEuMDk1QzMwLjc2IDMu\n",
    "MDk5IDI4LjcgNy4yOTUgMjguNyAxNS4wMzJ2MTAuMjE5aDI2LjgxM3YzLjQwNkgxOC42MzhjLTcu\n",
    "NzkzIDAtMTQuNjE2IDQuNjg0LTE2Ljc1IDEzLjU5NC0yLjQ2MiAxMC4yMTMtMi41NzEgMTYuNTg2\n",
    "IDAgMjcuMjUgMS45MDUgNy45MzggNi40NTcgMTMuNTk0IDE0LjI1IDEzLjU5NGg5LjIxOHYtMTIu\n",
    "MjVjMC04Ljg1IDcuNjU3LTE2LjY1NyAxNi43NS0xNi42NTdoMjYuNzgyYzcuNDU0IDAgMTMuNDA2\n",
    "LTYuMTM4IDEzLjQwNi0xMy42MjV2LTI1LjUzYzAtNy4yNjctNi4xMy0xMi43MjYtMTMuNDA2LTEz\n",
    "LjkzOEM2NC4yODIuMzI4IDU5LjUwMi0uMDIgNTQuOTE4IDBtLTE0LjUgOC4yMmMyLjc3IDAgNS4w\n",
    "MzEgMi4yOTggNS4wMzEgNS4xMjUgMCAyLjgxNi0yLjI2MiA1LjA5My01LjAzMSA1LjA5My0yLjc4\n",
    "IDAtNS4wMzEtMi4yNzctNS4wMzEtNS4wOTMgMC0yLjgyNyAyLjI1MS01LjEyNSA1LjAzLTUuMTI1\n",
    "IiBzdHlsZT0iZmlsbDp1cmwoI2QpO2ZpbGwtb3BhY2l0eToxIi8+PHBhdGggZD0iTTg1LjYzOCAy\n",
    "OC42NTd2MTEuOTA2YzAgOS4yMzEtNy44MjYgMTctMTYuNzUgMTdINDIuMTA2Yy03LjMzNiAwLTEz\n",
    "LjQwNiA2LjI3OS0xMy40MDYgMTMuNjI1Vjk2LjcyYzAgNy4yNjYgNi4zMTkgMTEuNTQgMTMuNDA2\n",
    "IDEzLjYyNSA4LjQ4OCAyLjQ5NSAxNi42MjcgMi45NDYgMjYuNzgyIDAgNi43NS0xLjk1NSAxMy40\n",
    "MDYtNS44ODggMTMuNDA2LTEzLjYyNVY4Ni41SDU1LjUxM3YtMy40MDVIOTUuN2M3Ljc5MyAwIDEw\n",
    "LjY5Ni01LjQzNiAxMy40MDYtMTMuNTk0IDIuOC04LjM5OSAyLjY4LTE2LjQ3NiAwLTI3LjI1LTEu\n",
    "OTI1LTcuNzU4LTUuNjA0LTEzLjU5NC0xMy40MDYtMTMuNTk0ek03MC41NzUgOTMuMzEzYzIuNzgg\n",
    "MCA1LjAzMSAyLjI3OCA1LjAzMSA1LjA5NCAwIDIuODI3LTIuMjUxIDUuMTI1LTUuMDMxIDUuMTI1\n",
    "LTIuNzcgMC01LjAzMS0yLjI5OC01LjAzMS01LjEyNSAwLTIuODE2IDIuMjYxLTUuMDk0IDUuMDMx\n",
    "LTUuMDk0IiBzdHlsZT0iZmlsbDp1cmwoI2UpO2ZpbGwtb3BhY2l0eToxIi8+PGVsbGlwc2UgY3g9\n",
    "IjU1LjgxNyIgY3k9IjEyNy43MDEiIHJ4PSIzNS45MzEiIHJ5PSI2Ljk2NyIgc3R5bGU9Im9wYWNp\n",
    "dHk6LjQ0MzgyO2ZpbGw6dXJsKCNmKTtmaWxsLW9wYWNpdHk6MTtmaWxsLXJ1bGU6bm9uemVybztz\n",
    "dHJva2U6bm9uZTtzdHJva2Utd2lkdGg6MTUuNDE3NDtzdHJva2UtbWl0ZXJsaW1pdDo0O3N0cm9r\n",
    "ZS1kYXNoYXJyYXk6bm9uZTtzdHJva2Utb3BhY2l0eToxIi8+PC9zdmc+\n",
    "\"\n",
    "     style=\"display:block;margin:auto;width:10%\" alt=\"Python Logo\"/>\n",
    "<br>\n",
    "\n",
    "<div style=\"text-align:center; font-size:200%;\">\n",
    " <b>SOLID: OCP (Teil 2)</b>\n",
    "</div>\n",
    "<br/>\n",
    "<div style=\"text-align:center;\">Dr. Matthias Hölzl</div>\n",
    "<br/>"
   ]
  },
  {
   "cell_type": "markdown",
   "id": "41ac3116f09d8a54",
   "metadata": {
    "lang": "de",
    "slideshow": {
     "slide_type": "subslide"
    },
    "tags": [
     "subslide"
    ]
   },
   "source": [
    "\n",
    "## Wiederholung: OCP-Verletzung\n",
    "\n",
    "<img src=\"img/movie_v0.svg\" alt=\"MovieV0\"\n",
    "     style=\"display:block;margin:auto;width:50%\"/>"
   ]
  },
  {
   "cell_type": "markdown",
   "id": "d67e797a3a37aa23",
   "metadata": {
    "lang": "de",
    "slideshow": {
     "slide_type": "subslide"
    },
    "tags": [
     "subslide"
    ]
   },
   "source": [
    "\n",
    "## Lösungsversuch 1: Vererbung\n",
    "\n",
    "<img src=\"img/movie_v2.svg\" alt=\"MovieV2\"\n",
    "     style=\"display:block;margin:auto;width:70%\"/>"
   ]
  },
  {
   "cell_type": "markdown",
   "id": "455adc169508e662",
   "metadata": {
    "lang": "de",
    "slideshow": {
     "slide_type": "subslide"
    },
    "tags": [
     "subslide"
    ]
   },
   "source": [
    "\n",
    "- OCP ist erfüllt\n",
    "- Großer Scope der Vererbung\n",
    "  - Preisberechnung ist das wichtigste an Filmen?\n",
    "- Nur eindimensionale Klassifikation\n",
    "- Keine Möglichkeit, Preisschema zu wechseln"
   ]
  },
  {
   "cell_type": "markdown",
   "id": "6d78e1f3cabff0e8",
   "metadata": {
    "lang": "de",
    "slideshow": {
     "slide_type": "subslide"
    },
    "tags": [
     "subslide"
    ]
   },
   "source": [
    "\n",
    "## Lösungsversuch 2: Strategie-Muster\n",
    "\n",
    "<img src=\"img/movie_v3.svg\" alt=\"MovieV3\"\n",
    "     style=\"display:block;margin:auto;width:80%\"/>"
   ]
  },
  {
   "cell_type": "markdown",
   "id": "cebc960a3989d448",
   "metadata": {
    "lang": "de",
    "slideshow": {
     "slide_type": "subslide"
    },
    "tags": [
     "subslide"
    ]
   },
   "source": [
    "\n",
    "- OCP ist erfüllt\n",
    "- Vererbung ist auf die Preisberechnung beschränkt\n",
    "- Mehrdimensionale Klassifikation ist einfach\n",
    "- Preisschema kann zur Laufzeit gewechselt werden"
   ]
  },
  {
   "cell_type": "markdown",
   "id": "3f08e9a984126a54",
   "metadata": {
    "lang": "de",
    "slideshow": {
     "slide_type": "subslide"
    },
    "tags": [
     "subslide"
    ]
   },
   "source": [
    "\n",
    "## Implementierung"
   ]
  },
  {
   "cell_type": "code",
   "execution_count": null,
   "id": "358d3acdd9f86a51",
   "metadata": {
    "tags": [
     "keep"
    ]
   },
   "outputs": [],
   "source": [
    "from abc import ABC, abstractmethod"
   ]
  },
  {
   "cell_type": "code",
   "execution_count": null,
   "id": "72030fff602324af",
   "metadata": {
    "lines_to_next_cell": 2,
    "tags": [
     "keep"
    ]
   },
   "outputs": [],
   "source": [
    "class PriceStrategy(ABC):\n",
    "    @abstractmethod\n",
    "    def compute_price(self, movie) -> float: ..."
   ]
  },
  {
   "cell_type": "code",
   "execution_count": null,
   "id": "2711b3f7f4887ea6",
   "metadata": {
    "slideshow": {
     "slide_type": "subslide"
    },
    "tags": [
     "keep",
     "subslide"
    ]
   },
   "outputs": [],
   "source": [
    "class RegularPriceStrategy(PriceStrategy):\n",
    "    def compute_price(self, movie) -> float:\n",
    "        return 4.99"
   ]
  },
  {
   "cell_type": "code",
   "execution_count": null,
   "id": "d0f1dad166b7dda4",
   "metadata": {
    "tags": [
     "keep"
    ]
   },
   "outputs": [],
   "source": [
    "class ChildrenPriceStrategy(PriceStrategy):\n",
    "    def compute_price(self, movie) -> float:\n",
    "        return 5.99"
   ]
  },
  {
   "cell_type": "code",
   "execution_count": null,
   "id": "072cacbdccbe4f21",
   "metadata": {
    "lines_to_next_cell": 2,
    "tags": [
     "keep"
    ]
   },
   "outputs": [],
   "source": [
    "class NewReleasePriceStrategy(PriceStrategy):\n",
    "    def compute_price(self, movie) -> float:\n",
    "        return 6.99"
   ]
  },
  {
   "cell_type": "code",
   "execution_count": null,
   "id": "cd902f144fa34551",
   "metadata": {
    "lines_to_next_cell": 2,
    "slideshow": {
     "slide_type": "subslide"
    },
    "tags": [
     "keep",
     "subslide"
    ]
   },
   "outputs": [],
   "source": [
    "class Movie:\n",
    "    def __init__(self, title: str, price_strategy):\n",
    "        self.title = title\n",
    "        self.price_strategy = price_strategy\n",
    "\n",
    "    def compute_price(self) -> float:\n",
    "        return self.price_strategy.compute_price(self)\n",
    "\n",
    "    def print_info(self):\n",
    "        print(f\"{self.title} costs {self.compute_price()}\")"
   ]
  },
  {
   "cell_type": "code",
   "execution_count": null,
   "id": "94be05074d71ea86",
   "metadata": {
    "slideshow": {
     "slide_type": "subslide"
    },
    "tags": [
     "keep",
     "subslide"
    ]
   },
   "outputs": [],
   "source": [
    "movies = [\n",
    "    Movie(\"Casablanca\", RegularPriceStrategy()),\n",
    "    Movie(\"Shrek\", ChildrenPriceStrategy()),\n",
    "    Movie(\"Brand New\", NewReleasePriceStrategy()),\n",
    "]"
   ]
  },
  {
   "cell_type": "code",
   "execution_count": null,
   "id": "2357685fc82246fd",
   "metadata": {
    "tags": [
     "keep"
    ]
   },
   "outputs": [],
   "source": [
    "for m in movies:\n",
    "    m.print_info()"
   ]
  },
  {
   "cell_type": "code",
   "execution_count": null,
   "id": "3dd3ee0971a19a29",
   "metadata": {},
   "outputs": [],
   "source": []
  },
  {
   "cell_type": "code",
   "execution_count": null,
   "id": "5c415cd227c4e1e1",
   "metadata": {
    "lines_to_next_cell": 2
   },
   "outputs": [],
   "source": []
  },
  {
   "cell_type": "markdown",
   "id": "7d258a92bfe34e34",
   "metadata": {
    "lang": "de",
    "slideshow": {
     "slide_type": "subslide"
    },
    "tags": [
     "subslide"
    ]
   },
   "source": [
    "\n",
    "## Workshop: Berechnung von ÖPNV-Fahrpreisen\n",
    "\n",
    "In einer modernen Stadt stehen verschiedene öffentliche Verkehrsmittel zur\n",
    "Verfügung – Busse, U-Bahnen, Züge, Boote, etc. Jedes dieser Verkehrsmittel\n",
    "hat seine eigene Methode zur Fahrpreisberechnung. Zum Beispiel können\n",
    "Bustarife auf Pauschalpreisen basieren, U-Bahnen können auf\n",
    "Entfernungstarifen basieren und Boote können Premiumtarife für\n",
    "landschaftlich reizvolle Strecken haben."
   ]
  },
  {
   "cell_type": "markdown",
   "id": "dbec3573a97655b8",
   "metadata": {
    "lang": "de",
    "slideshow": {
     "slide_type": "subslide"
    },
    "tags": [
     "subslide"
    ]
   },
   "source": [
    "\n",
    "Sie haben ein rudimentäres Fahrpreisberechnungssystem, das den Fahrpreis\n",
    "basierend auf dem Verkehrsmittel bestimmt. Leider verstößt dieses System\n",
    "gegen das OCP, da es ohne Modifikation nicht für die Erweiterung geöffnet\n",
    "ist. Jedes Mal, wenn ein neues Verkehrsmittel hinzugefügt werden muss, muss\n",
    "das Kernsystem geändert werden.\n",
    "\n",
    "Ihre Aufgabe ist es, das System so zu refaktorisieren, dass es dem OCP\n",
    "entspricht. Genauer gesagt, werden Sie die `if`-Anweisung aus der\n",
    "Fahrpreisberechnungslogik entfernen. Das Ziel ist es, das System leicht\n",
    "erweiterbar zu machen, so dass neue Verkehrsmittel hinzugefügt werden können,\n",
    "ohne den vorhandenen Code zu ändern und die Verkehrsmittel für Verbindungen\n",
    "zur Laufzeit gewechselt werden können."
   ]
  },
  {
   "cell_type": "code",
   "execution_count": null,
   "id": "5b91f1593f2ae1a3",
   "metadata": {
    "slideshow": {
     "slide_type": "subslide"
    },
    "tags": [
     "keep",
     "subslide"
    ]
   },
   "outputs": [],
   "source": [
    "from enum import Enum"
   ]
  },
  {
   "cell_type": "code",
   "execution_count": null,
   "id": "907cc6a81a4a9f38",
   "metadata": {
    "tags": [
     "keep"
    ]
   },
   "outputs": [],
   "source": [
    "class TransportType(Enum):\n",
    "    BUS = 1\n",
    "    SUBWAY = 2\n",
    "    TRAIN = 3\n",
    "    BOAT = 4"
   ]
  },
  {
   "cell_type": "code",
   "execution_count": null,
   "id": "77019b5fab23ef63",
   "metadata": {
    "slideshow": {
     "slide_type": "subslide"
    },
    "tags": [
     "keep",
     "subslide"
    ]
   },
   "outputs": [],
   "source": [
    "class Connection:\n",
    "    def __init__(self, transport_type):\n",
    "        self._type = transport_type\n",
    "\n",
    "    def calculate_fare(self, distance):\n",
    "        if self._type == TransportType.BUS:\n",
    "            return 2.5  # flat rate\n",
    "        elif self._type == TransportType.SUBWAY:\n",
    "            return 1.5 + (distance * 0.2)  # base rate + per km\n",
    "        elif self._type == TransportType.TRAIN:\n",
    "            return 5.0 + (distance * 0.15)  # base rate + per km\n",
    "        elif self._type == TransportType.BOAT:\n",
    "            return 10.0  # premium rate\n",
    "        else:\n",
    "            return 0.0"
   ]
  },
  {
   "cell_type": "code",
   "execution_count": null,
   "id": "53b3e4f530ce32f8",
   "metadata": {
    "slideshow": {
     "slide_type": "subslide"
    },
    "tags": [
     "keep",
     "subslide"
    ]
   },
   "outputs": [],
   "source": [
    "bus = Connection(TransportType.BUS)\n",
    "print(f\"Bus fare: ${bus.calculate_fare(10)}\")"
   ]
  },
  {
   "cell_type": "code",
   "execution_count": null,
   "id": "53837b97f8e0ab91",
   "metadata": {
    "tags": [
     "keep"
    ]
   },
   "outputs": [],
   "source": [
    "subway = Connection(TransportType.SUBWAY)\n",
    "print(f\"Subway fare: ${subway.calculate_fare(10)}\")"
   ]
  },
  {
   "cell_type": "code",
   "execution_count": null,
   "id": "9b3a3093ad6a5e7f",
   "metadata": {
    "tags": [
     "keep"
    ]
   },
   "outputs": [],
   "source": [
    "train = Connection(TransportType.TRAIN)\n",
    "print(f\"Train fare: ${train.calculate_fare(10)}\")"
   ]
  },
  {
   "cell_type": "code",
   "execution_count": null,
   "id": "31d04aa76703a6e8",
   "metadata": {
    "tags": [
     "keep"
    ]
   },
   "outputs": [],
   "source": [
    "boat = Connection(TransportType.BOAT)\n",
    "print(f\"Boat fare: ${boat.calculate_fare(10)}\")"
   ]
  },
  {
   "cell_type": "code",
   "execution_count": null,
   "id": "8cc7f7dad149584f",
   "metadata": {},
   "outputs": [],
   "source": []
  },
  {
   "cell_type": "markdown",
   "id": "0e4bed6861ce8510",
   "metadata": {
    "lang": "de",
    "slideshow": {
     "slide_type": "subslide"
    },
    "tags": [
     "subslide"
    ]
   },
   "source": [
    "\n",
    "## Extra-Workshop: Zoo-Management System mit Strategy\n",
    "\n",
    "In einem früheren Workshop haben wir ein Zoo-Management System\n",
    "implementiert.\n",
    "\n",
    "Lösen Sie das OCP-Problem für dieses System mit dem Strategy-Muster."
   ]
  },
  {
   "cell_type": "code",
   "execution_count": null,
   "id": "8404689481ba351e",
   "metadata": {
    "slideshow": {
     "slide_type": "subslide"
    },
    "tags": [
     "subslide"
    ]
   },
   "outputs": [],
   "source": []
  }
 ],
 "metadata": {
  "jupytext": {
   "cell_metadata_filter": "tags,lang,-all",
   "main_language": "python",
   "notebook_metadata_filter": "-all"
  },
  "kernelspec": {
   "display_name": "Python 3 (ipykernel)",
   "language": "python",
   "name": "python3"
  },
  "language_info": {
   "codemirror_mode": {
    "name": "ipython",
    "version": 3
   },
   "file_extension": ".py",
   "mimetype": "text/x-python",
   "name": "python",
   "nbconvert_exporter": "python",
   "pygments_lexer": "ipython3"
  }
 },
 "nbformat": 4,
 "nbformat_minor": 5
}
