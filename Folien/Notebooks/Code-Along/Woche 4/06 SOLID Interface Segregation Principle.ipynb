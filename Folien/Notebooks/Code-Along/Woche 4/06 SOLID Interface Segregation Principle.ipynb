{
 "cells": [
  {
   "cell_type": "code",
   "execution_count": null,
   "id": "9eb68d5e4bff71ad",
   "metadata": {
    "lines_to_next_cell": 0
   },
   "outputs": [],
   "source": []
  },
  {
   "cell_type": "markdown",
   "id": "5c82a919306a2661",
   "metadata": {
    "lang": "de",
    "slideshow": {
     "slide_type": "slide"
    },
    "tags": [
     "slide"
    ]
   },
   "source": [
    "\n",
    "<img src=\"data:image/svg+xml;base64,PHN2ZyB4bWxucz0iaHR0cDovL3d3dy53My5vcmcvMjAwMC9zdmciIHhtbG5zOnhsaW5rPSJodHRw\n",
    "Oi8vd3d3LnczLm9yZy8xOTk5L3hsaW5rIiB3aWR0aD0iMTExLjE2MSIgaGVpZ2h0PSIxMzQuNjY4\n",
    "IiB2ZXJzaW9uPSIxLjAiPjxkZWZzPjxsaW5lYXJHcmFkaWVudCBpZD0iYyI+PHN0b3Agb2Zmc2V0\n",
    "PSIwIiBzdHlsZT0ic3RvcC1jb2xvcjojYjhiOGI4O3N0b3Atb3BhY2l0eTouNDk4MDM5MjIiLz48\n",
    "c3RvcCBvZmZzZXQ9IjEiIHN0eWxlPSJzdG9wLWNvbG9yOiM3ZjdmN2Y7c3RvcC1vcGFjaXR5OjAi\n",
    "Lz48L2xpbmVhckdyYWRpZW50PjxsaW5lYXJHcmFkaWVudCBpZD0iYSI+PHN0b3Agb2Zmc2V0PSIw\n",
    "IiBzdHlsZT0ic3RvcC1jb2xvcjojZmZkNDNiO3N0b3Atb3BhY2l0eToxIi8+PHN0b3Agb2Zmc2V0\n",
    "PSIxIiBzdHlsZT0ic3RvcC1jb2xvcjojZmZlODczO3N0b3Atb3BhY2l0eToxIi8+PC9saW5lYXJH\n",
    "cmFkaWVudD48bGluZWFyR3JhZGllbnQgaWQ9ImIiPjxzdG9wIG9mZnNldD0iMCIgc3R5bGU9InN0\n",
    "b3AtY29sb3I6IzVhOWZkNDtzdG9wLW9wYWNpdHk6MSIvPjxzdG9wIG9mZnNldD0iMSIgc3R5bGU9\n",
    "InN0b3AtY29sb3I6IzMwNjk5ODtzdG9wLW9wYWNpdHk6MSIvPjwvbGluZWFyR3JhZGllbnQ+PGxp\n",
    "bmVhckdyYWRpZW50IHhsaW5rOmhyZWY9IiNhIiBpZD0iZSIgeDE9IjE1MC45NjEiIHgyPSIxMTIu\n",
    "MDMxIiB5MT0iMTkyLjM1MiIgeTI9IjEzNy4yNzMiIGdyYWRpZW50VHJhbnNmb3JtPSJtYXRyaXgo\n",
    "LjU2MjU0IDAgMCAuNTY3OTcgLTE0Ljk5MSAtMTEuNzAyKSIgZ3JhZGllbnRVbml0cz0idXNlclNw\n",
    "YWNlT25Vc2UiLz48bGluZWFyR3JhZGllbnQgeGxpbms6aHJlZj0iI2IiIGlkPSJkIiB4MT0iMjYu\n",
    "NjQ5IiB4Mj0iMTM1LjY2NSIgeTE9IjIwLjYwNCIgeTI9IjExNC4zOTgiIGdyYWRpZW50VHJhbnNm\n",
    "b3JtPSJtYXRyaXgoLjU2MjU0IDAgMCAuNTY3OTcgLTE0Ljk5MSAtMTEuNzAyKSIgZ3JhZGllbnRV\n",
    "bml0cz0idXNlclNwYWNlT25Vc2UiLz48cmFkaWFsR3JhZGllbnQgeGxpbms6aHJlZj0iI2MiIGlk\n",
    "PSJmIiBjeD0iNjEuNTE5IiBjeT0iMTMyLjI4NiIgcj0iMjkuMDM3IiBmeD0iNjEuNTE5IiBmeT0i\n",
    "MTMyLjI4NiIgZ3JhZGllbnRUcmFuc2Zvcm09Im1hdHJpeCgwIC0uMjM5OTUgMS4wNTQ2NyAwIC04\n",
    "My43IDE0Mi40NjIpIiBncmFkaWVudFVuaXRzPSJ1c2VyU3BhY2VPblVzZSIvPjwvZGVmcz48cGF0\n",
    "aCBkPSJNNTQuOTE5IDBjLTQuNTg0LjAyMi04Ljk2MS40MTMtMTIuODEzIDEuMDk1QzMwLjc2IDMu\n",
    "MDk5IDI4LjcgNy4yOTUgMjguNyAxNS4wMzJ2MTAuMjE5aDI2LjgxM3YzLjQwNkgxOC42MzhjLTcu\n",
    "NzkzIDAtMTQuNjE2IDQuNjg0LTE2Ljc1IDEzLjU5NC0yLjQ2MiAxMC4yMTMtMi41NzEgMTYuNTg2\n",
    "IDAgMjcuMjUgMS45MDUgNy45MzggNi40NTcgMTMuNTk0IDE0LjI1IDEzLjU5NGg5LjIxOHYtMTIu\n",
    "MjVjMC04Ljg1IDcuNjU3LTE2LjY1NyAxNi43NS0xNi42NTdoMjYuNzgyYzcuNDU0IDAgMTMuNDA2\n",
    "LTYuMTM4IDEzLjQwNi0xMy42MjV2LTI1LjUzYzAtNy4yNjctNi4xMy0xMi43MjYtMTMuNDA2LTEz\n",
    "LjkzOEM2NC4yODIuMzI4IDU5LjUwMi0uMDIgNTQuOTE4IDBtLTE0LjUgOC4yMmMyLjc3IDAgNS4w\n",
    "MzEgMi4yOTggNS4wMzEgNS4xMjUgMCAyLjgxNi0yLjI2MiA1LjA5My01LjAzMSA1LjA5My0yLjc4\n",
    "IDAtNS4wMzEtMi4yNzctNS4wMzEtNS4wOTMgMC0yLjgyNyAyLjI1MS01LjEyNSA1LjAzLTUuMTI1\n",
    "IiBzdHlsZT0iZmlsbDp1cmwoI2QpO2ZpbGwtb3BhY2l0eToxIi8+PHBhdGggZD0iTTg1LjYzOCAy\n",
    "OC42NTd2MTEuOTA2YzAgOS4yMzEtNy44MjYgMTctMTYuNzUgMTdINDIuMTA2Yy03LjMzNiAwLTEz\n",
    "LjQwNiA2LjI3OS0xMy40MDYgMTMuNjI1Vjk2LjcyYzAgNy4yNjYgNi4zMTkgMTEuNTQgMTMuNDA2\n",
    "IDEzLjYyNSA4LjQ4OCAyLjQ5NSAxNi42MjcgMi45NDYgMjYuNzgyIDAgNi43NS0xLjk1NSAxMy40\n",
    "MDYtNS44ODggMTMuNDA2LTEzLjYyNVY4Ni41SDU1LjUxM3YtMy40MDVIOTUuN2M3Ljc5MyAwIDEw\n",
    "LjY5Ni01LjQzNiAxMy40MDYtMTMuNTk0IDIuOC04LjM5OSAyLjY4LTE2LjQ3NiAwLTI3LjI1LTEu\n",
    "OTI1LTcuNzU4LTUuNjA0LTEzLjU5NC0xMy40MDYtMTMuNTk0ek03MC41NzUgOTMuMzEzYzIuNzgg\n",
    "MCA1LjAzMSAyLjI3OCA1LjAzMSA1LjA5NCAwIDIuODI3LTIuMjUxIDUuMTI1LTUuMDMxIDUuMTI1\n",
    "LTIuNzcgMC01LjAzMS0yLjI5OC01LjAzMS01LjEyNSAwLTIuODE2IDIuMjYxLTUuMDk0IDUuMDMx\n",
    "LTUuMDk0IiBzdHlsZT0iZmlsbDp1cmwoI2UpO2ZpbGwtb3BhY2l0eToxIi8+PGVsbGlwc2UgY3g9\n",
    "IjU1LjgxNyIgY3k9IjEyNy43MDEiIHJ4PSIzNS45MzEiIHJ5PSI2Ljk2NyIgc3R5bGU9Im9wYWNp\n",
    "dHk6LjQ0MzgyO2ZpbGw6dXJsKCNmKTtmaWxsLW9wYWNpdHk6MTtmaWxsLXJ1bGU6bm9uemVybztz\n",
    "dHJva2U6bm9uZTtzdHJva2Utd2lkdGg6MTUuNDE3NDtzdHJva2UtbWl0ZXJsaW1pdDo0O3N0cm9r\n",
    "ZS1kYXNoYXJyYXk6bm9uZTtzdHJva2Utb3BhY2l0eToxIi8+PC9zdmc+\n",
    "\"\n",
    "     style=\"display:block;margin:auto;width:10%\" alt=\"Python Logo\"/>\n",
    "<br>\n",
    "\n",
    "<div style=\"text-align:center; font-size:200%;\">\n",
    " <b>SOLID: Interface Segregation Principle</b>\n",
    "</div>\n",
    "<br/>\n",
    "<div style=\"text-align:center;\">Dr. Matthias Hölzl</div>\n",
    "<br/>"
   ]
  },
  {
   "cell_type": "markdown",
   "id": "d188b1e2eb7a4857",
   "metadata": {
    "lang": "de",
    "slideshow": {
     "slide_type": "slide"
    },
    "tags": [
     "slide"
    ]
   },
   "source": [
    "\n",
    "## SOLID : Interface Segregation Prinzip\n",
    "\n",
    "- Kein Client einer Klasse `C` sollte von Methoden abhängen, die er nicht\n",
    "  benutzt.\n",
    "- Wenn das nicht der Fall ist\n",
    "- Unterteile die Schnittstelle von `C` in mehrere unabhängige Schnittstellen.\n",
    "- Ersetze `C` in jedem Client durch die vom Client tatsächlich verwendeten\n",
    "  Schnittstellen."
   ]
  },
  {
   "cell_type": "code",
   "execution_count": null,
   "id": "59949f9ce97ff36f",
   "metadata": {
    "tags": [
     "keep"
    ]
   },
   "outputs": [],
   "source": [
    "class Car:\n",
    "    def drive(self):\n",
    "        print(\"Accelerating.\")\n",
    "\n",
    "    def repair(self):\n",
    "        print(\"Repairing.\")"
   ]
  },
  {
   "cell_type": "code",
   "execution_count": null,
   "id": "a69784727d93715d",
   "metadata": {
    "slideshow": {
     "slide_type": "subslide"
    },
    "tags": [
     "keep",
     "subslide"
    ]
   },
   "outputs": [],
   "source": [
    "class Driver:\n",
    "    def drive(self, car):\n",
    "        car.drive()"
   ]
  },
  {
   "cell_type": "code",
   "execution_count": null,
   "id": "1feae2f2a2689ead",
   "metadata": {
    "tags": [
     "keep"
    ]
   },
   "outputs": [],
   "source": [
    "class Mechanic:\n",
    "    def work_on(self, car):\n",
    "        car.repair()"
   ]
  },
  {
   "cell_type": "code",
   "execution_count": null,
   "id": "69ee81dfd8f6778a",
   "metadata": {
    "slideshow": {
     "slide_type": "subslide"
    },
    "tags": [
     "keep",
     "subslide"
    ]
   },
   "outputs": [],
   "source": [
    "d = Driver()\n",
    "m = Mechanic()\n",
    "c = Car()"
   ]
  },
  {
   "cell_type": "code",
   "execution_count": null,
   "id": "d84abbc396711064",
   "metadata": {
    "tags": [
     "keep"
    ]
   },
   "outputs": [],
   "source": [
    "d.drive(c)"
   ]
  },
  {
   "cell_type": "code",
   "execution_count": null,
   "id": "ad9061742f9ebe01",
   "metadata": {
    "tags": [
     "keep"
    ]
   },
   "outputs": [],
   "source": [
    "m.work_on(c)"
   ]
  },
  {
   "cell_type": "code",
   "execution_count": null,
   "id": "358d3acdd9f86a51",
   "metadata": {
    "slideshow": {
     "slide_type": "subslide"
    },
    "tags": [
     "keep",
     "subslide"
    ]
   },
   "outputs": [],
   "source": [
    "from abc import ABC, abstractmethod"
   ]
  },
  {
   "cell_type": "code",
   "execution_count": null,
   "id": "c23d7fd3cb0cd2ea",
   "metadata": {
    "tags": [
     "keep"
    ]
   },
   "outputs": [],
   "source": [
    "class Drivable(ABC):\n",
    "    @abstractmethod\n",
    "    def drive(self): ..."
   ]
  },
  {
   "cell_type": "code",
   "execution_count": null,
   "id": "08b7bb4786cfde94",
   "metadata": {
    "tags": [
     "keep"
    ]
   },
   "outputs": [],
   "source": [
    "class Repairable(ABC):\n",
    "    @abstractmethod\n",
    "    def repair(self): ..."
   ]
  },
  {
   "cell_type": "code",
   "execution_count": null,
   "id": "86ff052892741b6e",
   "metadata": {
    "tags": [
     "keep"
    ]
   },
   "outputs": [],
   "source": [
    "class Car2(Drivable, Repairable):\n",
    "    def drive(self):\n",
    "        print(\"Accelerating.\")\n",
    "\n",
    "    def repair(self):\n",
    "        print(\"Repairing.\")"
   ]
  },
  {
   "cell_type": "code",
   "execution_count": null,
   "id": "9ca24382fdd497e2",
   "metadata": {
    "slideshow": {
     "slide_type": "subslide"
    },
    "tags": [
     "keep",
     "subslide"
    ]
   },
   "outputs": [],
   "source": [
    "class Driver2:\n",
    "    def drive(self, car: Drivable):\n",
    "        car.drive()"
   ]
  },
  {
   "cell_type": "code",
   "execution_count": null,
   "id": "8cb022e872653319",
   "metadata": {
    "tags": [
     "keep"
    ]
   },
   "outputs": [],
   "source": [
    "class Mechanic2:\n",
    "    def work_on(self, car: Repairable):\n",
    "        car.repair()"
   ]
  },
  {
   "cell_type": "code",
   "execution_count": null,
   "id": "be4f7eafee3464c9",
   "metadata": {
    "slideshow": {
     "slide_type": "subslide"
    },
    "tags": [
     "keep",
     "subslide"
    ]
   },
   "outputs": [],
   "source": [
    "d2 = Driver2()\n",
    "m2 = Mechanic2()\n",
    "c2 = Car2()"
   ]
  },
  {
   "cell_type": "code",
   "execution_count": null,
   "id": "b835c34c1b746f8a",
   "metadata": {
    "tags": [
     "keep"
    ]
   },
   "outputs": [],
   "source": [
    "d2.drive(c2)"
   ]
  },
  {
   "cell_type": "code",
   "execution_count": null,
   "id": "7003b4aeebc48022",
   "metadata": {
    "tags": [
     "keep"
    ]
   },
   "outputs": [],
   "source": [
    "m2.work_on(c2)"
   ]
  },
  {
   "cell_type": "markdown",
   "id": "581f5449359a44f4",
   "metadata": {
    "lang": "de",
    "slideshow": {
     "slide_type": "subslide"
    },
    "tags": [
     "subslide"
    ]
   },
   "source": [
    "\n",
    "## Workshop:\n",
    "\n",
    "In diesem Workshop werden wir an einem Restaurant-Management-System arbeiten.\n",
    "\n",
    "Stellen Sie sich vor, Sie haben den Code eines Restaurant-Management-Systems\n",
    "erhalten. Das System hat derzeit eine einzige Schnittstelle\n",
    "`RestaurantOperations`, die alle Operationen definiert, die in einem\n",
    "Restaurant durchgeführt werden können. Verschiedene Rollen im Restaurant, wie\n",
    "der Kunde, der Koch, der Kassierer und der Hausmeister, verwenden alle\n",
    "dieselbe Schnittstelle, aber jede Rolle verwendet nur einen Teil ihrer\n",
    "Funktionen.\n",
    "\n",
    "Ihre Aufgabe ist es, dieses System so umzubauen, dass es dem Interface\n",
    "Segregation Principle entspricht. Das bedeutet, dass kein Client gezwungen\n",
    "werden sollte, von Schnittstellen abhängig zu sein, die er nicht verwendet."
   ]
  },
  {
   "cell_type": "markdown",
   "id": "8bcdd2df51160d30",
   "metadata": {
    "lang": "de",
    "slideshow": {
     "slide_type": "subslide"
    },
    "tags": [
     "subslide"
    ]
   },
   "source": [
    "\n",
    "1. Identifizieren Sie, welche Operationen für welche Rollen relevant sind.\n",
    "2. Teilen Sie das RestaurantOperations-Interface in kleinere,\n",
    "   rollenspezifische Schnittstellen auf.\n",
    "3. Passen Sie die `Restaurant`-Klasse und die rollenbasierten Client-Klassen\n",
    "   (`Customer`, `Chef`, `Cashier`, `Janitor`) an die neuen Schnittstellen an.\n",
    "4. Stellen Sie sicher, dass jede Client-Klasse nur über die für ihre Rolle"
   ]
  },
  {
   "cell_type": "code",
   "execution_count": null,
   "id": "f506eef03507bae5",
   "metadata": {
    "tags": [
     "keep"
    ]
   },
   "outputs": [],
   "source": [
    "from abc import ABC, abstractmethod"
   ]
  },
  {
   "cell_type": "code",
   "execution_count": null,
   "id": "54595b30cd5192ed",
   "metadata": {
    "tags": [
     "keep"
    ]
   },
   "outputs": [],
   "source": [
    "class RestaurantOperations(ABC):\n",
    "    @abstractmethod\n",
    "    def place_order(self):\n",
    "        pass\n",
    "\n",
    "    @abstractmethod\n",
    "    def cook_order(self):\n",
    "        pass\n",
    "\n",
    "    @abstractmethod\n",
    "    def calculate_bill(self):\n",
    "        pass\n",
    "\n",
    "    @abstractmethod\n",
    "    def clean_tables(self):\n",
    "        pass"
   ]
  },
  {
   "cell_type": "code",
   "execution_count": null,
   "id": "4072b520214e4119",
   "metadata": {
    "slideshow": {
     "slide_type": "subslide"
    },
    "tags": [
     "keep",
     "subslide"
    ]
   },
   "outputs": [],
   "source": [
    "class Restaurant(RestaurantOperations):\n",
    "    def place_order(self):\n",
    "        print(\"Order has been placed.\")\n",
    "\n",
    "    def cook_order(self):\n",
    "        print(\"Order is being cooked.\")\n",
    "\n",
    "    def calculate_bill(self):\n",
    "        print(\"Bill is being calculated.\")\n",
    "\n",
    "    def clean_tables(self):\n",
    "        print(\"Tables are being cleaned.\")"
   ]
  },
  {
   "cell_type": "code",
   "execution_count": null,
   "id": "c3e2e261304b3253",
   "metadata": {
    "slideshow": {
     "slide_type": "subslide"
    },
    "tags": [
     "keep",
     "subslide"
    ]
   },
   "outputs": [],
   "source": [
    "class Customer:\n",
    "    def __init__(self, restaurant: RestaurantOperations):\n",
    "        self.restaurant = restaurant\n",
    "\n",
    "    def make_order(self):\n",
    "        self.restaurant.place_order()\n",
    "        self.restaurant.calculate_bill()"
   ]
  },
  {
   "cell_type": "code",
   "execution_count": null,
   "id": "b3a3e253d11ab1b8",
   "metadata": {
    "slideshow": {
     "slide_type": "subslide"
    },
    "tags": [
     "keep",
     "subslide"
    ]
   },
   "outputs": [],
   "source": [
    "class Chef:\n",
    "    def __init__(self, restaurant: RestaurantOperations):\n",
    "        self.restaurant = restaurant\n",
    "\n",
    "    def prepare_food(self):\n",
    "        self.restaurant.cook_order()"
   ]
  },
  {
   "cell_type": "code",
   "execution_count": null,
   "id": "ca554ee6b8bef124",
   "metadata": {
    "slideshow": {
     "slide_type": "subslide"
    },
    "tags": [
     "keep",
     "subslide"
    ]
   },
   "outputs": [],
   "source": [
    "class Cashier:\n",
    "    def __init__(self, restaurant: RestaurantOperations):\n",
    "        self.restaurant = restaurant\n",
    "\n",
    "    def generate_bill(self):\n",
    "        self.restaurant.calculate_bill()"
   ]
  },
  {
   "cell_type": "code",
   "execution_count": null,
   "id": "81185b4fa95c319a",
   "metadata": {
    "slideshow": {
     "slide_type": "subslide"
    },
    "tags": [
     "keep",
     "subslide"
    ]
   },
   "outputs": [],
   "source": [
    "class Janitor:\n",
    "    def __init__(self, restaurant: RestaurantOperations):\n",
    "        self.restaurant = restaurant\n",
    "\n",
    "    def clean(self):\n",
    "        self.restaurant.clean_tables()"
   ]
  },
  {
   "cell_type": "code",
   "execution_count": null,
   "id": "8c7fedaa2290bc5f",
   "metadata": {
    "slideshow": {
     "slide_type": "subslide"
    },
    "tags": [
     "keep",
     "subslide"
    ]
   },
   "outputs": [],
   "source": [
    "restaurant = Restaurant()\n",
    "customer = Customer(restaurant)\n",
    "chef = Chef(restaurant)\n",
    "cashier = Cashier(restaurant)\n",
    "janitor = Janitor(restaurant)"
   ]
  },
  {
   "cell_type": "code",
   "execution_count": null,
   "id": "a479d7c60bff392d",
   "metadata": {
    "tags": [
     "keep"
    ]
   },
   "outputs": [],
   "source": [
    "customer.make_order()\n",
    "chef.prepare_food()\n",
    "cashier.generate_bill()\n",
    "janitor.clean()"
   ]
  },
  {
   "cell_type": "code",
   "execution_count": null,
   "id": "ca31ae14d5750653",
   "metadata": {},
   "outputs": [],
   "source": []
  },
  {
   "cell_type": "code",
   "execution_count": null,
   "id": "da43c65be95ad36b",
   "metadata": {},
   "outputs": [],
   "source": []
  },
  {
   "cell_type": "code",
   "execution_count": null,
   "id": "6b4e03423667dbb7",
   "metadata": {},
   "outputs": [],
   "source": []
  }
 ],
 "metadata": {
  "jupytext": {
   "cell_metadata_filter": "lang,tags,-all",
   "main_language": "python",
   "notebook_metadata_filter": "-all"
  },
  "kernelspec": {
   "display_name": "Python 3 (ipykernel)",
   "language": "python",
   "name": "python3"
  },
  "language_info": {
   "codemirror_mode": {
    "name": "ipython",
    "version": 3
   },
   "file_extension": ".py",
   "mimetype": "text/x-python",
   "name": "python",
   "nbconvert_exporter": "python",
   "pygments_lexer": "ipython3"
  }
 },
 "nbformat": 4,
 "nbformat_minor": 5
}
