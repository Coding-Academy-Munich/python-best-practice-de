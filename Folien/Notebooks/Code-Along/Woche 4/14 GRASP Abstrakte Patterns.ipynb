{
 "cells": [
  {
   "cell_type": "markdown",
   "id": "6c564109e6815675",
   "metadata": {
    "lang": "de",
    "slideshow": {
     "slide_type": "slide"
    },
    "tags": [
     "slide"
    ]
   },
   "source": [
    "\n",
    "<img src=\"data:image/svg+xml;base64,PHN2ZyB4bWxucz0iaHR0cDovL3d3dy53My5vcmcvMjAwMC9zdmciIHhtbG5zOnhsaW5rPSJodHRw\n",
    "Oi8vd3d3LnczLm9yZy8xOTk5L3hsaW5rIiB3aWR0aD0iMTExLjE2MSIgaGVpZ2h0PSIxMzQuNjY4\n",
    "IiB2ZXJzaW9uPSIxLjAiPjxkZWZzPjxsaW5lYXJHcmFkaWVudCBpZD0iYyI+PHN0b3Agb2Zmc2V0\n",
    "PSIwIiBzdHlsZT0ic3RvcC1jb2xvcjojYjhiOGI4O3N0b3Atb3BhY2l0eTouNDk4MDM5MjIiLz48\n",
    "c3RvcCBvZmZzZXQ9IjEiIHN0eWxlPSJzdG9wLWNvbG9yOiM3ZjdmN2Y7c3RvcC1vcGFjaXR5OjAi\n",
    "Lz48L2xpbmVhckdyYWRpZW50PjxsaW5lYXJHcmFkaWVudCBpZD0iYSI+PHN0b3Agb2Zmc2V0PSIw\n",
    "IiBzdHlsZT0ic3RvcC1jb2xvcjojZmZkNDNiO3N0b3Atb3BhY2l0eToxIi8+PHN0b3Agb2Zmc2V0\n",
    "PSIxIiBzdHlsZT0ic3RvcC1jb2xvcjojZmZlODczO3N0b3Atb3BhY2l0eToxIi8+PC9saW5lYXJH\n",
    "cmFkaWVudD48bGluZWFyR3JhZGllbnQgaWQ9ImIiPjxzdG9wIG9mZnNldD0iMCIgc3R5bGU9InN0\n",
    "b3AtY29sb3I6IzVhOWZkNDtzdG9wLW9wYWNpdHk6MSIvPjxzdG9wIG9mZnNldD0iMSIgc3R5bGU9\n",
    "InN0b3AtY29sb3I6IzMwNjk5ODtzdG9wLW9wYWNpdHk6MSIvPjwvbGluZWFyR3JhZGllbnQ+PGxp\n",
    "bmVhckdyYWRpZW50IHhsaW5rOmhyZWY9IiNhIiBpZD0iZSIgeDE9IjE1MC45NjEiIHgyPSIxMTIu\n",
    "MDMxIiB5MT0iMTkyLjM1MiIgeTI9IjEzNy4yNzMiIGdyYWRpZW50VHJhbnNmb3JtPSJtYXRyaXgo\n",
    "LjU2MjU0IDAgMCAuNTY3OTcgLTE0Ljk5MSAtMTEuNzAyKSIgZ3JhZGllbnRVbml0cz0idXNlclNw\n",
    "YWNlT25Vc2UiLz48bGluZWFyR3JhZGllbnQgeGxpbms6aHJlZj0iI2IiIGlkPSJkIiB4MT0iMjYu\n",
    "NjQ5IiB4Mj0iMTM1LjY2NSIgeTE9IjIwLjYwNCIgeTI9IjExNC4zOTgiIGdyYWRpZW50VHJhbnNm\n",
    "b3JtPSJtYXRyaXgoLjU2MjU0IDAgMCAuNTY3OTcgLTE0Ljk5MSAtMTEuNzAyKSIgZ3JhZGllbnRV\n",
    "bml0cz0idXNlclNwYWNlT25Vc2UiLz48cmFkaWFsR3JhZGllbnQgeGxpbms6aHJlZj0iI2MiIGlk\n",
    "PSJmIiBjeD0iNjEuNTE5IiBjeT0iMTMyLjI4NiIgcj0iMjkuMDM3IiBmeD0iNjEuNTE5IiBmeT0i\n",
    "MTMyLjI4NiIgZ3JhZGllbnRUcmFuc2Zvcm09Im1hdHJpeCgwIC0uMjM5OTUgMS4wNTQ2NyAwIC04\n",
    "My43IDE0Mi40NjIpIiBncmFkaWVudFVuaXRzPSJ1c2VyU3BhY2VPblVzZSIvPjwvZGVmcz48cGF0\n",
    "aCBkPSJNNTQuOTE5IDBjLTQuNTg0LjAyMi04Ljk2MS40MTMtMTIuODEzIDEuMDk1QzMwLjc2IDMu\n",
    "MDk5IDI4LjcgNy4yOTUgMjguNyAxNS4wMzJ2MTAuMjE5aDI2LjgxM3YzLjQwNkgxOC42MzhjLTcu\n",
    "NzkzIDAtMTQuNjE2IDQuNjg0LTE2Ljc1IDEzLjU5NC0yLjQ2MiAxMC4yMTMtMi41NzEgMTYuNTg2\n",
    "IDAgMjcuMjUgMS45MDUgNy45MzggNi40NTcgMTMuNTk0IDE0LjI1IDEzLjU5NGg5LjIxOHYtMTIu\n",
    "MjVjMC04Ljg1IDcuNjU3LTE2LjY1NyAxNi43NS0xNi42NTdoMjYuNzgyYzcuNDU0IDAgMTMuNDA2\n",
    "LTYuMTM4IDEzLjQwNi0xMy42MjV2LTI1LjUzYzAtNy4yNjctNi4xMy0xMi43MjYtMTMuNDA2LTEz\n",
    "LjkzOEM2NC4yODIuMzI4IDU5LjUwMi0uMDIgNTQuOTE4IDBtLTE0LjUgOC4yMmMyLjc3IDAgNS4w\n",
    "MzEgMi4yOTggNS4wMzEgNS4xMjUgMCAyLjgxNi0yLjI2MiA1LjA5My01LjAzMSA1LjA5My0yLjc4\n",
    "IDAtNS4wMzEtMi4yNzctNS4wMzEtNS4wOTMgMC0yLjgyNyAyLjI1MS01LjEyNSA1LjAzLTUuMTI1\n",
    "IiBzdHlsZT0iZmlsbDp1cmwoI2QpO2ZpbGwtb3BhY2l0eToxIi8+PHBhdGggZD0iTTg1LjYzOCAy\n",
    "OC42NTd2MTEuOTA2YzAgOS4yMzEtNy44MjYgMTctMTYuNzUgMTdINDIuMTA2Yy03LjMzNiAwLTEz\n",
    "LjQwNiA2LjI3OS0xMy40MDYgMTMuNjI1Vjk2LjcyYzAgNy4yNjYgNi4zMTkgMTEuNTQgMTMuNDA2\n",
    "IDEzLjYyNSA4LjQ4OCAyLjQ5NSAxNi42MjcgMi45NDYgMjYuNzgyIDAgNi43NS0xLjk1NSAxMy40\n",
    "MDYtNS44ODggMTMuNDA2LTEzLjYyNVY4Ni41SDU1LjUxM3YtMy40MDVIOTUuN2M3Ljc5MyAwIDEw\n",
    "LjY5Ni01LjQzNiAxMy40MDYtMTMuNTk0IDIuOC04LjM5OSAyLjY4LTE2LjQ3NiAwLTI3LjI1LTEu\n",
    "OTI1LTcuNzU4LTUuNjA0LTEzLjU5NC0xMy40MDYtMTMuNTk0ek03MC41NzUgOTMuMzEzYzIuNzgg\n",
    "MCA1LjAzMSAyLjI3OCA1LjAzMSA1LjA5NCAwIDIuODI3LTIuMjUxIDUuMTI1LTUuMDMxIDUuMTI1\n",
    "LTIuNzcgMC01LjAzMS0yLjI5OC01LjAzMS01LjEyNSAwLTIuODE2IDIuMjYxLTUuMDk0IDUuMDMx\n",
    "LTUuMDk0IiBzdHlsZT0iZmlsbDp1cmwoI2UpO2ZpbGwtb3BhY2l0eToxIi8+PGVsbGlwc2UgY3g9\n",
    "IjU1LjgxNyIgY3k9IjEyNy43MDEiIHJ4PSIzNS45MzEiIHJ5PSI2Ljk2NyIgc3R5bGU9Im9wYWNp\n",
    "dHk6LjQ0MzgyO2ZpbGw6dXJsKCNmKTtmaWxsLW9wYWNpdHk6MTtmaWxsLXJ1bGU6bm9uemVybztz\n",
    "dHJva2U6bm9uZTtzdHJva2Utd2lkdGg6MTUuNDE3NDtzdHJva2UtbWl0ZXJsaW1pdDo0O3N0cm9r\n",
    "ZS1kYXNoYXJyYXk6bm9uZTtzdHJva2Utb3BhY2l0eToxIi8+PC9zdmc+\n",
    "\"\n",
    "     style=\"display:block;margin:auto;width:10%\" alt=\"Python Logo\"/>\n",
    "<br>\n",
    "\n",
    "<div style=\"text-align:center; font-size:200%;\">\n",
    " <b>GRASP: Abstrakte Patterns</b>\n",
    "</div>\n",
    "<br/>\n",
    "<div style=\"text-align:center;\">Dr. Matthias Hölzl</div>\n",
    "<br/>"
   ]
  },
  {
   "cell_type": "markdown",
   "id": "206dbd112f80d0e7",
   "metadata": {
    "slideshow": {
     "slide_type": "subslide"
    },
    "tags": [
     "subslide"
    ]
   },
   "source": [
    "\n",
    "<img src=\"img/grasp-patterns.svg\"\n",
    "     style=\"display:block;margin:auto;width:100%\"/>"
   ]
  },
  {
   "cell_type": "markdown",
   "id": "0c761836b528c3e3",
   "metadata": {
    "lang": "de",
    "lines_to_next_cell": 2,
    "slideshow": {
     "slide_type": "slide"
    },
    "tags": [
     "slide"
    ]
   },
   "source": [
    "\n",
    "# GRASP: Indirektion\n",
    "\n",
    "<div style=\"padding-top:20px;\">\n",
    "\"Jedes Problem in der Informatik kann gelöst werden, indem man eine weitere\n",
    "Indirektion hinzufügt.\"\n",
    "<div style=\"float:right;\">- David Wheeler</div>\n",
    "</div>\n",
    "\n",
    "<br>\n",
    "<div class=\"fragment\">\n",
    "<div style=\"padding-top:20px;\">\"Außer zu viele Indirektionen.\"</div>\n",
    "<div style=\"float:right;\">– N.N.</div>\n",
    "</div>"
   ]
  },
  {
   "cell_type": "markdown",
   "id": "f077631f504b3ccd",
   "metadata": {
    "lang": "de",
    "slideshow": {
     "slide_type": "subslide"
    },
    "tags": [
     "subslide"
    ]
   },
   "source": [
    "\n",
    "## Indirektion\n",
    "\n",
    "- Wie können wir die Kopplung zwischen zwei Objekten verringern?\n",
    "- Wir führen eine weitere Schicht ein, die die beiden Objekte entkoppelt"
   ]
  },
  {
   "cell_type": "markdown",
   "id": "c12bb2de00200a26",
   "metadata": {
    "lang": "de",
    "lines_to_next_cell": 2,
    "slideshow": {
     "slide_type": "subslide"
    },
    "tags": [
     "subslide"
    ]
   },
   "source": [
    "\n",
    "Sehr häufiges Muster auf jeder Schicht\n",
    "\n",
    "- Virtuelle Maschinen\n",
    "- Betriebssystem\n",
    "- Schnittstellen, polymorphe Methodenaufrufe\n",
    "- Pointer\n",
    "- Private Attribute mit Gettern/Settern"
   ]
  },
  {
   "cell_type": "markdown",
   "id": "60edbb3c17c8b00c",
   "metadata": {
    "lang": "de",
    "slideshow": {
     "slide_type": "subslide"
    },
    "tags": [
     "subslide"
    ]
   },
   "source": [
    "\n",
    "### Testen:\n",
    "\n",
    "- Indirektionen sind Nahtstellen, die für Testzwecke verwendet werden können"
   ]
  },
  {
   "cell_type": "markdown",
   "id": "9e250399ed5c2223",
   "metadata": {
    "lang": "de",
    "slideshow": {
     "slide_type": "slide"
    },
    "tags": [
     "slide"
    ]
   },
   "source": [
    "\n",
    "## Indirektion\n",
    "\n",
    "\"Jedes Problem in der Informatik kann gelöst werden, indem man eine weitere\n",
    "Indirektion hinzufügt. *Doch damit entsteht meist ein weiteres Problem.*\"\n",
    "\n",
    "<div style=\"float:right;\">- David Wheeler</div>"
   ]
  },
  {
   "cell_type": "markdown",
   "id": "34c6bbee3659aa60",
   "metadata": {
    "lang": "de",
    "slideshow": {
     "slide_type": "slide"
    },
    "tags": [
     "slide"
    ]
   },
   "source": [
    "\n",
    "# GRASP: Polymorphie\n",
    "\n",
    "- Polymorphe Operationen beschreiben ähnliche (aber nicht identische)\n",
    "  Verhaltensweisen, die sich je nach Typ eines Objekts ändern können\n",
    "- Normalerweise kein Wechsel zwischen den Verhaltensweisen während der Laufzeit"
   ]
  },
  {
   "cell_type": "markdown",
   "id": "e9fb9d917b4ad0ca",
   "metadata": {
    "lang": "de",
    "slideshow": {
     "slide_type": "subslide"
    },
    "tags": [
     "subslide"
    ]
   },
   "source": [
    "\n",
    "## In Python\n",
    "\n",
    "- **Vererbung**\n",
    "  - Subtyp-Beziehung wird explizit angegeben (Oberklassen)\n",
    "- **Protokolle**\n",
    "  - Subtyp-Beziehung wird nicht explizit angegeben (statisches Duck-Typing)\n",
    "- Higher-Order Funktionen\n",
    "  - Manchmal syntaktisch einfacher, weniger Code, Lambda-Funktionen\n",
    "  - Weniger flexibel als Vererbung, manchmal weniger klar\n",
    "- Duck-Typing\n",
    "  - Keine explizite Subtyp-Beziehung, nur das Verhalten zählt\n",
    "  - Keine statischen Typchecks"
   ]
  },
  {
   "cell_type": "markdown",
   "id": "464bb93e05c10647",
   "metadata": {
    "lang": "de",
    "slideshow": {
     "slide_type": "subslide"
    },
    "tags": [
     "subslide"
    ]
   },
   "source": [
    "\n",
    "- Verwandt: Regeln der Typenhierarchie\n",
    "  - Isa-Regel\n",
    "  - Nur Blätter sind konkret\n",
    "  - Erzwingen von Invarianten für Subtypen durch Supertyp\n",
    "- Siehe auch: LSP, Offen/Geschlossen-Prinzip"
   ]
  },
  {
   "cell_type": "markdown",
   "id": "65e1592b8013e782",
   "metadata": {
    "lang": "de",
    "slideshow": {
     "slide_type": "subslide"
    },
    "tags": [
     "subslide"
    ]
   },
   "source": [
    "\n",
    "<!-- Pure Fabrication -->\n",
    "\n",
    "Welchem Objekt geben wir die Verantwortung für eine Aufgabe, wenn z.B.\n",
    "Information Expert oder Creator zu Lösungen führen, die nicht gut sind, weil\n",
    "Sie niedrige Kohäsion oder hohe Kopplung haben?"
   ]
  },
  {
   "cell_type": "markdown",
   "id": "f2cf745ebd0a19db",
   "metadata": {
    "lang": "de",
    "slideshow": {
     "slide_type": "slide"
    },
    "tags": [
     "slide"
    ]
   },
   "source": [
    "\n",
    "# GRASP: Pure Fabrication\n",
    "\n",
    "- Eine Klasse, die nicht im Domänenmodell vorkommt\n",
    "- Typischerweise ein Gegengewicht zum Informationsexperten, der die Funktionalität\n",
    "  in einer einzigen Klasse konzentrieren will\n",
    "- Beispiel:\n",
    "  - Datenbankfunktionalität in Domänen-Klassen\n",
    "  - Konsistent mit Information Expert\n",
    "  - Aber: geringe Kohäsion, hohe Kopplung\n",
    "  - Einführung von Data Access Objects (eine Pure Fabrication)"
   ]
  },
  {
   "cell_type": "markdown",
   "id": "172653b8c44dd906",
   "metadata": {
    "lang": "de",
    "slideshow": {
     "slide_type": "subslide"
    },
    "tags": [
     "subslide"
    ]
   },
   "source": [
    "\n",
    "## Vorsicht vor übermäßiger Verwendung\n",
    "\n",
    "- Werden Pure Fabrications zu häufig verwendet, kann das zu einem Verlust der\n",
    "  niedrigen Repräsentationslücke führen\n",
    "- Oft wird dadurch auch die Kopplung des Systems vergrößert\n",
    "- Besonders Entwickler mit Background in prozeduralen Sprachen neigen dazu,\n",
    "  sehr viele \"Verhaltensobjekte\" einzuführen, bei denen die\n",
    "  Verantwortlichkeiten *nicht* mit den für ihre Erfüllung benötigten\n",
    "  Informationen zusammenfallen"
   ]
  },
  {
   "cell_type": "markdown",
   "id": "9ef76d9e760d9449",
   "metadata": {
    "lang": "de",
    "slideshow": {
     "slide_type": "subslide"
    },
    "tags": [
     "subslide"
    ]
   },
   "source": [
    "\n",
    "### Verwandte Prinzipien\n",
    "\n",
    "- Low Coupling, High Cohesion\n",
    "- Information Expert\n",
    "  - Pure Fabrication entfernt die vom Information Expert zugewiesen\n",
    "    Verantwortlichkeiten\n",
    "- Fast alle Design Patterns sind Pure Fabrications"
   ]
  },
  {
   "cell_type": "markdown",
   "id": "ef758b8ac573b662",
   "metadata": {
    "lang": "de",
    "slideshow": {
     "slide_type": "slide"
    },
    "tags": [
     "slide"
    ]
   },
   "source": [
    "\n",
    "<!-- Protected Variations -->\n",
    "- Programme haben Variations- oder Evolutionspunkte\n",
    "- Wie können wir diese so gestalten, dass sie keine unerwünschten Auswirkungen\n",
    "  auf andere Komponenten haben?"
   ]
  },
  {
   "cell_type": "markdown",
   "id": "758740c729b71616",
   "metadata": {
    "lang": "de",
    "slideshow": {
     "slide_type": "subslide"
    },
    "tags": [
     "subslide"
    ]
   },
   "source": [
    "\n",
    "## Protected Variation\n",
    "\n",
    "- Identifiziere die Punkte, an denen Variation oder Evolution auftreten kann\n",
    "- Führe einer stabilen Schnittstelle zum Schutz dieser Punkte ein\n",
    "- Diese Schnittstellen sind häufig Pure Fabrications\n",
    "- Oft führen diese Schnittstellen eine Indirektion ein"
   ]
  },
  {
   "cell_type": "markdown",
   "id": "41d6a48ebe7c2f57",
   "metadata": {
    "lang": "de",
    "lines_to_next_cell": 0,
    "slideshow": {
     "slide_type": "subslide"
    },
    "tags": [
     "subslide"
    ]
   },
   "source": [
    "\n",
    "## Protected Variations\n",
    "\n",
    "Sehr häufig angewandt:\n",
    "\n",
    "- Standards\n",
    "- Virtuelle Maschinen\n",
    "- Betriebssysteme\n",
    "- Schnittstellen, Polymorphe Methodenaufrufe\n",
    "- Private Attribute mit Gettern/Settern\n"
   ]
  },
  {
   "cell_type": "markdown",
   "id": "46dac16aca8e4a68",
   "metadata": {
    "lang": "de",
    "slideshow": {
     "slide_type": "subslide"
    },
    "tags": [
     "subslide"
    ]
   },
   "source": [
    "\n",
    "### Testen:\n",
    "- Geschützte Variationen sind oft Einstiegspunkte für Tests\n",
    "- Aber oft müssen zusätzliche Tests geschrieben werden, um sicherzustellen,\n",
    "  dass das System noch funktioniert, wenn die Variabilität tatsächlich\n",
    "  verwendet wird"
   ]
  },
  {
   "cell_type": "markdown",
   "id": "5a472890665f2bd6",
   "metadata": {
    "lang": "de",
    "slideshow": {
     "slide_type": "subslide"
    },
    "tags": [
     "subslide"
    ]
   },
   "source": [
    "\n",
    "- Protected Variation ist ein sehr allgemeines Prinzip\n",
    "- Viele anderen Software-Entwicklungsprinzipien und Patterns sind\n",
    "  spezielle Fälle von Protected Variation"
   ]
  },
  {
   "cell_type": "markdown",
   "id": "a2b5958a74b58958",
   "metadata": {
    "lang": "de",
    "slideshow": {
     "slide_type": "subslide"
    },
    "tags": [
     "subslide"
    ]
   },
   "source": [
    "\n",
    "## Vorsicht vor übermäßiger Verwendung\n",
    "\n",
    "- Protected Variation kann zwei verschiedene Arten von Änderung unterstützen:\n",
    "  - Variationspunkte: Varianten, die im existierenden System vorhanden sind\n",
    "  - Evolutionspunkte: Spekulative Abstraktionen, die die zukünftige\n",
    "    Entwicklung des Systems unterstützen sollen\n",
    "- Oft sind die Kosten von spekulativen Abstraktionen höher als die Kosten\n",
    "  sie später einzuführen"
   ]
  }
 ],
 "metadata": {
  "jupytext": {
   "cell_metadata_filter": "lang,tags,-all",
   "main_language": "python",
   "notebook_metadata_filter": "-all"
  },
  "kernelspec": {
   "display_name": "Python 3 (ipykernel)",
   "language": "python",
   "name": "python3"
  },
  "language_info": {
   "codemirror_mode": {
    "name": "ipython",
    "version": 3
   },
   "file_extension": ".py",
   "mimetype": "text/x-python",
   "name": "python",
   "nbconvert_exporter": "python",
   "pygments_lexer": "ipython3"
  }
 },
 "nbformat": 4,
 "nbformat_minor": 5
}
