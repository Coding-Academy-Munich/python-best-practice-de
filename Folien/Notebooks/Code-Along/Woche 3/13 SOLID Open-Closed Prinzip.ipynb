{
 "cells": [
  {
   "cell_type": "markdown",
   "id": "c508a513d47dfa3f",
   "metadata": {
    "lang": "de",
    "slideshow": {
     "slide_type": "slide"
    },
    "tags": [
     "slide"
    ]
   },
   "source": [
    "\n",
    "<img src=\"data:image/svg+xml;base64,PHN2ZyB4bWxucz0iaHR0cDovL3d3dy53My5vcmcvMjAwMC9zdmciIHhtbG5zOnhsaW5rPSJodHRw\n",
    "Oi8vd3d3LnczLm9yZy8xOTk5L3hsaW5rIiB3aWR0aD0iMTExLjE2MSIgaGVpZ2h0PSIxMzQuNjY4\n",
    "IiB2ZXJzaW9uPSIxLjAiPjxkZWZzPjxsaW5lYXJHcmFkaWVudCBpZD0iYyI+PHN0b3Agb2Zmc2V0\n",
    "PSIwIiBzdHlsZT0ic3RvcC1jb2xvcjojYjhiOGI4O3N0b3Atb3BhY2l0eTouNDk4MDM5MjIiLz48\n",
    "c3RvcCBvZmZzZXQ9IjEiIHN0eWxlPSJzdG9wLWNvbG9yOiM3ZjdmN2Y7c3RvcC1vcGFjaXR5OjAi\n",
    "Lz48L2xpbmVhckdyYWRpZW50PjxsaW5lYXJHcmFkaWVudCBpZD0iYSI+PHN0b3Agb2Zmc2V0PSIw\n",
    "IiBzdHlsZT0ic3RvcC1jb2xvcjojZmZkNDNiO3N0b3Atb3BhY2l0eToxIi8+PHN0b3Agb2Zmc2V0\n",
    "PSIxIiBzdHlsZT0ic3RvcC1jb2xvcjojZmZlODczO3N0b3Atb3BhY2l0eToxIi8+PC9saW5lYXJH\n",
    "cmFkaWVudD48bGluZWFyR3JhZGllbnQgaWQ9ImIiPjxzdG9wIG9mZnNldD0iMCIgc3R5bGU9InN0\n",
    "b3AtY29sb3I6IzVhOWZkNDtzdG9wLW9wYWNpdHk6MSIvPjxzdG9wIG9mZnNldD0iMSIgc3R5bGU9\n",
    "InN0b3AtY29sb3I6IzMwNjk5ODtzdG9wLW9wYWNpdHk6MSIvPjwvbGluZWFyR3JhZGllbnQ+PGxp\n",
    "bmVhckdyYWRpZW50IHhsaW5rOmhyZWY9IiNhIiBpZD0iZSIgeDE9IjE1MC45NjEiIHgyPSIxMTIu\n",
    "MDMxIiB5MT0iMTkyLjM1MiIgeTI9IjEzNy4yNzMiIGdyYWRpZW50VHJhbnNmb3JtPSJtYXRyaXgo\n",
    "LjU2MjU0IDAgMCAuNTY3OTcgLTE0Ljk5MSAtMTEuNzAyKSIgZ3JhZGllbnRVbml0cz0idXNlclNw\n",
    "YWNlT25Vc2UiLz48bGluZWFyR3JhZGllbnQgeGxpbms6aHJlZj0iI2IiIGlkPSJkIiB4MT0iMjYu\n",
    "NjQ5IiB4Mj0iMTM1LjY2NSIgeTE9IjIwLjYwNCIgeTI9IjExNC4zOTgiIGdyYWRpZW50VHJhbnNm\n",
    "b3JtPSJtYXRyaXgoLjU2MjU0IDAgMCAuNTY3OTcgLTE0Ljk5MSAtMTEuNzAyKSIgZ3JhZGllbnRV\n",
    "bml0cz0idXNlclNwYWNlT25Vc2UiLz48cmFkaWFsR3JhZGllbnQgeGxpbms6aHJlZj0iI2MiIGlk\n",
    "PSJmIiBjeD0iNjEuNTE5IiBjeT0iMTMyLjI4NiIgcj0iMjkuMDM3IiBmeD0iNjEuNTE5IiBmeT0i\n",
    "MTMyLjI4NiIgZ3JhZGllbnRUcmFuc2Zvcm09Im1hdHJpeCgwIC0uMjM5OTUgMS4wNTQ2NyAwIC04\n",
    "My43IDE0Mi40NjIpIiBncmFkaWVudFVuaXRzPSJ1c2VyU3BhY2VPblVzZSIvPjwvZGVmcz48cGF0\n",
    "aCBkPSJNNTQuOTE5IDBjLTQuNTg0LjAyMi04Ljk2MS40MTMtMTIuODEzIDEuMDk1QzMwLjc2IDMu\n",
    "MDk5IDI4LjcgNy4yOTUgMjguNyAxNS4wMzJ2MTAuMjE5aDI2LjgxM3YzLjQwNkgxOC42MzhjLTcu\n",
    "NzkzIDAtMTQuNjE2IDQuNjg0LTE2Ljc1IDEzLjU5NC0yLjQ2MiAxMC4yMTMtMi41NzEgMTYuNTg2\n",
    "IDAgMjcuMjUgMS45MDUgNy45MzggNi40NTcgMTMuNTk0IDE0LjI1IDEzLjU5NGg5LjIxOHYtMTIu\n",
    "MjVjMC04Ljg1IDcuNjU3LTE2LjY1NyAxNi43NS0xNi42NTdoMjYuNzgyYzcuNDU0IDAgMTMuNDA2\n",
    "LTYuMTM4IDEzLjQwNi0xMy42MjV2LTI1LjUzYzAtNy4yNjctNi4xMy0xMi43MjYtMTMuNDA2LTEz\n",
    "LjkzOEM2NC4yODIuMzI4IDU5LjUwMi0uMDIgNTQuOTE4IDBtLTE0LjUgOC4yMmMyLjc3IDAgNS4w\n",
    "MzEgMi4yOTggNS4wMzEgNS4xMjUgMCAyLjgxNi0yLjI2MiA1LjA5My01LjAzMSA1LjA5My0yLjc4\n",
    "IDAtNS4wMzEtMi4yNzctNS4wMzEtNS4wOTMgMC0yLjgyNyAyLjI1MS01LjEyNSA1LjAzLTUuMTI1\n",
    "IiBzdHlsZT0iZmlsbDp1cmwoI2QpO2ZpbGwtb3BhY2l0eToxIi8+PHBhdGggZD0iTTg1LjYzOCAy\n",
    "OC42NTd2MTEuOTA2YzAgOS4yMzEtNy44MjYgMTctMTYuNzUgMTdINDIuMTA2Yy03LjMzNiAwLTEz\n",
    "LjQwNiA2LjI3OS0xMy40MDYgMTMuNjI1Vjk2LjcyYzAgNy4yNjYgNi4zMTkgMTEuNTQgMTMuNDA2\n",
    "IDEzLjYyNSA4LjQ4OCAyLjQ5NSAxNi42MjcgMi45NDYgMjYuNzgyIDAgNi43NS0xLjk1NSAxMy40\n",
    "MDYtNS44ODggMTMuNDA2LTEzLjYyNVY4Ni41SDU1LjUxM3YtMy40MDVIOTUuN2M3Ljc5MyAwIDEw\n",
    "LjY5Ni01LjQzNiAxMy40MDYtMTMuNTk0IDIuOC04LjM5OSAyLjY4LTE2LjQ3NiAwLTI3LjI1LTEu\n",
    "OTI1LTcuNzU4LTUuNjA0LTEzLjU5NC0xMy40MDYtMTMuNTk0ek03MC41NzUgOTMuMzEzYzIuNzgg\n",
    "MCA1LjAzMSAyLjI3OCA1LjAzMSA1LjA5NCAwIDIuODI3LTIuMjUxIDUuMTI1LTUuMDMxIDUuMTI1\n",
    "LTIuNzcgMC01LjAzMS0yLjI5OC01LjAzMS01LjEyNSAwLTIuODE2IDIuMjYxLTUuMDk0IDUuMDMx\n",
    "LTUuMDk0IiBzdHlsZT0iZmlsbDp1cmwoI2UpO2ZpbGwtb3BhY2l0eToxIi8+PGVsbGlwc2UgY3g9\n",
    "IjU1LjgxNyIgY3k9IjEyNy43MDEiIHJ4PSIzNS45MzEiIHJ5PSI2Ljk2NyIgc3R5bGU9Im9wYWNp\n",
    "dHk6LjQ0MzgyO2ZpbGw6dXJsKCNmKTtmaWxsLW9wYWNpdHk6MTtmaWxsLXJ1bGU6bm9uemVybztz\n",
    "dHJva2U6bm9uZTtzdHJva2Utd2lkdGg6MTUuNDE3NDtzdHJva2UtbWl0ZXJsaW1pdDo0O3N0cm9r\n",
    "ZS1kYXNoYXJyYXk6bm9uZTtzdHJva2Utb3BhY2l0eToxIi8+PC9zdmc+\n",
    "\"\n",
    "     style=\"display:block;margin:auto;width:10%\" alt=\"Python Logo\"/>\n",
    "<br>\n",
    "\n",
    "<div style=\"text-align:center; font-size:200%;\">\n",
    " <b>SOLID: Open-Closed Prinzip</b>\n",
    "</div>\n",
    "<br/>\n",
    "<div style=\"text-align:center;\">Dr. Matthias Hölzl</div>\n",
    "<br/>"
   ]
  },
  {
   "cell_type": "markdown",
   "id": "b1dfbb90eb80bd50",
   "metadata": {
    "lang": "de",
    "slideshow": {
     "slide_type": "slide"
    },
    "tags": [
     "slide"
    ]
   },
   "source": [
    "\n",
    "# Open-Closed Prinzip (SOLID)\n",
    "\n",
    "Klassen sollen\n",
    "\n",
    "- offen für Erweiterung\n",
    "- geschlossen für Modifikation\n",
    "\n",
    "sein."
   ]
  },
  {
   "cell_type": "code",
   "execution_count": null,
   "id": "5b91f1593f2ae1a3",
   "metadata": {
    "slideshow": {
     "slide_type": "subslide"
    },
    "tags": [
     "keep",
     "subslide"
    ]
   },
   "outputs": [],
   "source": [
    "from enum import Enum"
   ]
  },
  {
   "cell_type": "code",
   "execution_count": null,
   "id": "e06827f80264eac4",
   "metadata": {
    "lines_to_next_cell": 2,
    "tags": [
     "keep"
    ]
   },
   "outputs": [],
   "source": [
    "class MovieKindV0(Enum):\n",
    "    REGULAR = 1\n",
    "    CHILDREN = 2"
   ]
  },
  {
   "cell_type": "code",
   "execution_count": null,
   "id": "4e8821f29bb006f3",
   "metadata": {
    "lines_to_next_cell": 2,
    "slideshow": {
     "slide_type": "subslide"
    },
    "tags": [
     "keep",
     "subslide"
    ]
   },
   "outputs": [],
   "source": [
    "class MovieV0:\n",
    "    def __init__(self, title: str, kind=MovieKindV0.REGULAR):\n",
    "        self.title = title\n",
    "        self.kind = kind\n",
    "\n",
    "    def compute_price(self) -> float:\n",
    "        match self.kind:\n",
    "            case MovieKindV0.REGULAR:\n",
    "                return 4.99\n",
    "            case MovieKindV0.CHILDREN:\n",
    "                return 5.99\n",
    "            case _:\n",
    "                return 0.0\n",
    "\n",
    "    def print_info(self):\n",
    "        print(f\"{self.title} costs {self.compute_price()}\")"
   ]
  },
  {
   "cell_type": "code",
   "execution_count": null,
   "id": "7c4b4d9e8b556f5d",
   "metadata": {
    "lines_to_next_cell": 2,
    "slideshow": {
     "slide_type": "subslide"
    },
    "tags": [
     "keep",
     "subslide"
    ]
   },
   "outputs": [],
   "source": [
    "m1 = MovieV0(\"Casablanca\")\n",
    "m2 = MovieV0(\"Shrek\", MovieKindV0.CHILDREN)"
   ]
  },
  {
   "cell_type": "code",
   "execution_count": null,
   "id": "6b425c7d72c4e96d",
   "metadata": {
    "tags": [
     "keep"
    ]
   },
   "outputs": [],
   "source": [
    "m1.print_info()\n",
    "m2.print_info()"
   ]
  },
  {
   "cell_type": "markdown",
   "id": "7012a447331bf2b6",
   "metadata": {
    "lang": "de",
    "slideshow": {
     "slide_type": "subslide"
    },
    "tags": [
     "subslide"
    ]
   },
   "source": [
    "\n",
    "<img src=\"img/movie_v0.svg\" alt=\"MovieV0\"\n",
    "     style=\"display:block;margin:auto;width:50%\"/>"
   ]
  },
  {
   "cell_type": "markdown",
   "id": "77316076626eaade",
   "metadata": {
    "lang": "de",
    "slideshow": {
     "slide_type": "subslide"
    },
    "tags": [
     "subslide"
    ]
   },
   "source": [
    "\n",
    "Was passiert, wenn wir eine neue Filmart hinzufügen wollen?"
   ]
  },
  {
   "cell_type": "code",
   "execution_count": null,
   "id": "5f606e9f84baaf0d",
   "metadata": {
    "tags": [
     "keep"
    ]
   },
   "outputs": [],
   "source": [
    "from enum import Enum"
   ]
  },
  {
   "cell_type": "code",
   "execution_count": null,
   "id": "88402071e8c1161d",
   "metadata": {
    "tags": [
     "start"
    ]
   },
   "outputs": [],
   "source": [
    "class MovieKind(Enum):\n",
    "    REGULAR = 1\n",
    "    CHILDREN = 2"
   ]
  },
  {
   "cell_type": "code",
   "execution_count": null,
   "id": "4e703965fc4163f5",
   "metadata": {
    "slideshow": {
     "slide_type": "subslide"
    },
    "tags": [
     "start",
     "subslide"
    ]
   },
   "outputs": [],
   "source": [
    "class MovieV1:\n",
    "    def __init__(self, title: str, kind=MovieKind.REGULAR):\n",
    "        self.title = title\n",
    "        self.kind = kind\n",
    "\n",
    "    def compute_price(self) -> float:\n",
    "        match self.kind:\n",
    "            case MovieKindV0.REGULAR:\n",
    "                return 4.99\n",
    "            case MovieKindV0.CHILDREN:\n",
    "                return 5.99\n",
    "            case _:\n",
    "                return 0.0\n",
    "\n",
    "    def print_info(self) -> None:\n",
    "        print(f\"{self.title} costs {self.compute_price()}\")"
   ]
  },
  {
   "cell_type": "code",
   "execution_count": null,
   "id": "939609d086e4e62c",
   "metadata": {
    "slideshow": {
     "slide_type": "subslide"
    },
    "tags": [
     "keep",
     "subslide"
    ]
   },
   "outputs": [],
   "source": [
    "m1 = MovieV1(\"Casablanca\")\n",
    "m2 = MovieV1(\"Shrek\", MovieKind.CHILDREN)\n",
    "m3 = MovieV1(\"Brand New\", MovieKind.NEW_RELEASE)"
   ]
  },
  {
   "cell_type": "code",
   "execution_count": null,
   "id": "2a2455b905e8bc21",
   "metadata": {
    "tags": [
     "keep"
    ]
   },
   "outputs": [],
   "source": [
    "m1.print_info()\n",
    "m2.print_info()\n",
    "m3.print_info()"
   ]
  },
  {
   "cell_type": "markdown",
   "id": "8036a684ce529089",
   "metadata": {
    "lang": "de",
    "slideshow": {
     "slide_type": "subslide"
    },
    "tags": [
     "subslide"
    ]
   },
   "source": [
    "\n",
    "<img src=\"img/movie_v1.svg\" alt=\"MovieV1\"\n",
    "     style=\"display:block;margin:auto;width:50%\"/>"
   ]
  },
  {
   "cell_type": "markdown",
   "id": "06046b71a83f882d",
   "metadata": {
    "lang": "de",
    "slideshow": {
     "slide_type": "subslide"
    },
    "tags": [
     "subslide"
    ]
   },
   "source": [
    "\n",
    "## OCP-Verletzung\n",
    "\n",
    "- Neue Filmarten erfordern Änderungen an `MovieV1`\n",
    "- `MovieV1` ist nicht geschlossen für Modifikation"
   ]
  },
  {
   "cell_type": "markdown",
   "id": "a4dda57c88ce329b",
   "metadata": {
    "lang": "de",
    "slideshow": {
     "slide_type": "subslide"
    },
    "tags": [
     "subslide"
    ]
   },
   "source": [
    "\n",
    "## Auflösung (Versuch 1: Vererbung)\n",
    "\n",
    "- Neue Filmarten werden als neue Klassen implementiert\n",
    "- `MovieV2` wird abstrakt\n",
    "- `MovieV2` ist geschlossen für Modifikation"
   ]
  },
  {
   "cell_type": "code",
   "execution_count": null,
   "id": "358d3acdd9f86a51",
   "metadata": {
    "slideshow": {
     "slide_type": "subslide"
    },
    "tags": [
     "subslide",
     "keep"
    ]
   },
   "outputs": [],
   "source": [
    "from abc import ABC, abstractmethod"
   ]
  },
  {
   "cell_type": "code",
   "execution_count": null,
   "id": "ca6a382c3060bb7c",
   "metadata": {
    "lines_to_next_cell": 2,
    "tags": [
     "keep"
    ]
   },
   "outputs": [],
   "source": [
    "class MovieV2(ABC):\n",
    "    def __init__(self, title: str):\n",
    "        self.title = title\n",
    "\n",
    "    @abstractmethod\n",
    "    def compute_price(self) -> float: ...\n",
    "\n",
    "    def print_info(self) -> None:\n",
    "        print(f\"{self.title} costs {self.compute_price()}\")"
   ]
  },
  {
   "cell_type": "code",
   "execution_count": null,
   "id": "b7d29dd65cf8b262",
   "metadata": {
    "lines_to_next_cell": 2,
    "slideshow": {
     "slide_type": "subslide"
    },
    "tags": [
     "subslide",
     "keep"
    ]
   },
   "outputs": [],
   "source": [
    "class RegularMovie(MovieV2):\n",
    "    def compute_price(self) -> float:\n",
    "        return 4.99"
   ]
  },
  {
   "cell_type": "code",
   "execution_count": null,
   "id": "fdcad4b392ecaae4",
   "metadata": {
    "lines_to_next_cell": 2,
    "tags": [
     "keep"
    ]
   },
   "outputs": [],
   "source": [
    "class ChildrenMovie(MovieV2):\n",
    "    def compute_price(self) -> float:\n",
    "        return 5.99"
   ]
  },
  {
   "cell_type": "code",
   "execution_count": null,
   "id": "9f7222cd7e0fc994",
   "metadata": {
    "lines_to_next_cell": 2,
    "tags": [
     "keep"
    ]
   },
   "outputs": [],
   "source": [
    "class NewReleaseMovie(MovieV2):\n",
    "    def compute_price(self) -> float:\n",
    "        return 6.99"
   ]
  },
  {
   "cell_type": "code",
   "execution_count": null,
   "id": "bb1e52d835f2170d",
   "metadata": {
    "slideshow": {
     "slide_type": "subslide"
    },
    "tags": [
     "subslide"
    ]
   },
   "outputs": [],
   "source": []
  },
  {
   "cell_type": "code",
   "execution_count": null,
   "id": "efb5f0767bcc2b1d",
   "metadata": {},
   "outputs": [],
   "source": []
  },
  {
   "cell_type": "code",
   "execution_count": null,
   "id": "f4a41ae3ef384bda",
   "metadata": {
    "lines_to_next_cell": 2
   },
   "outputs": [],
   "source": []
  },
  {
   "cell_type": "markdown",
   "id": "bc5890a630297156",
   "metadata": {
    "lang": "de",
    "lines_to_next_cell": 2,
    "slideshow": {
     "slide_type": "subslide"
    },
    "tags": [
     "subslide"
    ]
   },
   "source": [
    "\n",
    "<img src=\"img/movie_v2.svg\" alt=\"MovieV0\"\n",
    "     style=\"display:block;margin:auto;width:100%\"/>"
   ]
  },
  {
   "cell_type": "markdown",
   "id": "4ef4a80f6515a20b",
   "metadata": {
    "lang": "de",
    "slideshow": {
     "slide_type": "subslide"
    },
    "tags": [
     "subslide"
    ]
   },
   "source": [
    "\n",
    "- `MovieV2` ist offen für Erweiterung\n",
    "- Neue Filmarten können hinzugefügt werden, ohne die bestehenden Klassen zu\n",
    "  ändern\n",
    "- Aber: Die Vererbungshierarchie umfasst die ganze Klasse\n",
    "  - Nur eine Art von Variabilität\n",
    "- Was ist, wenn wir für andere Zwecke eine andere Klassifikation brauchen?\n",
    "  - Z.B. DVD, BluRay, Online?\n",
    "- Mehrfachvererbung?\n",
    "- Produkt von Klassen?\n",
    "  - `ChildrenDVD`, `ChildrenBluRay`, `ChildrenOnline`, ..."
   ]
  },
  {
   "cell_type": "markdown",
   "id": "8d0dcafbc7b47890",
   "metadata": {
    "lang": "de",
    "lines_to_next_cell": 2,
    "slideshow": {
     "slide_type": "subslide"
    },
    "tags": [
     "subslide"
    ]
   },
   "source": [
    "\n",
    "## Bessere Auflösung: Strategy Pattern\n",
    "\n",
    "- Das Strategy-Pattern erlaubt es uns, die Vererbung auf kleinere Teile der\n",
    "  Klasse anzuwenden\n",
    "- In fast allen Fällen ist das die bessere Lösung!\n",
    "- Vererbung ist ein sehr mächtiges Werkzeug\n",
    "- Aber je kleiner und lokaler wir unsere Vererbungshierarchien halten, desto\n",
    "  besser"
   ]
  },
  {
   "cell_type": "markdown",
   "id": "d3473394a584e300",
   "metadata": {
    "lang": "de",
    "slideshow": {
     "slide_type": "subslide"
    },
    "tags": [
     "subslide"
    ]
   },
   "source": [
    "\n",
    "## Workshop: Zoo-Management-System\n",
    "\n",
    "In diesem Workshop werden wir mit einem hypothetischen Szenario arbeiten, das\n",
    "ein Zoo-Management-System für die Fütterungspläne der Tiere betrifft. Die\n",
    "Herausforderung? Das vorhandene System verstößt gegen das OCP, und es liegt\n",
    "an uns, das zu korrigieren."
   ]
  },
  {
   "cell_type": "markdown",
   "id": "72ad091295f1949b",
   "metadata": {
    "lang": "de",
    "slideshow": {
     "slide_type": "subslide"
    },
    "tags": [
     "subslide"
    ]
   },
   "source": [
    "\n",
    "### Szenario\n",
    "\n",
    "Stellen Sie sich einen Zoo vor. Dieser Zoo hat eine Vielzahl von Tieren:\n",
    "Säugetiere, Vögel, Reptilien und Wasserlebewesen. Jede Art von Tier hat ihren\n",
    "eigenen einzigartigen Fütterungsplan und ihre eigenen Ernährungsbedürfnisse.\n",
    "\n",
    "Nun muss das digitale System des Zoos diese Fütterungspläne verfolgen. Das\n",
    "Problem mit dem aktuellen System ist seine Verwendung einer Enumeration, um\n",
    "den Tier-Typ und basierend darauf seinen Fütterungsplan zu bestimmen. Dieser\n",
    "Ansatz ist nicht skalierbar und verstößt gegen das OCP. Was passiert, wenn der\n",
    "Zoo eine neue Tierart erwirbt? Oder was ist, wenn sich der Fütterungsplan für\n",
    "Reptilien ändert? Die aktuelle Code-Struktur erfordert Änderungen an mehreren\n",
    "Stellen."
   ]
  },
  {
   "cell_type": "code",
   "execution_count": null,
   "id": "072056a394d95262",
   "metadata": {
    "slideshow": {
     "slide_type": "subslide"
    },
    "tags": [
     "keep",
     "subslide"
    ]
   },
   "outputs": [],
   "source": [
    "from enum import Enum, auto"
   ]
  },
  {
   "cell_type": "code",
   "execution_count": null,
   "id": "76002e52e5ad8df3",
   "metadata": {
    "tags": [
     "keep"
    ]
   },
   "outputs": [],
   "source": [
    "class AnimalType(Enum):\n",
    "    Mammal = auto()\n",
    "    Bird = auto()\n",
    "    Reptile = auto()\n",
    "    Aquatic = auto()"
   ]
  },
  {
   "cell_type": "code",
   "execution_count": null,
   "id": "c6b39b41c61451c5",
   "metadata": {
    "slideshow": {
     "slide_type": "subslide"
    },
    "tags": [
     "keep",
     "subslide"
    ]
   },
   "outputs": [],
   "source": [
    "class AnimalV0:\n",
    "    def __init__(self, animal_type):\n",
    "        self._type = animal_type\n",
    "\n",
    "    @property\n",
    "    def feeding_schedule(self) -> str:\n",
    "        if self._type == AnimalType.Mammal:\n",
    "            return \"Feed at 9am and 5pm.\"\n",
    "        elif self._type == AnimalType.Bird:\n",
    "            return \"Feed at 8am and 4pm.\"\n",
    "        elif self._type == AnimalType.Reptile:\n",
    "            return \"Feed at 12pm.\"\n",
    "        elif self._type == AnimalType.Aquatic:\n",
    "            return \"Feed at 11am and 6pm.\"\n",
    "        else:\n",
    "            return f\"No feeding schedule for {self._type}!\"\n",
    "\n",
    "    @property\n",
    "    def diet(self) -> str:\n",
    "        if self._type == AnimalType.Mammal:\n",
    "            return \"Diet: Grass and fruits.\"\n",
    "        elif self._type == AnimalType.Bird:\n",
    "            return \"Diet: Seeds and insects.\"\n",
    "        elif self._type == AnimalType.Reptile:\n",
    "            return \"Diet: Insects.\"\n",
    "        elif self._type == AnimalType.Aquatic:\n",
    "            return \"Diet: Algae and small fish.\"\n",
    "        else:\n",
    "            return f\"No diet for {self._type}!\""
   ]
  },
  {
   "cell_type": "code",
   "execution_count": null,
   "id": "8a1965630ed599c0",
   "metadata": {
    "slideshow": {
     "slide_type": "subslide"
    },
    "tags": [
     "keep",
     "subslide"
    ]
   },
   "outputs": [],
   "source": [
    "animals_original = [\n",
    "    AnimalV0(AnimalType.Mammal),\n",
    "    AnimalV0(AnimalType.Bird),\n",
    "    AnimalV0(AnimalType.Reptile),\n",
    "]"
   ]
  },
  {
   "cell_type": "code",
   "execution_count": null,
   "id": "a8656ca546543dc3",
   "metadata": {
    "tags": [
     "keep"
    ]
   },
   "outputs": [],
   "source": [
    "def display_feeding_info(animals):\n",
    "    for animal in animals:\n",
    "        print(f\"{animal.feeding_schedule} {animal.diet}\")"
   ]
  },
  {
   "cell_type": "code",
   "execution_count": null,
   "id": "b49d5e5e59fcb5b1",
   "metadata": {
    "tags": [
     "keep"
    ]
   },
   "outputs": [],
   "source": [
    "display_feeding_info(animals_original)"
   ]
  },
  {
   "cell_type": "markdown",
   "id": "5eb5ac7aa452ac1e",
   "metadata": {
    "lang": "de",
    "slideshow": {
     "slide_type": "subslide"
    },
    "tags": [
     "subslide"
    ]
   },
   "source": [
    "\n",
    "- Beseitigen Sie das Problem mit der OCP-Verletzung im vorhandenen Code\n",
    "- Sie können entweder den vorhandenen Code ändern oder eine neue Lösung von\n",
    "  Grund auf erstellen"
   ]
  }
 ],
 "metadata": {
  "jupytext": {
   "cell_metadata_filter": "lang,tags,-all",
   "main_language": "python",
   "notebook_metadata_filter": "-all"
  },
  "kernelspec": {
   "display_name": "Python 3 (ipykernel)",
   "language": "python",
   "name": "python3"
  },
  "language_info": {
   "codemirror_mode": {
    "name": "ipython",
    "version": 3
   },
   "file_extension": ".py",
   "mimetype": "text/x-python",
   "name": "python",
   "nbconvert_exporter": "python",
   "pygments_lexer": "ipython3"
  }
 },
 "nbformat": 4,
 "nbformat_minor": 5
}
