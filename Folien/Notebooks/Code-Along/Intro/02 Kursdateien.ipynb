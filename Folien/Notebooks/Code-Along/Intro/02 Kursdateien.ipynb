{
 "cells": [
  {
   "cell_type": "markdown",
   "id": "1c2816cdd9d1f612",
   "metadata": {
    "lang": "de",
    "slideshow": {
     "slide_type": "slide"
    },
    "tags": [
     "slide"
    ]
   },
   "source": [
    "\n",
    "<img src=\"data:image/svg+xml;base64,PHN2ZyB4bWxucz0iaHR0cDovL3d3dy53My5vcmcvMjAwMC9zdmciIHhtbG5zOnhsaW5rPSJodHRw\n",
    "Oi8vd3d3LnczLm9yZy8xOTk5L3hsaW5rIiB3aWR0aD0iMTExLjE2MSIgaGVpZ2h0PSIxMzQuNjY4\n",
    "IiB2ZXJzaW9uPSIxLjAiPjxkZWZzPjxsaW5lYXJHcmFkaWVudCBpZD0iYyI+PHN0b3Agb2Zmc2V0\n",
    "PSIwIiBzdHlsZT0ic3RvcC1jb2xvcjojYjhiOGI4O3N0b3Atb3BhY2l0eTouNDk4MDM5MjIiLz48\n",
    "c3RvcCBvZmZzZXQ9IjEiIHN0eWxlPSJzdG9wLWNvbG9yOiM3ZjdmN2Y7c3RvcC1vcGFjaXR5OjAi\n",
    "Lz48L2xpbmVhckdyYWRpZW50PjxsaW5lYXJHcmFkaWVudCBpZD0iYSI+PHN0b3Agb2Zmc2V0PSIw\n",
    "IiBzdHlsZT0ic3RvcC1jb2xvcjojZmZkNDNiO3N0b3Atb3BhY2l0eToxIi8+PHN0b3Agb2Zmc2V0\n",
    "PSIxIiBzdHlsZT0ic3RvcC1jb2xvcjojZmZlODczO3N0b3Atb3BhY2l0eToxIi8+PC9saW5lYXJH\n",
    "cmFkaWVudD48bGluZWFyR3JhZGllbnQgaWQ9ImIiPjxzdG9wIG9mZnNldD0iMCIgc3R5bGU9InN0\n",
    "b3AtY29sb3I6IzVhOWZkNDtzdG9wLW9wYWNpdHk6MSIvPjxzdG9wIG9mZnNldD0iMSIgc3R5bGU9\n",
    "InN0b3AtY29sb3I6IzMwNjk5ODtzdG9wLW9wYWNpdHk6MSIvPjwvbGluZWFyR3JhZGllbnQ+PGxp\n",
    "bmVhckdyYWRpZW50IHhsaW5rOmhyZWY9IiNhIiBpZD0iZSIgeDE9IjE1MC45NjEiIHgyPSIxMTIu\n",
    "MDMxIiB5MT0iMTkyLjM1MiIgeTI9IjEzNy4yNzMiIGdyYWRpZW50VHJhbnNmb3JtPSJtYXRyaXgo\n",
    "LjU2MjU0IDAgMCAuNTY3OTcgLTE0Ljk5MSAtMTEuNzAyKSIgZ3JhZGllbnRVbml0cz0idXNlclNw\n",
    "YWNlT25Vc2UiLz48bGluZWFyR3JhZGllbnQgeGxpbms6aHJlZj0iI2IiIGlkPSJkIiB4MT0iMjYu\n",
    "NjQ5IiB4Mj0iMTM1LjY2NSIgeTE9IjIwLjYwNCIgeTI9IjExNC4zOTgiIGdyYWRpZW50VHJhbnNm\n",
    "b3JtPSJtYXRyaXgoLjU2MjU0IDAgMCAuNTY3OTcgLTE0Ljk5MSAtMTEuNzAyKSIgZ3JhZGllbnRV\n",
    "bml0cz0idXNlclNwYWNlT25Vc2UiLz48cmFkaWFsR3JhZGllbnQgeGxpbms6aHJlZj0iI2MiIGlk\n",
    "PSJmIiBjeD0iNjEuNTE5IiBjeT0iMTMyLjI4NiIgcj0iMjkuMDM3IiBmeD0iNjEuNTE5IiBmeT0i\n",
    "MTMyLjI4NiIgZ3JhZGllbnRUcmFuc2Zvcm09Im1hdHJpeCgwIC0uMjM5OTUgMS4wNTQ2NyAwIC04\n",
    "My43IDE0Mi40NjIpIiBncmFkaWVudFVuaXRzPSJ1c2VyU3BhY2VPblVzZSIvPjwvZGVmcz48cGF0\n",
    "aCBkPSJNNTQuOTE5IDBjLTQuNTg0LjAyMi04Ljk2MS40MTMtMTIuODEzIDEuMDk1QzMwLjc2IDMu\n",
    "MDk5IDI4LjcgNy4yOTUgMjguNyAxNS4wMzJ2MTAuMjE5aDI2LjgxM3YzLjQwNkgxOC42MzhjLTcu\n",
    "NzkzIDAtMTQuNjE2IDQuNjg0LTE2Ljc1IDEzLjU5NC0yLjQ2MiAxMC4yMTMtMi41NzEgMTYuNTg2\n",
    "IDAgMjcuMjUgMS45MDUgNy45MzggNi40NTcgMTMuNTk0IDE0LjI1IDEzLjU5NGg5LjIxOHYtMTIu\n",
    "MjVjMC04Ljg1IDcuNjU3LTE2LjY1NyAxNi43NS0xNi42NTdoMjYuNzgyYzcuNDU0IDAgMTMuNDA2\n",
    "LTYuMTM4IDEzLjQwNi0xMy42MjV2LTI1LjUzYzAtNy4yNjctNi4xMy0xMi43MjYtMTMuNDA2LTEz\n",
    "LjkzOEM2NC4yODIuMzI4IDU5LjUwMi0uMDIgNTQuOTE4IDBtLTE0LjUgOC4yMmMyLjc3IDAgNS4w\n",
    "MzEgMi4yOTggNS4wMzEgNS4xMjUgMCAyLjgxNi0yLjI2MiA1LjA5My01LjAzMSA1LjA5My0yLjc4\n",
    "IDAtNS4wMzEtMi4yNzctNS4wMzEtNS4wOTMgMC0yLjgyNyAyLjI1MS01LjEyNSA1LjAzLTUuMTI1\n",
    "IiBzdHlsZT0iZmlsbDp1cmwoI2QpO2ZpbGwtb3BhY2l0eToxIi8+PHBhdGggZD0iTTg1LjYzOCAy\n",
    "OC42NTd2MTEuOTA2YzAgOS4yMzEtNy44MjYgMTctMTYuNzUgMTdINDIuMTA2Yy03LjMzNiAwLTEz\n",
    "LjQwNiA2LjI3OS0xMy40MDYgMTMuNjI1Vjk2LjcyYzAgNy4yNjYgNi4zMTkgMTEuNTQgMTMuNDA2\n",
    "IDEzLjYyNSA4LjQ4OCAyLjQ5NSAxNi42MjcgMi45NDYgMjYuNzgyIDAgNi43NS0xLjk1NSAxMy40\n",
    "MDYtNS44ODggMTMuNDA2LTEzLjYyNVY4Ni41SDU1LjUxM3YtMy40MDVIOTUuN2M3Ljc5MyAwIDEw\n",
    "LjY5Ni01LjQzNiAxMy40MDYtMTMuNTk0IDIuOC04LjM5OSAyLjY4LTE2LjQ3NiAwLTI3LjI1LTEu\n",
    "OTI1LTcuNzU4LTUuNjA0LTEzLjU5NC0xMy40MDYtMTMuNTk0ek03MC41NzUgOTMuMzEzYzIuNzgg\n",
    "MCA1LjAzMSAyLjI3OCA1LjAzMSA1LjA5NCAwIDIuODI3LTIuMjUxIDUuMTI1LTUuMDMxIDUuMTI1\n",
    "LTIuNzcgMC01LjAzMS0yLjI5OC01LjAzMS01LjEyNSAwLTIuODE2IDIuMjYxLTUuMDk0IDUuMDMx\n",
    "LTUuMDk0IiBzdHlsZT0iZmlsbDp1cmwoI2UpO2ZpbGwtb3BhY2l0eToxIi8+PGVsbGlwc2UgY3g9\n",
    "IjU1LjgxNyIgY3k9IjEyNy43MDEiIHJ4PSIzNS45MzEiIHJ5PSI2Ljk2NyIgc3R5bGU9Im9wYWNp\n",
    "dHk6LjQ0MzgyO2ZpbGw6dXJsKCNmKTtmaWxsLW9wYWNpdHk6MTtmaWxsLXJ1bGU6bm9uemVybztz\n",
    "dHJva2U6bm9uZTtzdHJva2Utd2lkdGg6MTUuNDE3NDtzdHJva2UtbWl0ZXJsaW1pdDo0O3N0cm9r\n",
    "ZS1kYXNoYXJyYXk6bm9uZTtzdHJva2Utb3BhY2l0eToxIi8+PC9zdmc+\n",
    "\"\n",
    "     style=\"display:block;margin:auto;width:10%\" alt=\"Python Logo\"/>\n",
    "<br>\n",
    "\n",
    "<div style=\"text-align:center; font-size:200%;\">\n",
    " <b>Kursdateien</b>\n",
    "</div>\n",
    "<br/>\n",
    "<div style=\"text-align:center;\">Dr. Matthias Hölzl</div>\n",
    "<br/>"
   ]
  },
  {
   "cell_type": "markdown",
   "id": "822defce9145e8b5",
   "metadata": {
    "lang": "de",
    "slideshow": {
     "slide_type": "subslide"
    },
    "tags": [
     "subslide"
    ]
   },
   "source": [
    "\n",
    "## GitHub\n",
    "\n",
    "- [GitHub Seite](https://github.com/Coding-Academy-Munich/python-clean-code-de)\n",
    "- [Git Repository](https://github.com/Coding-Academy-Munich/python-clean-code-de.git)\n",
    "- [Zip-Archiv](https://github.com/Coding-Academy-Munich/python-clean-code-de/archive/refs/heads/master.zip)"
   ]
  },
  {
   "cell_type": "markdown",
   "id": "1c4e90cf28c3d76b",
   "metadata": {
    "lang": "de",
    "slideshow": {
     "slide_type": "subslide"
    },
    "tags": [
     "subslide"
    ]
   },
   "source": [
    "\n",
    "## Clonen und Updaten des Git Repositories\n",
    "\n",
    "- Um das Git-Repository zu klonen, geben Sie folgendes Kommando in der\n",
    "  Kommandozeile ein:\n",
    "- `git clone https://github.com/Coding-Academy-Munich/python-clean-code-de.git`\n",
    "- Um auf die neuen Änderungen zuzugreifen, geben Sie z.B. folgendes Kommando in der\n",
    "  Kommandozeile ein:\n",
    "- `git add -A && git commit -m \"Update\" && git pull --rebase`\n",
    "- Andere Workflows sind genau so möglich\n",
    "- Entwicklungsumgebungen wie PyCharm oder Visual Studio Code haben Git-Integrationen"
   ]
  },
  {
   "cell_type": "markdown",
   "id": "96d9328086f1c178",
   "metadata": {
    "lang": "de",
    "slideshow": {
     "slide_type": "slide"
    },
    "tags": [
     "slide"
    ]
   },
   "source": [
    "\n",
    "## Herunterladen und Entpacken des Zip-Archivs\n",
    "\n",
    "- [Zip-Archiv](https://github.com/Coding-Academy-Munich/python-clean-code-de/archive/refs/heads/master.zip)\n",
    "- Entpacken Sie das Zip-Archiv, bevor Sie mit den Dateien arbeiten"
   ]
  },
  {
   "cell_type": "markdown",
   "id": "e39454b93e76717f",
   "metadata": {
    "lang": "de",
    "slideshow": {
     "slide_type": "subslide"
    },
    "tags": [
     "subslide"
    ]
   },
   "source": [
    "\n",
    "## JupyterHub\n",
    "\n",
    "- [Coding-Academy JupyterHub](https://jh1.mhoezl.de/)\n",
    "- Login mit dem Namen aus Ihrer Email (vor dem `@`) in Kleinbuchstaben\n",
    "- Beim ersten Login können Sie ein Passwort festlegen\n",
    "- Bitte merken Sie sich dieses Passwort, Sie können es nicht selber\n",
    "  zurücksetzen oder ändern\n",
    "- Kursmaterial: [GitPuller Link](https://jh1.mhoelzl.de/hub/user-redirect/git-pull?repo=https%3A%2F%2Fgithub.com%2FCoding-Academy-Munich%2Fpython-clean-code-de&urlpath=lab%2Ftree%2Fpython-clean-code-de%2FFolien%2FNotebooks%2FCode-Along%2FIntro%2F01+Herzlich+Willkommen.ipynb&branch=master)"
   ]
  },
  {
   "cell_type": "markdown",
   "id": "631778cac3705efa",
   "metadata": {
    "lang": "de",
    "slideshow": {
     "slide_type": "subslide"
    },
    "tags": [
     "subslide"
    ]
   },
   "source": [
    "\n",
    "## Struktur des Kurses\n",
    "\n",
    "- Top-level Ordner `folien` für die Folien\n",
    "- Unterrdner für verschiedene Dateiformate:\n",
    "  - `Html`: HTML-Dateien\n",
    "  - `Notebooks`: Jupyter Notebooks\n",
    "  - `Python`: Python Code mit Text der Folien als Kommentaren\n",
    "- Unterordner für Code-Alongs und vollständige Folien\n",
    "- Unterordner für Intro und jede der 4 Wochen des Kurses\n",
    "- Evtl. andere Top-level Ordner für zusätzliche Materialien"
   ]
  },
  {
   "cell_type": "markdown",
   "id": "5164d7090e4640dd",
   "metadata": {
    "lang": "de",
    "slideshow": {
     "slide_type": "subslide"
    },
    "tags": [
     "subslide"
    ]
   },
   "source": [
    "\n",
    "### Top-Level Ordner\n",
    "\n",
    "```\n",
    "Folien/\n",
    "├── Html\n",
    "│   ├── Code-Along\n",
    "│   │   ├── Intro\n",
    "│   │   └── Woche 1\n",
    "│   └── Completed\n",
    "│       ├── Intro\n",
    "│       └── Woche 1\n",
    "├── Notebooks\n",
    "│   ├── Code-Along\n",
    "│   │   ├── Intro\n",
    "│   │   └── Woche 1\n",
    "│   └── Completed\n",
    "│       ├── Intro\n",
    "│       └── Woche 1\n",
    "└── Python\n",
    "    ├── Code-Along\n",
    "    │   ├── Intro\n",
    "    │   └── Woche 1\n",
    "    └── Completed\n",
    "        ├── Intro\n",
    "        └── Woche 1\n",
    "```"
   ]
  },
  {
   "cell_type": "markdown",
   "id": "708ab2c4bd1cc74d",
   "metadata": {
    "lang": "de",
    "lines_to_next_cell": 2,
    "slideshow": {
     "slide_type": "subslide"
    },
    "tags": [
     "subslide"
    ]
   },
   "source": [
    "\n",
    "### Notebooks Unterordner\n",
    "\n",
    "```\n",
    "Notebooks/\n",
    "├── Code-Along\n",
    "│   ├── Intro\n",
    "│   │   ├── 01 Herzlich Willkommen.ipynb\n",
    "│   │   ├── 02 Kursdateien.ipynb\n",
    "│   └── Woche 1\n",
    "│       ├── 01 Einführung ins Testen.ipynb\n",
    "│       ├── 02 Klassifizierung von Tests.ipynb\n",
    "│       └── img\n",
    "└── Completed\n",
    "    ├── Intro\n",
    "    │   ├── 01 Herzlich Willkommen.ipynb\n",
    "    │   ├── 02 Kursdateien.ipynb\n",
    "    └── Woche 1\n",
    "        ├── 01 Einführung ins Testen.ipynb\n",
    "        ├── 02 Klassifizierung von Tests.ipynb\n",
    "        └── img\n",
    "```"
   ]
  }
 ],
 "metadata": {
  "jupytext": {
   "cell_metadata_filter": "lang,tags,-all",
   "main_language": "python",
   "notebook_metadata_filter": "-all"
  },
  "kernelspec": {
   "display_name": "Python 3 (ipykernel)",
   "language": "python",
   "name": "python3"
  },
  "language_info": {
   "codemirror_mode": {
    "name": "ipython",
    "version": 3
   },
   "file_extension": ".py",
   "mimetype": "text/x-python",
   "name": "python",
   "nbconvert_exporter": "python",
   "pygments_lexer": "ipython3",
   "version": "3.10.12"
  }
 },
 "nbformat": 4,
 "nbformat_minor": 5
}
